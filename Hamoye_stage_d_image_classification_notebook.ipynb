{
  "nbformat": 4,
  "nbformat_minor": 0,
  "metadata": {
    "kernelspec": {
      "name": "python3",
      "display_name": "Python 3",
      "language": "python"
    },
    "language_info": {
      "name": "python",
      "version": "3.7.6",
      "mimetype": "text/x-python",
      "codemirror_mode": {
        "name": "ipython",
        "version": 3
      },
      "pygments_lexer": "ipython3",
      "nbconvert_exporter": "python",
      "file_extension": ".py"
    },
    "colab": {
      "name": "Hamoye-stage-d-image-classification-notebook.ipynb",
      "provenance": [],
      "collapsed_sections": [
        "izgC4W2gV8LC",
        "cuj3okfmV8NP",
        "JG7RKSWSV8OH",
        "5evpNWVrV8Ot",
        "_qvJZhGhV8PP",
        "WxxLPUj1V8P3",
        "yRRayYFlV8QT",
        "wwsy7P5VV8Qd",
        "8rQLqwCIV8Qo",
        "Ff9Y_DXxV8Qy",
        "Llcz-CwqV8RZ",
        "-w-hw6aqV8Rn",
        "s0mC4R37V8Sr"
      ],
      "include_colab_link": true
    }
  },
  "cells": [
    {
      "cell_type": "markdown",
      "metadata": {
        "id": "view-in-github",
        "colab_type": "text"
      },
      "source": [
        "<a href=\"https://colab.research.google.com/github/Ademide-Ade/Adewale-Ademide-HDSC/blob/master/Hamoye_stage_d_image_classification_notebook.ipynb\" target=\"_parent\"><img src=\"https://colab.research.google.com/assets/colab-badge.svg\" alt=\"Open In Colab\"/></a>"
      ]
    },
    {
      "cell_type": "markdown",
      "metadata": {
        "id": "izgC4W2gV8LC"
      },
      "source": [
        "\n",
        "### Importing Data Preprocessing Python Libraries"
      ]
    },
    {
      "cell_type": "code",
      "metadata": {
        "trusted": true,
        "id": "bkQyncTaV8LE"
      },
      "source": [
        "import numpy as np\n",
        "import pandas as pd"
      ],
      "execution_count": null,
      "outputs": []
    },
    {
      "cell_type": "markdown",
      "metadata": {
        "id": "Z5mSX9gkV8LR"
      },
      "source": [
        "### Reading the Train Dataset to a DataFrame and Shape Correspondence"
      ]
    },
    {
      "cell_type": "code",
      "metadata": {
        "_uuid": "d629ff2d2480ee46fbb7e2d37f6b5fab8052498a",
        "_cell_guid": "79c7e3d0-c299-4dcb-8224-4455121ee9b0",
        "trusted": true,
        "id": "oBnA11lWV8LT",
        "outputId": "67653183-15c2-4bc6-83a5-77117d1d9e92"
      },
      "source": [
        "train_class_df = pd.read_csv('../input/planets-dataset/planet/planet/train_classes.csv')\n",
        "train_class_df.head()"
      ],
      "execution_count": null,
      "outputs": [
        {
          "output_type": "execute_result",
          "data": {
            "text/plain": [
              "  image_name                                       tags\n",
              "0    train_0                               haze primary\n",
              "1    train_1            agriculture clear primary water\n",
              "2    train_2                              clear primary\n",
              "3    train_3                              clear primary\n",
              "4    train_4  agriculture clear habitation primary road"
            ],
            "text/html": [
              "<div>\n",
              "<style scoped>\n",
              "    .dataframe tbody tr th:only-of-type {\n",
              "        vertical-align: middle;\n",
              "    }\n",
              "\n",
              "    .dataframe tbody tr th {\n",
              "        vertical-align: top;\n",
              "    }\n",
              "\n",
              "    .dataframe thead th {\n",
              "        text-align: right;\n",
              "    }\n",
              "</style>\n",
              "<table border=\"1\" class=\"dataframe\">\n",
              "  <thead>\n",
              "    <tr style=\"text-align: right;\">\n",
              "      <th></th>\n",
              "      <th>image_name</th>\n",
              "      <th>tags</th>\n",
              "    </tr>\n",
              "  </thead>\n",
              "  <tbody>\n",
              "    <tr>\n",
              "      <th>0</th>\n",
              "      <td>train_0</td>\n",
              "      <td>haze primary</td>\n",
              "    </tr>\n",
              "    <tr>\n",
              "      <th>1</th>\n",
              "      <td>train_1</td>\n",
              "      <td>agriculture clear primary water</td>\n",
              "    </tr>\n",
              "    <tr>\n",
              "      <th>2</th>\n",
              "      <td>train_2</td>\n",
              "      <td>clear primary</td>\n",
              "    </tr>\n",
              "    <tr>\n",
              "      <th>3</th>\n",
              "      <td>train_3</td>\n",
              "      <td>clear primary</td>\n",
              "    </tr>\n",
              "    <tr>\n",
              "      <th>4</th>\n",
              "      <td>train_4</td>\n",
              "      <td>agriculture clear habitation primary road</td>\n",
              "    </tr>\n",
              "  </tbody>\n",
              "</table>\n",
              "</div>"
            ]
          },
          "metadata": {
            "tags": []
          },
          "execution_count": 4
        }
      ]
    },
    {
      "cell_type": "code",
      "metadata": {
        "trusted": true,
        "id": "j_1aXNcCV8Lb"
      },
      "source": [
        "train = !ls ../input/planets-dataset/planet/planet/train-jpg | wc -l"
      ],
      "execution_count": null,
      "outputs": []
    },
    {
      "cell_type": "code",
      "metadata": {
        "trusted": true,
        "id": "2EmprG6GV8Lp",
        "outputId": "e1e2d8e1-cedf-4178-bac5-df9fe3937544"
      },
      "source": [
        "train_class_df.shape"
      ],
      "execution_count": null,
      "outputs": [
        {
          "output_type": "execute_result",
          "data": {
            "text/plain": [
              "(40479, 2)"
            ]
          },
          "metadata": {
            "tags": []
          },
          "execution_count": 6
        }
      ]
    },
    {
      "cell_type": "code",
      "metadata": {
        "trusted": true,
        "id": "Nmk8S7LrV8L2"
      },
      "source": [
        "assert train_class_df.shape[0] == float(train[0])"
      ],
      "execution_count": null,
      "outputs": []
    },
    {
      "cell_type": "markdown",
      "metadata": {
        "id": "OeDKokAtV8ME"
      },
      "source": [
        "### Reading the Test Dataset to a DataFrame & Shape Correspondence"
      ]
    },
    {
      "cell_type": "code",
      "metadata": {
        "trusted": true,
        "id": "PFAzowarV8MG",
        "outputId": "70c66f80-7ce5-4e9c-df45-3a69703182ec"
      },
      "source": [
        "sample_sub_df = pd.read_csv('../input/planets-dataset/planet/planet/sample_submission.csv')\n",
        "sample_sub_df.head()"
      ],
      "execution_count": null,
      "outputs": [
        {
          "output_type": "execute_result",
          "data": {
            "text/plain": [
              "  image_name                                  tags\n",
              "0     test_0  primary clear agriculture road water\n",
              "1     test_1  primary clear agriculture road water\n",
              "2     test_2  primary clear agriculture road water\n",
              "3     test_3  primary clear agriculture road water\n",
              "4     test_4  primary clear agriculture road water"
            ],
            "text/html": [
              "<div>\n",
              "<style scoped>\n",
              "    .dataframe tbody tr th:only-of-type {\n",
              "        vertical-align: middle;\n",
              "    }\n",
              "\n",
              "    .dataframe tbody tr th {\n",
              "        vertical-align: top;\n",
              "    }\n",
              "\n",
              "    .dataframe thead th {\n",
              "        text-align: right;\n",
              "    }\n",
              "</style>\n",
              "<table border=\"1\" class=\"dataframe\">\n",
              "  <thead>\n",
              "    <tr style=\"text-align: right;\">\n",
              "      <th></th>\n",
              "      <th>image_name</th>\n",
              "      <th>tags</th>\n",
              "    </tr>\n",
              "  </thead>\n",
              "  <tbody>\n",
              "    <tr>\n",
              "      <th>0</th>\n",
              "      <td>test_0</td>\n",
              "      <td>primary clear agriculture road water</td>\n",
              "    </tr>\n",
              "    <tr>\n",
              "      <th>1</th>\n",
              "      <td>test_1</td>\n",
              "      <td>primary clear agriculture road water</td>\n",
              "    </tr>\n",
              "    <tr>\n",
              "      <th>2</th>\n",
              "      <td>test_2</td>\n",
              "      <td>primary clear agriculture road water</td>\n",
              "    </tr>\n",
              "    <tr>\n",
              "      <th>3</th>\n",
              "      <td>test_3</td>\n",
              "      <td>primary clear agriculture road water</td>\n",
              "    </tr>\n",
              "    <tr>\n",
              "      <th>4</th>\n",
              "      <td>test_4</td>\n",
              "      <td>primary clear agriculture road water</td>\n",
              "    </tr>\n",
              "  </tbody>\n",
              "</table>\n",
              "</div>"
            ]
          },
          "metadata": {
            "tags": []
          },
          "execution_count": 8
        }
      ]
    },
    {
      "cell_type": "code",
      "metadata": {
        "trusted": true,
        "id": "q76r-gbnV8MQ"
      },
      "source": [
        "test1 = !ls ../input/planets-dataset/planet/planet/test-jpg | wc -l\n",
        "test2 = !ls ../input/planets-dataset/test-jpg-additional/test-jpg-additional | wc -l"
      ],
      "execution_count": null,
      "outputs": []
    },
    {
      "cell_type": "code",
      "metadata": {
        "trusted": true,
        "id": "SIzjBEIEV8MX",
        "outputId": "3b9d1144-5b25-43c1-a859-1f2a7e97698a"
      },
      "source": [
        "test1"
      ],
      "execution_count": null,
      "outputs": [
        {
          "output_type": "execute_result",
          "data": {
            "text/plain": [
              "['40669']"
            ]
          },
          "metadata": {
            "tags": []
          },
          "execution_count": 10
        }
      ]
    },
    {
      "cell_type": "code",
      "metadata": {
        "trusted": true,
        "id": "YO7i_NziV8Mj",
        "outputId": "64b5e84d-03fb-458a-a4f0-a3a7ad494afa"
      },
      "source": [
        "test2"
      ],
      "execution_count": null,
      "outputs": [
        {
          "output_type": "execute_result",
          "data": {
            "text/plain": [
              "['20522']"
            ]
          },
          "metadata": {
            "tags": []
          },
          "execution_count": 11
        }
      ]
    },
    {
      "cell_type": "code",
      "metadata": {
        "trusted": true,
        "id": "HNjZkHe_V8M0",
        "outputId": "716ec301-b4df-4bbf-85d6-e35c8f6faa29"
      },
      "source": [
        "[40669 + 20522]"
      ],
      "execution_count": null,
      "outputs": [
        {
          "output_type": "execute_result",
          "data": {
            "text/plain": [
              "[61191]"
            ]
          },
          "metadata": {
            "tags": []
          },
          "execution_count": 12
        }
      ]
    },
    {
      "cell_type": "code",
      "metadata": {
        "trusted": true,
        "id": "Ix_lMQbqV8M8",
        "outputId": "9486a98b-8068-4851-d6de-c80576e470a7"
      },
      "source": [
        "sample_sub_df.shape"
      ],
      "execution_count": null,
      "outputs": [
        {
          "output_type": "execute_result",
          "data": {
            "text/plain": [
              "(61191, 2)"
            ]
          },
          "metadata": {
            "tags": []
          },
          "execution_count": 13
        }
      ]
    },
    {
      "cell_type": "code",
      "metadata": {
        "trusted": true,
        "id": "vyz7qLJFV8NF"
      },
      "source": [
        "assert sample_sub_df.shape[0] == float(test1[0])+float(test2[0])"
      ],
      "execution_count": null,
      "outputs": []
    },
    {
      "cell_type": "markdown",
      "metadata": {
        "id": "cuj3okfmV8NP"
      },
      "source": [
        "### Identifing Training Set Unique Labels With Encoding"
      ]
    },
    {
      "cell_type": "code",
      "metadata": {
        "trusted": true,
        "id": "p1IqgJPJV8NR",
        "outputId": "e4520f7a-a2ba-48f0-b243-394af08dc3bb"
      },
      "source": [
        "tags = list(train_class_df['tags'])\n",
        "unique_train_tag = set()\n",
        "for tag in tags:\n",
        "    for name in tag.split():\n",
        "        unique_train_tag.add(name)\n",
        "unique_train_tag = list(unique_train_tag)\n",
        "print(len(unique_train_tag))\n",
        "print(unique_train_tag)"
      ],
      "execution_count": null,
      "outputs": [
        {
          "output_type": "stream",
          "text": [
            "17\n",
            "['cloudy', 'haze', 'agriculture', 'clear', 'artisinal_mine', 'road', 'blooming', 'habitation', 'partly_cloudy', 'primary', 'bare_ground', 'water', 'slash_burn', 'blow_down', 'selective_logging', 'cultivation', 'conventional_mine']\n"
          ],
          "name": "stdout"
        }
      ]
    },
    {
      "cell_type": "code",
      "metadata": {
        "trusted": true,
        "id": "C6TWN2bKV8Nc",
        "outputId": "b356945d-f63e-4041-d479-a84bf678a322"
      },
      "source": [
        "train_class = train_class_df\n",
        "train_class['image_name'].unique()"
      ],
      "execution_count": null,
      "outputs": [
        {
          "output_type": "execute_result",
          "data": {
            "text/plain": [
              "array(['train_0', 'train_1', 'train_2', ..., 'train_40476', 'train_40477',\n",
              "       'train_40478'], dtype=object)"
            ]
          },
          "metadata": {
            "tags": []
          },
          "execution_count": 16
        }
      ]
    },
    {
      "cell_type": "code",
      "metadata": {
        "trusted": true,
        "id": "XmOtNDFDV8Nn"
      },
      "source": [
        "assert len(train_class['image_name'].unique()) == train_class.shape[0]"
      ],
      "execution_count": null,
      "outputs": []
    },
    {
      "cell_type": "code",
      "metadata": {
        "trusted": true,
        "id": "KAopzcG4V8N4",
        "outputId": "20107ca9-c822-48d4-aba8-3fc92c042ff7"
      },
      "source": [
        "# Using one hot encoding (vectorizationing) the labels in 'train_class'\n",
        "for tag in unique_train_tag:\n",
        "    train_class[tag] = train_class['tags'].apply(lambda x: 1 if tag in x.split() else 0)\n",
        "train_class.head()"
      ],
      "execution_count": null,
      "outputs": [
        {
          "output_type": "execute_result",
          "data": {
            "text/plain": [
              "  image_name                                       tags  cloudy  haze  \\\n",
              "0    train_0                               haze primary       0     1   \n",
              "1    train_1            agriculture clear primary water       0     0   \n",
              "2    train_2                              clear primary       0     0   \n",
              "3    train_3                              clear primary       0     0   \n",
              "4    train_4  agriculture clear habitation primary road       0     0   \n",
              "\n",
              "   agriculture  clear  artisinal_mine  road  blooming  habitation  \\\n",
              "0            0      0               0     0         0           0   \n",
              "1            1      1               0     0         0           0   \n",
              "2            0      1               0     0         0           0   \n",
              "3            0      1               0     0         0           0   \n",
              "4            1      1               0     1         0           1   \n",
              "\n",
              "   partly_cloudy  primary  bare_ground  water  slash_burn  blow_down  \\\n",
              "0              0        1            0      0           0          0   \n",
              "1              0        1            0      1           0          0   \n",
              "2              0        1            0      0           0          0   \n",
              "3              0        1            0      0           0          0   \n",
              "4              0        1            0      0           0          0   \n",
              "\n",
              "   selective_logging  cultivation  conventional_mine  \n",
              "0                  0            0                  0  \n",
              "1                  0            0                  0  \n",
              "2                  0            0                  0  \n",
              "3                  0            0                  0  \n",
              "4                  0            0                  0  "
            ],
            "text/html": [
              "<div>\n",
              "<style scoped>\n",
              "    .dataframe tbody tr th:only-of-type {\n",
              "        vertical-align: middle;\n",
              "    }\n",
              "\n",
              "    .dataframe tbody tr th {\n",
              "        vertical-align: top;\n",
              "    }\n",
              "\n",
              "    .dataframe thead th {\n",
              "        text-align: right;\n",
              "    }\n",
              "</style>\n",
              "<table border=\"1\" class=\"dataframe\">\n",
              "  <thead>\n",
              "    <tr style=\"text-align: right;\">\n",
              "      <th></th>\n",
              "      <th>image_name</th>\n",
              "      <th>tags</th>\n",
              "      <th>cloudy</th>\n",
              "      <th>haze</th>\n",
              "      <th>agriculture</th>\n",
              "      <th>clear</th>\n",
              "      <th>artisinal_mine</th>\n",
              "      <th>road</th>\n",
              "      <th>blooming</th>\n",
              "      <th>habitation</th>\n",
              "      <th>partly_cloudy</th>\n",
              "      <th>primary</th>\n",
              "      <th>bare_ground</th>\n",
              "      <th>water</th>\n",
              "      <th>slash_burn</th>\n",
              "      <th>blow_down</th>\n",
              "      <th>selective_logging</th>\n",
              "      <th>cultivation</th>\n",
              "      <th>conventional_mine</th>\n",
              "    </tr>\n",
              "  </thead>\n",
              "  <tbody>\n",
              "    <tr>\n",
              "      <th>0</th>\n",
              "      <td>train_0</td>\n",
              "      <td>haze primary</td>\n",
              "      <td>0</td>\n",
              "      <td>1</td>\n",
              "      <td>0</td>\n",
              "      <td>0</td>\n",
              "      <td>0</td>\n",
              "      <td>0</td>\n",
              "      <td>0</td>\n",
              "      <td>0</td>\n",
              "      <td>0</td>\n",
              "      <td>1</td>\n",
              "      <td>0</td>\n",
              "      <td>0</td>\n",
              "      <td>0</td>\n",
              "      <td>0</td>\n",
              "      <td>0</td>\n",
              "      <td>0</td>\n",
              "      <td>0</td>\n",
              "    </tr>\n",
              "    <tr>\n",
              "      <th>1</th>\n",
              "      <td>train_1</td>\n",
              "      <td>agriculture clear primary water</td>\n",
              "      <td>0</td>\n",
              "      <td>0</td>\n",
              "      <td>1</td>\n",
              "      <td>1</td>\n",
              "      <td>0</td>\n",
              "      <td>0</td>\n",
              "      <td>0</td>\n",
              "      <td>0</td>\n",
              "      <td>0</td>\n",
              "      <td>1</td>\n",
              "      <td>0</td>\n",
              "      <td>1</td>\n",
              "      <td>0</td>\n",
              "      <td>0</td>\n",
              "      <td>0</td>\n",
              "      <td>0</td>\n",
              "      <td>0</td>\n",
              "    </tr>\n",
              "    <tr>\n",
              "      <th>2</th>\n",
              "      <td>train_2</td>\n",
              "      <td>clear primary</td>\n",
              "      <td>0</td>\n",
              "      <td>0</td>\n",
              "      <td>0</td>\n",
              "      <td>1</td>\n",
              "      <td>0</td>\n",
              "      <td>0</td>\n",
              "      <td>0</td>\n",
              "      <td>0</td>\n",
              "      <td>0</td>\n",
              "      <td>1</td>\n",
              "      <td>0</td>\n",
              "      <td>0</td>\n",
              "      <td>0</td>\n",
              "      <td>0</td>\n",
              "      <td>0</td>\n",
              "      <td>0</td>\n",
              "      <td>0</td>\n",
              "    </tr>\n",
              "    <tr>\n",
              "      <th>3</th>\n",
              "      <td>train_3</td>\n",
              "      <td>clear primary</td>\n",
              "      <td>0</td>\n",
              "      <td>0</td>\n",
              "      <td>0</td>\n",
              "      <td>1</td>\n",
              "      <td>0</td>\n",
              "      <td>0</td>\n",
              "      <td>0</td>\n",
              "      <td>0</td>\n",
              "      <td>0</td>\n",
              "      <td>1</td>\n",
              "      <td>0</td>\n",
              "      <td>0</td>\n",
              "      <td>0</td>\n",
              "      <td>0</td>\n",
              "      <td>0</td>\n",
              "      <td>0</td>\n",
              "      <td>0</td>\n",
              "    </tr>\n",
              "    <tr>\n",
              "      <th>4</th>\n",
              "      <td>train_4</td>\n",
              "      <td>agriculture clear habitation primary road</td>\n",
              "      <td>0</td>\n",
              "      <td>0</td>\n",
              "      <td>1</td>\n",
              "      <td>1</td>\n",
              "      <td>0</td>\n",
              "      <td>1</td>\n",
              "      <td>0</td>\n",
              "      <td>1</td>\n",
              "      <td>0</td>\n",
              "      <td>1</td>\n",
              "      <td>0</td>\n",
              "      <td>0</td>\n",
              "      <td>0</td>\n",
              "      <td>0</td>\n",
              "      <td>0</td>\n",
              "      <td>0</td>\n",
              "      <td>0</td>\n",
              "    </tr>\n",
              "  </tbody>\n",
              "</table>\n",
              "</div>"
            ]
          },
          "metadata": {
            "tags": []
          },
          "execution_count": 18
        }
      ]
    },
    {
      "cell_type": "code",
      "metadata": {
        "trusted": true,
        "id": "4tzwruJPV8N-",
        "outputId": "1e362f60-ca37-4807-bb9f-46d09461065b"
      },
      "source": [
        "# Making the image name carry '.jpg' extension\n",
        "train_class['image_name'] = train_class['image_name'].apply(lambda x: '{}.jpg'.format(x)) \n",
        "train_class.head()"
      ],
      "execution_count": null,
      "outputs": [
        {
          "output_type": "execute_result",
          "data": {
            "text/plain": [
              "    image_name                                       tags  cloudy  haze  \\\n",
              "0  train_0.jpg                               haze primary       0     1   \n",
              "1  train_1.jpg            agriculture clear primary water       0     0   \n",
              "2  train_2.jpg                              clear primary       0     0   \n",
              "3  train_3.jpg                              clear primary       0     0   \n",
              "4  train_4.jpg  agriculture clear habitation primary road       0     0   \n",
              "\n",
              "   agriculture  clear  artisinal_mine  road  blooming  habitation  \\\n",
              "0            0      0               0     0         0           0   \n",
              "1            1      1               0     0         0           0   \n",
              "2            0      1               0     0         0           0   \n",
              "3            0      1               0     0         0           0   \n",
              "4            1      1               0     1         0           1   \n",
              "\n",
              "   partly_cloudy  primary  bare_ground  water  slash_burn  blow_down  \\\n",
              "0              0        1            0      0           0          0   \n",
              "1              0        1            0      1           0          0   \n",
              "2              0        1            0      0           0          0   \n",
              "3              0        1            0      0           0          0   \n",
              "4              0        1            0      0           0          0   \n",
              "\n",
              "   selective_logging  cultivation  conventional_mine  \n",
              "0                  0            0                  0  \n",
              "1                  0            0                  0  \n",
              "2                  0            0                  0  \n",
              "3                  0            0                  0  \n",
              "4                  0            0                  0  "
            ],
            "text/html": [
              "<div>\n",
              "<style scoped>\n",
              "    .dataframe tbody tr th:only-of-type {\n",
              "        vertical-align: middle;\n",
              "    }\n",
              "\n",
              "    .dataframe tbody tr th {\n",
              "        vertical-align: top;\n",
              "    }\n",
              "\n",
              "    .dataframe thead th {\n",
              "        text-align: right;\n",
              "    }\n",
              "</style>\n",
              "<table border=\"1\" class=\"dataframe\">\n",
              "  <thead>\n",
              "    <tr style=\"text-align: right;\">\n",
              "      <th></th>\n",
              "      <th>image_name</th>\n",
              "      <th>tags</th>\n",
              "      <th>cloudy</th>\n",
              "      <th>haze</th>\n",
              "      <th>agriculture</th>\n",
              "      <th>clear</th>\n",
              "      <th>artisinal_mine</th>\n",
              "      <th>road</th>\n",
              "      <th>blooming</th>\n",
              "      <th>habitation</th>\n",
              "      <th>partly_cloudy</th>\n",
              "      <th>primary</th>\n",
              "      <th>bare_ground</th>\n",
              "      <th>water</th>\n",
              "      <th>slash_burn</th>\n",
              "      <th>blow_down</th>\n",
              "      <th>selective_logging</th>\n",
              "      <th>cultivation</th>\n",
              "      <th>conventional_mine</th>\n",
              "    </tr>\n",
              "  </thead>\n",
              "  <tbody>\n",
              "    <tr>\n",
              "      <th>0</th>\n",
              "      <td>train_0.jpg</td>\n",
              "      <td>haze primary</td>\n",
              "      <td>0</td>\n",
              "      <td>1</td>\n",
              "      <td>0</td>\n",
              "      <td>0</td>\n",
              "      <td>0</td>\n",
              "      <td>0</td>\n",
              "      <td>0</td>\n",
              "      <td>0</td>\n",
              "      <td>0</td>\n",
              "      <td>1</td>\n",
              "      <td>0</td>\n",
              "      <td>0</td>\n",
              "      <td>0</td>\n",
              "      <td>0</td>\n",
              "      <td>0</td>\n",
              "      <td>0</td>\n",
              "      <td>0</td>\n",
              "    </tr>\n",
              "    <tr>\n",
              "      <th>1</th>\n",
              "      <td>train_1.jpg</td>\n",
              "      <td>agriculture clear primary water</td>\n",
              "      <td>0</td>\n",
              "      <td>0</td>\n",
              "      <td>1</td>\n",
              "      <td>1</td>\n",
              "      <td>0</td>\n",
              "      <td>0</td>\n",
              "      <td>0</td>\n",
              "      <td>0</td>\n",
              "      <td>0</td>\n",
              "      <td>1</td>\n",
              "      <td>0</td>\n",
              "      <td>1</td>\n",
              "      <td>0</td>\n",
              "      <td>0</td>\n",
              "      <td>0</td>\n",
              "      <td>0</td>\n",
              "      <td>0</td>\n",
              "    </tr>\n",
              "    <tr>\n",
              "      <th>2</th>\n",
              "      <td>train_2.jpg</td>\n",
              "      <td>clear primary</td>\n",
              "      <td>0</td>\n",
              "      <td>0</td>\n",
              "      <td>0</td>\n",
              "      <td>1</td>\n",
              "      <td>0</td>\n",
              "      <td>0</td>\n",
              "      <td>0</td>\n",
              "      <td>0</td>\n",
              "      <td>0</td>\n",
              "      <td>1</td>\n",
              "      <td>0</td>\n",
              "      <td>0</td>\n",
              "      <td>0</td>\n",
              "      <td>0</td>\n",
              "      <td>0</td>\n",
              "      <td>0</td>\n",
              "      <td>0</td>\n",
              "    </tr>\n",
              "    <tr>\n",
              "      <th>3</th>\n",
              "      <td>train_3.jpg</td>\n",
              "      <td>clear primary</td>\n",
              "      <td>0</td>\n",
              "      <td>0</td>\n",
              "      <td>0</td>\n",
              "      <td>1</td>\n",
              "      <td>0</td>\n",
              "      <td>0</td>\n",
              "      <td>0</td>\n",
              "      <td>0</td>\n",
              "      <td>0</td>\n",
              "      <td>1</td>\n",
              "      <td>0</td>\n",
              "      <td>0</td>\n",
              "      <td>0</td>\n",
              "      <td>0</td>\n",
              "      <td>0</td>\n",
              "      <td>0</td>\n",
              "      <td>0</td>\n",
              "    </tr>\n",
              "    <tr>\n",
              "      <th>4</th>\n",
              "      <td>train_4.jpg</td>\n",
              "      <td>agriculture clear habitation primary road</td>\n",
              "      <td>0</td>\n",
              "      <td>0</td>\n",
              "      <td>1</td>\n",
              "      <td>1</td>\n",
              "      <td>0</td>\n",
              "      <td>1</td>\n",
              "      <td>0</td>\n",
              "      <td>1</td>\n",
              "      <td>0</td>\n",
              "      <td>1</td>\n",
              "      <td>0</td>\n",
              "      <td>0</td>\n",
              "      <td>0</td>\n",
              "      <td>0</td>\n",
              "      <td>0</td>\n",
              "      <td>0</td>\n",
              "      <td>0</td>\n",
              "    </tr>\n",
              "  </tbody>\n",
              "</table>\n",
              "</div>"
            ]
          },
          "metadata": {
            "tags": []
          },
          "execution_count": 19
        }
      ]
    },
    {
      "cell_type": "markdown",
      "metadata": {
        "id": "JG7RKSWSV8OH"
      },
      "source": [
        "### Identifing Testing Set Unique Labels With Encoding"
      ]
    },
    {
      "cell_type": "code",
      "metadata": {
        "trusted": true,
        "id": "MJrEduCwV8OI",
        "outputId": "b66d3177-ea38-4607-d82b-f902729edc76"
      },
      "source": [
        "tags = list(sample_sub_df['tags'])\n",
        "unique_test_tag = set()\n",
        "for tag in tags:\n",
        "    for name in tag.split():\n",
        "        unique_test_tag.add(name)\n",
        "unique_test_tag = list(unique_test_tag)\n",
        "print(len(unique_test_tag))\n",
        "print(unique_test_tag)"
      ],
      "execution_count": null,
      "outputs": [
        {
          "output_type": "stream",
          "text": [
            "5\n",
            "['agriculture', 'clear', 'road', 'primary', 'water']\n"
          ],
          "name": "stdout"
        }
      ]
    },
    {
      "cell_type": "code",
      "metadata": {
        "trusted": true,
        "id": "YrEK92LdV8OO",
        "outputId": "37f8b235-231a-4624-f20c-d690d79b0615"
      },
      "source": [
        "test_class = sample_sub_df\n",
        "test_class['image_name'].unique()"
      ],
      "execution_count": null,
      "outputs": [
        {
          "output_type": "execute_result",
          "data": {
            "text/plain": [
              "array(['test_0', 'test_1', 'test_2', ..., 'file_9997', 'file_9998',\n",
              "       'file_9999'], dtype=object)"
            ]
          },
          "metadata": {
            "tags": []
          },
          "execution_count": 21
        }
      ]
    },
    {
      "cell_type": "code",
      "metadata": {
        "trusted": true,
        "id": "NdGrRVTeV8Oc"
      },
      "source": [
        "assert len(test_class['image_name'].unique()) == test_class.shape[0]"
      ],
      "execution_count": null,
      "outputs": []
    },
    {
      "cell_type": "code",
      "metadata": {
        "trusted": true,
        "id": "vop6C_-kV8Oh",
        "outputId": "871bf458-3385-418a-bff2-1a2a9ce30e1b"
      },
      "source": [
        "# Using one hot encoding (vectorizationing) the labels in 'test_class'\n",
        "for tag in unique_test_tag:\n",
        "    test_class[tag] = test_class['tags'].apply(lambda x: 1 if tag in x.split() else 0)\n",
        "test_class.sample(30)"
      ],
      "execution_count": null,
      "outputs": [
        {
          "output_type": "execute_result",
          "data": {
            "text/plain": [
              "       image_name                                  tags  agriculture  clear  \\\n",
              "39998  test_39998  primary clear agriculture road water            1      1   \n",
              "30770  test_30770  primary clear agriculture road water            1      1   \n",
              "16200  test_16200  primary clear agriculture road water            1      1   \n",
              "52292  file_20458  primary clear agriculture road water            1      1   \n",
              "16407  test_16407  primary clear agriculture road water            1      1   \n",
              "55550   file_4921  primary clear agriculture road water            1      1   \n",
              "41507  file_10751  primary clear agriculture road water            1      1   \n",
              "15204  test_15204  primary clear agriculture road water            1      1   \n",
              "27079  test_27079  primary clear agriculture road water            1      1   \n",
              "26131  test_26131  primary clear agriculture road water            1      1   \n",
              "25925  test_25925  primary clear agriculture road water            1      1   \n",
              "28044  test_28044  primary clear agriculture road water            1      1   \n",
              "2269    test_2269  primary clear agriculture road water            1      1   \n",
              "45661  file_14490  primary clear agriculture road water            1      1   \n",
              "8646    test_8646  primary clear agriculture road water            1      1   \n",
              "27131  test_27131  primary clear agriculture road water            1      1   \n",
              "50591  file_18928  primary clear agriculture road water            1      1   \n",
              "46702  file_15427  primary clear agriculture road water            1      1   \n",
              "60277   file_9176  primary clear agriculture road water            1      1   \n",
              "40786  file_10101  primary clear agriculture road water            1      1   \n",
              "3258    test_3258  primary clear agriculture road water            1      1   \n",
              "47478  file_16125  primary clear agriculture road water            1      1   \n",
              "53672   file_3230  primary clear agriculture road water            1      1   \n",
              "59297   file_8294  primary clear agriculture road water            1      1   \n",
              "24092  test_24092  primary clear agriculture road water            1      1   \n",
              "45082   file_1397  primary clear agriculture road water            1      1   \n",
              "55993    file_532  primary clear agriculture road water            1      1   \n",
              "28634  test_28634  primary clear agriculture road water            1      1   \n",
              "54481    file_396  primary clear agriculture road water            1      1   \n",
              "15580  test_15580  primary clear agriculture road water            1      1   \n",
              "\n",
              "       road  primary  water  \n",
              "39998     1        1      1  \n",
              "30770     1        1      1  \n",
              "16200     1        1      1  \n",
              "52292     1        1      1  \n",
              "16407     1        1      1  \n",
              "55550     1        1      1  \n",
              "41507     1        1      1  \n",
              "15204     1        1      1  \n",
              "27079     1        1      1  \n",
              "26131     1        1      1  \n",
              "25925     1        1      1  \n",
              "28044     1        1      1  \n",
              "2269      1        1      1  \n",
              "45661     1        1      1  \n",
              "8646      1        1      1  \n",
              "27131     1        1      1  \n",
              "50591     1        1      1  \n",
              "46702     1        1      1  \n",
              "60277     1        1      1  \n",
              "40786     1        1      1  \n",
              "3258      1        1      1  \n",
              "47478     1        1      1  \n",
              "53672     1        1      1  \n",
              "59297     1        1      1  \n",
              "24092     1        1      1  \n",
              "45082     1        1      1  \n",
              "55993     1        1      1  \n",
              "28634     1        1      1  \n",
              "54481     1        1      1  \n",
              "15580     1        1      1  "
            ],
            "text/html": [
              "<div>\n",
              "<style scoped>\n",
              "    .dataframe tbody tr th:only-of-type {\n",
              "        vertical-align: middle;\n",
              "    }\n",
              "\n",
              "    .dataframe tbody tr th {\n",
              "        vertical-align: top;\n",
              "    }\n",
              "\n",
              "    .dataframe thead th {\n",
              "        text-align: right;\n",
              "    }\n",
              "</style>\n",
              "<table border=\"1\" class=\"dataframe\">\n",
              "  <thead>\n",
              "    <tr style=\"text-align: right;\">\n",
              "      <th></th>\n",
              "      <th>image_name</th>\n",
              "      <th>tags</th>\n",
              "      <th>agriculture</th>\n",
              "      <th>clear</th>\n",
              "      <th>road</th>\n",
              "      <th>primary</th>\n",
              "      <th>water</th>\n",
              "    </tr>\n",
              "  </thead>\n",
              "  <tbody>\n",
              "    <tr>\n",
              "      <th>39998</th>\n",
              "      <td>test_39998</td>\n",
              "      <td>primary clear agriculture road water</td>\n",
              "      <td>1</td>\n",
              "      <td>1</td>\n",
              "      <td>1</td>\n",
              "      <td>1</td>\n",
              "      <td>1</td>\n",
              "    </tr>\n",
              "    <tr>\n",
              "      <th>30770</th>\n",
              "      <td>test_30770</td>\n",
              "      <td>primary clear agriculture road water</td>\n",
              "      <td>1</td>\n",
              "      <td>1</td>\n",
              "      <td>1</td>\n",
              "      <td>1</td>\n",
              "      <td>1</td>\n",
              "    </tr>\n",
              "    <tr>\n",
              "      <th>16200</th>\n",
              "      <td>test_16200</td>\n",
              "      <td>primary clear agriculture road water</td>\n",
              "      <td>1</td>\n",
              "      <td>1</td>\n",
              "      <td>1</td>\n",
              "      <td>1</td>\n",
              "      <td>1</td>\n",
              "    </tr>\n",
              "    <tr>\n",
              "      <th>52292</th>\n",
              "      <td>file_20458</td>\n",
              "      <td>primary clear agriculture road water</td>\n",
              "      <td>1</td>\n",
              "      <td>1</td>\n",
              "      <td>1</td>\n",
              "      <td>1</td>\n",
              "      <td>1</td>\n",
              "    </tr>\n",
              "    <tr>\n",
              "      <th>16407</th>\n",
              "      <td>test_16407</td>\n",
              "      <td>primary clear agriculture road water</td>\n",
              "      <td>1</td>\n",
              "      <td>1</td>\n",
              "      <td>1</td>\n",
              "      <td>1</td>\n",
              "      <td>1</td>\n",
              "    </tr>\n",
              "    <tr>\n",
              "      <th>55550</th>\n",
              "      <td>file_4921</td>\n",
              "      <td>primary clear agriculture road water</td>\n",
              "      <td>1</td>\n",
              "      <td>1</td>\n",
              "      <td>1</td>\n",
              "      <td>1</td>\n",
              "      <td>1</td>\n",
              "    </tr>\n",
              "    <tr>\n",
              "      <th>41507</th>\n",
              "      <td>file_10751</td>\n",
              "      <td>primary clear agriculture road water</td>\n",
              "      <td>1</td>\n",
              "      <td>1</td>\n",
              "      <td>1</td>\n",
              "      <td>1</td>\n",
              "      <td>1</td>\n",
              "    </tr>\n",
              "    <tr>\n",
              "      <th>15204</th>\n",
              "      <td>test_15204</td>\n",
              "      <td>primary clear agriculture road water</td>\n",
              "      <td>1</td>\n",
              "      <td>1</td>\n",
              "      <td>1</td>\n",
              "      <td>1</td>\n",
              "      <td>1</td>\n",
              "    </tr>\n",
              "    <tr>\n",
              "      <th>27079</th>\n",
              "      <td>test_27079</td>\n",
              "      <td>primary clear agriculture road water</td>\n",
              "      <td>1</td>\n",
              "      <td>1</td>\n",
              "      <td>1</td>\n",
              "      <td>1</td>\n",
              "      <td>1</td>\n",
              "    </tr>\n",
              "    <tr>\n",
              "      <th>26131</th>\n",
              "      <td>test_26131</td>\n",
              "      <td>primary clear agriculture road water</td>\n",
              "      <td>1</td>\n",
              "      <td>1</td>\n",
              "      <td>1</td>\n",
              "      <td>1</td>\n",
              "      <td>1</td>\n",
              "    </tr>\n",
              "    <tr>\n",
              "      <th>25925</th>\n",
              "      <td>test_25925</td>\n",
              "      <td>primary clear agriculture road water</td>\n",
              "      <td>1</td>\n",
              "      <td>1</td>\n",
              "      <td>1</td>\n",
              "      <td>1</td>\n",
              "      <td>1</td>\n",
              "    </tr>\n",
              "    <tr>\n",
              "      <th>28044</th>\n",
              "      <td>test_28044</td>\n",
              "      <td>primary clear agriculture road water</td>\n",
              "      <td>1</td>\n",
              "      <td>1</td>\n",
              "      <td>1</td>\n",
              "      <td>1</td>\n",
              "      <td>1</td>\n",
              "    </tr>\n",
              "    <tr>\n",
              "      <th>2269</th>\n",
              "      <td>test_2269</td>\n",
              "      <td>primary clear agriculture road water</td>\n",
              "      <td>1</td>\n",
              "      <td>1</td>\n",
              "      <td>1</td>\n",
              "      <td>1</td>\n",
              "      <td>1</td>\n",
              "    </tr>\n",
              "    <tr>\n",
              "      <th>45661</th>\n",
              "      <td>file_14490</td>\n",
              "      <td>primary clear agriculture road water</td>\n",
              "      <td>1</td>\n",
              "      <td>1</td>\n",
              "      <td>1</td>\n",
              "      <td>1</td>\n",
              "      <td>1</td>\n",
              "    </tr>\n",
              "    <tr>\n",
              "      <th>8646</th>\n",
              "      <td>test_8646</td>\n",
              "      <td>primary clear agriculture road water</td>\n",
              "      <td>1</td>\n",
              "      <td>1</td>\n",
              "      <td>1</td>\n",
              "      <td>1</td>\n",
              "      <td>1</td>\n",
              "    </tr>\n",
              "    <tr>\n",
              "      <th>27131</th>\n",
              "      <td>test_27131</td>\n",
              "      <td>primary clear agriculture road water</td>\n",
              "      <td>1</td>\n",
              "      <td>1</td>\n",
              "      <td>1</td>\n",
              "      <td>1</td>\n",
              "      <td>1</td>\n",
              "    </tr>\n",
              "    <tr>\n",
              "      <th>50591</th>\n",
              "      <td>file_18928</td>\n",
              "      <td>primary clear agriculture road water</td>\n",
              "      <td>1</td>\n",
              "      <td>1</td>\n",
              "      <td>1</td>\n",
              "      <td>1</td>\n",
              "      <td>1</td>\n",
              "    </tr>\n",
              "    <tr>\n",
              "      <th>46702</th>\n",
              "      <td>file_15427</td>\n",
              "      <td>primary clear agriculture road water</td>\n",
              "      <td>1</td>\n",
              "      <td>1</td>\n",
              "      <td>1</td>\n",
              "      <td>1</td>\n",
              "      <td>1</td>\n",
              "    </tr>\n",
              "    <tr>\n",
              "      <th>60277</th>\n",
              "      <td>file_9176</td>\n",
              "      <td>primary clear agriculture road water</td>\n",
              "      <td>1</td>\n",
              "      <td>1</td>\n",
              "      <td>1</td>\n",
              "      <td>1</td>\n",
              "      <td>1</td>\n",
              "    </tr>\n",
              "    <tr>\n",
              "      <th>40786</th>\n",
              "      <td>file_10101</td>\n",
              "      <td>primary clear agriculture road water</td>\n",
              "      <td>1</td>\n",
              "      <td>1</td>\n",
              "      <td>1</td>\n",
              "      <td>1</td>\n",
              "      <td>1</td>\n",
              "    </tr>\n",
              "    <tr>\n",
              "      <th>3258</th>\n",
              "      <td>test_3258</td>\n",
              "      <td>primary clear agriculture road water</td>\n",
              "      <td>1</td>\n",
              "      <td>1</td>\n",
              "      <td>1</td>\n",
              "      <td>1</td>\n",
              "      <td>1</td>\n",
              "    </tr>\n",
              "    <tr>\n",
              "      <th>47478</th>\n",
              "      <td>file_16125</td>\n",
              "      <td>primary clear agriculture road water</td>\n",
              "      <td>1</td>\n",
              "      <td>1</td>\n",
              "      <td>1</td>\n",
              "      <td>1</td>\n",
              "      <td>1</td>\n",
              "    </tr>\n",
              "    <tr>\n",
              "      <th>53672</th>\n",
              "      <td>file_3230</td>\n",
              "      <td>primary clear agriculture road water</td>\n",
              "      <td>1</td>\n",
              "      <td>1</td>\n",
              "      <td>1</td>\n",
              "      <td>1</td>\n",
              "      <td>1</td>\n",
              "    </tr>\n",
              "    <tr>\n",
              "      <th>59297</th>\n",
              "      <td>file_8294</td>\n",
              "      <td>primary clear agriculture road water</td>\n",
              "      <td>1</td>\n",
              "      <td>1</td>\n",
              "      <td>1</td>\n",
              "      <td>1</td>\n",
              "      <td>1</td>\n",
              "    </tr>\n",
              "    <tr>\n",
              "      <th>24092</th>\n",
              "      <td>test_24092</td>\n",
              "      <td>primary clear agriculture road water</td>\n",
              "      <td>1</td>\n",
              "      <td>1</td>\n",
              "      <td>1</td>\n",
              "      <td>1</td>\n",
              "      <td>1</td>\n",
              "    </tr>\n",
              "    <tr>\n",
              "      <th>45082</th>\n",
              "      <td>file_1397</td>\n",
              "      <td>primary clear agriculture road water</td>\n",
              "      <td>1</td>\n",
              "      <td>1</td>\n",
              "      <td>1</td>\n",
              "      <td>1</td>\n",
              "      <td>1</td>\n",
              "    </tr>\n",
              "    <tr>\n",
              "      <th>55993</th>\n",
              "      <td>file_532</td>\n",
              "      <td>primary clear agriculture road water</td>\n",
              "      <td>1</td>\n",
              "      <td>1</td>\n",
              "      <td>1</td>\n",
              "      <td>1</td>\n",
              "      <td>1</td>\n",
              "    </tr>\n",
              "    <tr>\n",
              "      <th>28634</th>\n",
              "      <td>test_28634</td>\n",
              "      <td>primary clear agriculture road water</td>\n",
              "      <td>1</td>\n",
              "      <td>1</td>\n",
              "      <td>1</td>\n",
              "      <td>1</td>\n",
              "      <td>1</td>\n",
              "    </tr>\n",
              "    <tr>\n",
              "      <th>54481</th>\n",
              "      <td>file_396</td>\n",
              "      <td>primary clear agriculture road water</td>\n",
              "      <td>1</td>\n",
              "      <td>1</td>\n",
              "      <td>1</td>\n",
              "      <td>1</td>\n",
              "      <td>1</td>\n",
              "    </tr>\n",
              "    <tr>\n",
              "      <th>15580</th>\n",
              "      <td>test_15580</td>\n",
              "      <td>primary clear agriculture road water</td>\n",
              "      <td>1</td>\n",
              "      <td>1</td>\n",
              "      <td>1</td>\n",
              "      <td>1</td>\n",
              "      <td>1</td>\n",
              "    </tr>\n",
              "  </tbody>\n",
              "</table>\n",
              "</div>"
            ]
          },
          "metadata": {
            "tags": []
          },
          "execution_count": 23
        }
      ]
    },
    {
      "cell_type": "code",
      "metadata": {
        "trusted": true,
        "id": "CDumRaCSV8Oo",
        "outputId": "e1b9822a-0d0a-45e4-a6d5-afd0ae109107"
      },
      "source": [
        "# Making the image name carry '.jpg' extension\n",
        "test_class['image_name'] = test_class['image_name'].apply(lambda x: '{}.jpg'.format(x)) \n",
        "test_class.head()"
      ],
      "execution_count": null,
      "outputs": [
        {
          "output_type": "execute_result",
          "data": {
            "text/plain": [
              "   image_name                                  tags  agriculture  clear  road  \\\n",
              "0  test_0.jpg  primary clear agriculture road water            1      1     1   \n",
              "1  test_1.jpg  primary clear agriculture road water            1      1     1   \n",
              "2  test_2.jpg  primary clear agriculture road water            1      1     1   \n",
              "3  test_3.jpg  primary clear agriculture road water            1      1     1   \n",
              "4  test_4.jpg  primary clear agriculture road water            1      1     1   \n",
              "\n",
              "   primary  water  \n",
              "0        1      1  \n",
              "1        1      1  \n",
              "2        1      1  \n",
              "3        1      1  \n",
              "4        1      1  "
            ],
            "text/html": [
              "<div>\n",
              "<style scoped>\n",
              "    .dataframe tbody tr th:only-of-type {\n",
              "        vertical-align: middle;\n",
              "    }\n",
              "\n",
              "    .dataframe tbody tr th {\n",
              "        vertical-align: top;\n",
              "    }\n",
              "\n",
              "    .dataframe thead th {\n",
              "        text-align: right;\n",
              "    }\n",
              "</style>\n",
              "<table border=\"1\" class=\"dataframe\">\n",
              "  <thead>\n",
              "    <tr style=\"text-align: right;\">\n",
              "      <th></th>\n",
              "      <th>image_name</th>\n",
              "      <th>tags</th>\n",
              "      <th>agriculture</th>\n",
              "      <th>clear</th>\n",
              "      <th>road</th>\n",
              "      <th>primary</th>\n",
              "      <th>water</th>\n",
              "    </tr>\n",
              "  </thead>\n",
              "  <tbody>\n",
              "    <tr>\n",
              "      <th>0</th>\n",
              "      <td>test_0.jpg</td>\n",
              "      <td>primary clear agriculture road water</td>\n",
              "      <td>1</td>\n",
              "      <td>1</td>\n",
              "      <td>1</td>\n",
              "      <td>1</td>\n",
              "      <td>1</td>\n",
              "    </tr>\n",
              "    <tr>\n",
              "      <th>1</th>\n",
              "      <td>test_1.jpg</td>\n",
              "      <td>primary clear agriculture road water</td>\n",
              "      <td>1</td>\n",
              "      <td>1</td>\n",
              "      <td>1</td>\n",
              "      <td>1</td>\n",
              "      <td>1</td>\n",
              "    </tr>\n",
              "    <tr>\n",
              "      <th>2</th>\n",
              "      <td>test_2.jpg</td>\n",
              "      <td>primary clear agriculture road water</td>\n",
              "      <td>1</td>\n",
              "      <td>1</td>\n",
              "      <td>1</td>\n",
              "      <td>1</td>\n",
              "      <td>1</td>\n",
              "    </tr>\n",
              "    <tr>\n",
              "      <th>3</th>\n",
              "      <td>test_3.jpg</td>\n",
              "      <td>primary clear agriculture road water</td>\n",
              "      <td>1</td>\n",
              "      <td>1</td>\n",
              "      <td>1</td>\n",
              "      <td>1</td>\n",
              "      <td>1</td>\n",
              "    </tr>\n",
              "    <tr>\n",
              "      <th>4</th>\n",
              "      <td>test_4.jpg</td>\n",
              "      <td>primary clear agriculture road water</td>\n",
              "      <td>1</td>\n",
              "      <td>1</td>\n",
              "      <td>1</td>\n",
              "      <td>1</td>\n",
              "      <td>1</td>\n",
              "    </tr>\n",
              "  </tbody>\n",
              "</table>\n",
              "</div>"
            ]
          },
          "metadata": {
            "tags": []
          },
          "execution_count": 24
        }
      ]
    },
    {
      "cell_type": "markdown",
      "metadata": {
        "id": "5evpNWVrV8Ot"
      },
      "source": [
        "### Modelling Preparation"
      ]
    },
    {
      "cell_type": "code",
      "metadata": {
        "trusted": true,
        "id": "azzJ0e1pV8Ou"
      },
      "source": [
        "import tensorflow as tf"
      ],
      "execution_count": null,
      "outputs": []
    },
    {
      "cell_type": "code",
      "metadata": {
        "trusted": true,
        "id": "W4YQTLnEV8O9",
        "outputId": "fb2c3409-52ec-4dda-c36e-cd125e036bd3"
      },
      "source": [
        "# storing the tags/labels column names as a variable\n",
        "y_col = list(train_class.columns[2:])\n",
        "\n",
        "# initializing an image generator with some data augumentation stardardise the data\n",
        "from tensorflow import keras\n",
        "from keras.preprocessing.image import ImageDataGenerator\n",
        "image_gen = ImageDataGenerator(rescale=1/255)\n",
        "\n",
        "# loading images from dataframe\n",
        "X = image_gen.flow_from_dataframe(dataframe=train_class, \\\n",
        "        directory='/kaggle/input/planets-dataset/planet/planet/train-jpg/', x_col='image_name', y_col=y_col, \\\n",
        "       target_size=(128, 128), class_mode='raw', seed=1, batch_size=131)"
      ],
      "execution_count": null,
      "outputs": [
        {
          "output_type": "stream",
          "text": [
            "Found 40479 validated image filenames.\n"
          ],
          "name": "stdout"
        }
      ]
    },
    {
      "cell_type": "code",
      "metadata": {
        "trusted": true,
        "id": "ADKjNERQV8PD",
        "outputId": "619d94cf-2d82-4c42-a223-24fb19090b05"
      },
      "source": [
        "# X is an iterable, It contains 309 batches, each batch contains 131 images and labels because \n",
        "#40479 / 131 is 309 each image is of shape (128, 128, 3), each label is of shape (17, )\n",
        "\n",
        "# let's abitrarily view an image\n",
        "x109 = X[0][0][109] # first batch, images, 109th image\n",
        "y109 = X[0][1][109] # first batch, labels, 109th label\n",
        "print(\"The image's shape is {}\".format(x109.shape))\n",
        "print(\"The label's shape is {}\".format(y109.shape))\n",
        "print('The batches it ran; {} batches'.format(len(X)))\n",
        "print('Each batch has {} images/labels'.format(X[0][0].shape[0]))\n",
        "print('40479/131 is {}, so the last batch will have {} images/labels'.format(40479/131, X[308][0].shape[0]))"
      ],
      "execution_count": null,
      "outputs": [
        {
          "output_type": "stream",
          "text": [
            "The image's shape is (128, 128, 3)\n",
            "The label's shape is (17,)\n",
            "The batches it ran; 309 batches\n",
            "Each batch has 131 images/labels\n",
            "40479/131 is 309.0, so the last batch will have 131 images/labels\n"
          ],
          "name": "stdout"
        }
      ]
    },
    {
      "cell_type": "code",
      "metadata": {
        "trusted": true,
        "id": "uZ09Qh8mV8PK"
      },
      "source": [
        "from tensorflow.keras.models import Sequential\n",
        "from tensorflow.keras.layers import Flatten, BatchNormalization, Conv2D\n",
        "from tensorflow.keras.optimizers import Adam, RMSprop\n",
        "from tensorflow.keras.callbacks import EarlyStopping, ModelCheckpoint"
      ],
      "execution_count": null,
      "outputs": []
    },
    {
      "cell_type": "markdown",
      "metadata": {
        "id": "_qvJZhGhV8PP"
      },
      "source": [
        "### Definition of Metrics and Evalution Model"
      ]
    },
    {
      "cell_type": "code",
      "metadata": {
        "trusted": true,
        "id": "9GmpK0kLV8PQ"
      },
      "source": [
        "# calculate fbeta score for multi-class/label classification\n",
        "def fbeta(y_true, y_pred, beta=2):\n",
        "    # clip predictions\n",
        "    y_pred = backend.clip(y_pred, 0, 1)\n",
        "    # calculate elements\n",
        "    tp = backend.sum(backend.round(backend.clip(y_true * y_pred, 0, 1)), axis=1)\n",
        "    fp = backend.sum(backend.round(backend.clip(y_pred - y_true, 0, 1)), axis=1)\n",
        "    fn = backend.sum(backend.round(backend.clip(y_true - y_pred, 0, 1)), axis=1)\n",
        "    # calculate precision\n",
        "    p = tp / (tp + fp + backend.epsilon())\n",
        "    # calculate recall\n",
        "    r = tp / (tp + fn + backend.epsilon())\n",
        "    # calculate fbeta, averaged across each class\n",
        "    bb = beta ** 2\n",
        "    fbeta_score = backend.mean((1 + bb) * (p * r) / (bb * p + r + backend.epsilon()))\n",
        "    return fbeta_score"
      ],
      "execution_count": null,
      "outputs": []
    },
    {
      "cell_type": "code",
      "metadata": {
        "trusted": true,
        "id": "BoGnE_JAV8Ph"
      },
      "source": [
        "def multi_label_acc(ytrue , ypred, epsilon=1e-3):\n",
        "    \n",
        "    ytrue = tf.cast(ytrue, tf.float32)\n",
        "    ypred = tf.cast(tf.greater(tf.cast(ypred, tf.float32), tf.constant(0.5)), tf.float32)\n",
        "    \n",
        "    tp = tf.reduce_sum(ytrue * ypred, axis=1)\n",
        "    fp = tf.reduce_sum(ypred, axis=1) - tp\n",
        "    fn = tf.reduce_sum(ytrue, axis=1) - tp\n",
        "    \n",
        "    ytrue = tf.cast(ytrue, tf.bool)\n",
        "    ypred = tf.cast(ypred, tf.bool)\n",
        "    \n",
        "    tn = tf.reduce_sum(tf.cast(tf.logical_not(ytrue), tf.float32) * tf.cast(tf.logical_not(ypred), tf.float32),\\\n",
        "                       axis=1)\n",
        "    \n",
        "    return (tp+tn)/(tp+tn+fp+fn+epsilon)"
      ],
      "execution_count": null,
      "outputs": []
    },
    {
      "cell_type": "code",
      "metadata": {
        "trusted": true,
        "id": "dc2vmivMV8Pp"
      },
      "source": [
        "def define_model(in_shape=(128, 128, 3), out_shape=17):\n",
        "    model = Sequential()\n",
        "    model.add(Conv2D(32, (3, 3), activation='relu', kernel_initializer='he_uniform', padding='same', input_shape=in_shape))\n",
        "    model.add(Conv2D(32, (3, 3), activation='relu', kernel_initializer='he_uniform', padding='same'))\n",
        "    model.add(MaxPooling2D((2, 2)))\n",
        "    model.add(Conv2D(64, (3, 3), activation='relu', kernel_initializer='he_uniform', padding='same'))\n",
        "    model.add(Conv2D(64, (3, 3), activation='relu', kernel_initializer='he_uniform', padding='same'))\n",
        "    model.add(MaxPooling2D((2, 2)))\n",
        "    model.add(Dropout(0.3))\n",
        "    model.add(Conv2D(128, (3, 3), activation='relu', kernel_initializer='he_uniform', padding='same'))\n",
        "    model.add(Conv2D(128, (3, 3), activation='relu', kernel_initializer='he_uniform', padding='same'))\n",
        "    model.add(MaxPooling2D((2, 2)))\n",
        "    model.add(Conv2D(256, (3, 3), activation='relu', kernel_initializer='he_uniform', padding='same'))\n",
        "    model.add(Conv2D(256, (3, 3), activation='relu', kernel_initializer='he_uniform', padding='same'))\n",
        "    model.add(MaxPooling2D((2, 2)))\n",
        "    model.add(Dropout(0.3))\n",
        "    model.add(Conv2D(512, (3, 3), activation='relu', kernel_initializer='he_uniform', padding='same'))\n",
        "    model.add(Conv2D(512, (3, 3), activation='relu', kernel_initializer='he_uniform', padding='same'))\n",
        "    model.add(MaxPooling2D((2, 2)))\n",
        "    model.add(Conv2D(1024, (3, 3), activation='relu', kernel_initializer='he_uniform', padding='same'))\n",
        "    model.add(Conv2D(1024, (3, 3), activation='relu', kernel_initializer='he_uniform', padding='same'))\n",
        "    model.add(MaxPooling2D((2, 2)))\n",
        "    model.add(Dropout(0.3))\n",
        "    model.add(Flatten())\n",
        "    model.add(Dense(128, activation='relu', kernel_initializer='he_uniform'))\n",
        "    model.add(Dense(out_shape, activation='sigmoid'))\n",
        "    # compile model\n",
        "    opt = SGD(lr=0.01, momentum=0.9)\n",
        "    model.compile(optimizer=opt, loss='binary_crossentropy', metrics=['accuracy',fbeta, multi_label_acc])\n",
        "    return model"
      ],
      "execution_count": null,
      "outputs": []
    },
    {
      "cell_type": "code",
      "metadata": {
        "trusted": true,
        "id": "7GpJEbsoV8Pv"
      },
      "source": [
        "save_check_point = ModelCheckpoint(filepath='model_resp.hdf5', monitor='val_fbeta', \\\n",
        "                                        mode='max', save_best_only=True, save_weights_only=True)"
      ],
      "execution_count": null,
      "outputs": []
    },
    {
      "cell_type": "markdown",
      "metadata": {
        "id": "WxxLPUj1V8P3"
      },
      "source": [
        "### Data Augmentation for the Train Set"
      ]
    },
    {
      "cell_type": "code",
      "metadata": {
        "trusted": true,
        "id": "ecvmYxKFV8P7",
        "outputId": "3fd1561f-cfcb-4c6e-c333-a9a2e3dfa542"
      },
      "source": [
        "train_image_gen = ImageDataGenerator(rescale=1/255,validation_split=0.15)\n",
        "\n",
        "# generating the 85% training image data\n",
        "train_gen = train_image_gen.flow_from_dataframe(dataframe=train_class, \\\n",
        "        directory='../input/planets-dataset/planet/planet/train-jpg/', x_col='image_name', y_col=y_col, \\\n",
        "       target_size=(128, 128), class_mode='raw', seed=0, batch_size=131, subset='training')\n",
        "\n",
        "# generating the 15% validation image data\n",
        "val_gen = train_image_gen.flow_from_dataframe(dataframe=train_class, \\\n",
        "        directory='../input/planets-dataset/planet/planet/train-jpg/', x_col='image_name', y_col=y_col, \\\n",
        "       target_size=(128, 128), class_mode='raw', seed=0, batch_size=131, subset='validation')"
      ],
      "execution_count": null,
      "outputs": [
        {
          "output_type": "stream",
          "text": [
            "Found 34408 validated image filenames.\n",
            "Found 6071 validated image filenames.\n"
          ],
          "name": "stdout"
        }
      ]
    },
    {
      "cell_type": "code",
      "metadata": {
        "trusted": true,
        "id": "8tmymrGXV8QB"
      },
      "source": [
        "# setting step size for training and validation image data\n",
        "train_step_size = int(np.ceil(train_gen.samples / train_gen.batch_size))\n",
        "valid_step_size = int(np.ceil(val_gen.samples / val_gen.batch_size))"
      ],
      "execution_count": null,
      "outputs": []
    },
    {
      "cell_type": "code",
      "metadata": {
        "trusted": true,
        "id": "S62VZ-jTV8QK",
        "outputId": "f444e9bd-af41-4cb5-f80b-4e995ac7379f"
      },
      "source": [
        "train_step_size + valid_step_size"
      ],
      "execution_count": null,
      "outputs": [
        {
          "output_type": "execute_result",
          "data": {
            "text/plain": [
              "310"
            ]
          },
          "metadata": {
            "tags": []
          },
          "execution_count": 35
        }
      ]
    },
    {
      "cell_type": "markdown",
      "metadata": {
        "id": "yRRayYFlV8QT"
      },
      "source": [
        "#### Ensure you turn on GPU to run this session"
      ]
    },
    {
      "cell_type": "code",
      "metadata": {
        "trusted": true,
        "id": "Cm9LoR9zV8QU"
      },
      "source": [
        "from keras.preprocessing.image import ImageDataGenerator\n",
        "from keras.models import Model\n",
        "from keras.layers import Dense\n",
        "from keras.layers import Flatten\n",
        "from keras.optimizers import SGD\n",
        "from tensorflow.keras.layers import Dropout\n",
        "from keras.layers import MaxPooling2D\n",
        "from keras import backend"
      ],
      "execution_count": null,
      "outputs": []
    },
    {
      "cell_type": "markdown",
      "metadata": {
        "id": "wwsy7P5VV8Qd"
      },
      "source": [
        "### Training and Fitting the Defined model"
      ]
    },
    {
      "cell_type": "code",
      "metadata": {
        "trusted": true,
        "id": "Iy2LCHgPV8Qg",
        "outputId": "6bdc76a9-ce59-4b18-c8e0-9530bedfb8a5"
      },
      "source": [
        "model = define_model() # building a sequential model for training\n",
        "\n",
        "# fitting the model\n",
        "history = model.fit_generator(train_gen, steps_per_epoch = train_step_size, validation_data = val_gen, validation_steps = valid_step_size,\n",
        "          epochs = 100, callbacks = save_check_point)"
      ],
      "execution_count": null,
      "outputs": [
        {
          "output_type": "stream",
          "text": [
            "Epoch 1/100\n",
            "263/263 [==============================] - 166s 632ms/step - loss: 0.2448 - accuracy: 0.0020 - fbeta: 0.6311 - multi_label_acc: 0.9054 - val_loss: 0.2485 - val_accuracy: 0.0132 - val_fbeta: 0.6666 - val_multi_label_acc: 0.9130\n",
            "Epoch 2/100\n",
            "263/263 [==============================] - 112s 426ms/step - loss: 0.2172 - accuracy: 0.0223 - fbeta: 0.6715 - multi_label_acc: 0.9143 - val_loss: 0.2246 - val_accuracy: 0.0313 - val_fbeta: 0.6958 - val_multi_label_acc: 0.9164\n",
            "Epoch 3/100\n",
            "263/263 [==============================] - 113s 428ms/step - loss: 0.2025 - accuracy: 0.0419 - fbeta: 0.7125 - multi_label_acc: 0.9202 - val_loss: 0.2047 - val_accuracy: 0.0558 - val_fbeta: 0.7294 - val_multi_label_acc: 0.9239\n",
            "Epoch 4/100\n",
            "263/263 [==============================] - 111s 421ms/step - loss: 0.1892 - accuracy: 0.0533 - fbeta: 0.7426 - multi_label_acc: 0.9257 - val_loss: 0.1862 - val_accuracy: 0.0794 - val_fbeta: 0.7596 - val_multi_label_acc: 0.9289\n",
            "Epoch 5/100\n",
            "263/263 [==============================] - 112s 425ms/step - loss: 0.1776 - accuracy: 0.0660 - fbeta: 0.7627 - multi_label_acc: 0.9299 - val_loss: 0.1794 - val_accuracy: 0.0812 - val_fbeta: 0.7813 - val_multi_label_acc: 0.9298\n",
            "Epoch 6/100\n",
            "263/263 [==============================] - 111s 422ms/step - loss: 0.1687 - accuracy: 0.0768 - fbeta: 0.7761 - multi_label_acc: 0.9330 - val_loss: 0.1664 - val_accuracy: 0.1118 - val_fbeta: 0.7833 - val_multi_label_acc: 0.9347\n",
            "Epoch 7/100\n",
            "263/263 [==============================] - 113s 430ms/step - loss: 0.1603 - accuracy: 0.0904 - fbeta: 0.7899 - multi_label_acc: 0.9367 - val_loss: 0.1577 - val_accuracy: 0.1333 - val_fbeta: 0.7963 - val_multi_label_acc: 0.9372\n",
            "Epoch 8/100\n",
            "263/263 [==============================] - 111s 423ms/step - loss: 0.1545 - accuracy: 0.0952 - fbeta: 0.7973 - multi_label_acc: 0.9387 - val_loss: 0.1575 - val_accuracy: 0.1087 - val_fbeta: 0.7945 - val_multi_label_acc: 0.9380\n",
            "Epoch 9/100\n",
            "263/263 [==============================] - 111s 421ms/step - loss: 0.1521 - accuracy: 0.0992 - fbeta: 0.7998 - multi_label_acc: 0.9395 - val_loss: 0.1505 - val_accuracy: 0.1601 - val_fbeta: 0.8223 - val_multi_label_acc: 0.9407\n",
            "Epoch 10/100\n",
            "263/263 [==============================] - 113s 429ms/step - loss: 0.1478 - accuracy: 0.1036 - fbeta: 0.8067 - multi_label_acc: 0.9412 - val_loss: 0.1487 - val_accuracy: 0.1418 - val_fbeta: 0.8056 - val_multi_label_acc: 0.9416\n",
            "Epoch 11/100\n",
            "263/263 [==============================] - 113s 429ms/step - loss: 0.1441 - accuracy: 0.1039 - fbeta: 0.8113 - multi_label_acc: 0.9426 - val_loss: 0.1535 - val_accuracy: 0.1608 - val_fbeta: 0.7997 - val_multi_label_acc: 0.9402\n",
            "Epoch 12/100\n",
            "263/263 [==============================] - 115s 438ms/step - loss: 0.1416 - accuracy: 0.1039 - fbeta: 0.8140 - multi_label_acc: 0.9437 - val_loss: 0.1422 - val_accuracy: 0.1249 - val_fbeta: 0.8217 - val_multi_label_acc: 0.9446\n",
            "Epoch 13/100\n",
            "263/263 [==============================] - 110s 419ms/step - loss: 0.1395 - accuracy: 0.1051 - fbeta: 0.8174 - multi_label_acc: 0.9443 - val_loss: 0.1421 - val_accuracy: 0.1306 - val_fbeta: 0.8231 - val_multi_label_acc: 0.9448\n",
            "Epoch 14/100\n",
            "263/263 [==============================] - 111s 423ms/step - loss: 0.1369 - accuracy: 0.1008 - fbeta: 0.8210 - multi_label_acc: 0.9452 - val_loss: 0.1384 - val_accuracy: 0.1260 - val_fbeta: 0.8289 - val_multi_label_acc: 0.9458\n",
            "Epoch 15/100\n",
            "263/263 [==============================] - 109s 415ms/step - loss: 0.1346 - accuracy: 0.1044 - fbeta: 0.8239 - multi_label_acc: 0.9459 - val_loss: 0.1364 - val_accuracy: 0.1402 - val_fbeta: 0.8275 - val_multi_label_acc: 0.9461\n",
            "Epoch 16/100\n",
            "263/263 [==============================] - 110s 420ms/step - loss: 0.1336 - accuracy: 0.1006 - fbeta: 0.8267 - multi_label_acc: 0.9466 - val_loss: 0.1349 - val_accuracy: 0.1102 - val_fbeta: 0.8317 - val_multi_label_acc: 0.9463\n",
            "Epoch 17/100\n",
            "263/263 [==============================] - 115s 436ms/step - loss: 0.1308 - accuracy: 0.0990 - fbeta: 0.8308 - multi_label_acc: 0.9474 - val_loss: 0.1396 - val_accuracy: 0.1130 - val_fbeta: 0.8387 - val_multi_label_acc: 0.9452\n",
            "Epoch 18/100\n",
            "263/263 [==============================] - 112s 425ms/step - loss: 0.1291 - accuracy: 0.0981 - fbeta: 0.8327 - multi_label_acc: 0.9479 - val_loss: 0.1310 - val_accuracy: 0.1250 - val_fbeta: 0.8410 - val_multi_label_acc: 0.9482\n",
            "Epoch 19/100\n",
            "263/263 [==============================] - 113s 431ms/step - loss: 0.1279 - accuracy: 0.0960 - fbeta: 0.8357 - multi_label_acc: 0.9486 - val_loss: 0.1317 - val_accuracy: 0.1189 - val_fbeta: 0.8433 - val_multi_label_acc: 0.9469\n",
            "Epoch 20/100\n",
            "263/263 [==============================] - 113s 431ms/step - loss: 0.1273 - accuracy: 0.0976 - fbeta: 0.8358 - multi_label_acc: 0.9486 - val_loss: 0.1379 - val_accuracy: 0.0774 - val_fbeta: 0.8326 - val_multi_label_acc: 0.9442\n",
            "Epoch 21/100\n",
            "263/263 [==============================] - 113s 429ms/step - loss: 0.1261 - accuracy: 0.0937 - fbeta: 0.8386 - multi_label_acc: 0.9491 - val_loss: 0.1265 - val_accuracy: 0.1184 - val_fbeta: 0.8485 - val_multi_label_acc: 0.9505\n",
            "Epoch 22/100\n",
            "263/263 [==============================] - 112s 424ms/step - loss: 0.1245 - accuracy: 0.0972 - fbeta: 0.8408 - multi_label_acc: 0.9497 - val_loss: 0.1321 - val_accuracy: 0.1286 - val_fbeta: 0.8341 - val_multi_label_acc: 0.9484\n",
            "Epoch 23/100\n",
            "263/263 [==============================] - 112s 427ms/step - loss: 0.1233 - accuracy: 0.0960 - fbeta: 0.8422 - multi_label_acc: 0.9501 - val_loss: 0.1272 - val_accuracy: 0.1479 - val_fbeta: 0.8439 - val_multi_label_acc: 0.9493\n",
            "Epoch 24/100\n",
            "263/263 [==============================] - 111s 422ms/step - loss: 0.1226 - accuracy: 0.0954 - fbeta: 0.8437 - multi_label_acc: 0.9507 - val_loss: 0.1242 - val_accuracy: 0.1255 - val_fbeta: 0.8534 - val_multi_label_acc: 0.9508\n",
            "Epoch 25/100\n",
            "263/263 [==============================] - 109s 414ms/step - loss: 0.1207 - accuracy: 0.0929 - fbeta: 0.8472 - multi_label_acc: 0.9512 - val_loss: 0.1226 - val_accuracy: 0.1357 - val_fbeta: 0.8540 - val_multi_label_acc: 0.9507\n",
            "Epoch 26/100\n",
            "263/263 [==============================] - 110s 417ms/step - loss: 0.1195 - accuracy: 0.0980 - fbeta: 0.8496 - multi_label_acc: 0.9517 - val_loss: 0.1236 - val_accuracy: 0.1230 - val_fbeta: 0.8518 - val_multi_label_acc: 0.9517\n",
            "Epoch 27/100\n",
            "263/263 [==============================] - 110s 417ms/step - loss: 0.1184 - accuracy: 0.0942 - fbeta: 0.8505 - multi_label_acc: 0.9523 - val_loss: 0.1233 - val_accuracy: 0.1150 - val_fbeta: 0.8538 - val_multi_label_acc: 0.9517\n",
            "Epoch 28/100\n",
            "263/263 [==============================] - 111s 424ms/step - loss: 0.1180 - accuracy: 0.0909 - fbeta: 0.8508 - multi_label_acc: 0.9523 - val_loss: 0.1234 - val_accuracy: 0.0726 - val_fbeta: 0.8495 - val_multi_label_acc: 0.9519\n",
            "Epoch 29/100\n",
            "263/263 [==============================] - 111s 422ms/step - loss: 0.1164 - accuracy: 0.0958 - fbeta: 0.8538 - multi_label_acc: 0.9530 - val_loss: 0.1228 - val_accuracy: 0.0881 - val_fbeta: 0.8565 - val_multi_label_acc: 0.9511\n",
            "Epoch 30/100\n",
            "263/263 [==============================] - 111s 422ms/step - loss: 0.1160 - accuracy: 0.0894 - fbeta: 0.8537 - multi_label_acc: 0.9531 - val_loss: 0.1189 - val_accuracy: 0.1099 - val_fbeta: 0.8565 - val_multi_label_acc: 0.9534\n",
            "Epoch 31/100\n",
            "263/263 [==============================] - 113s 431ms/step - loss: 0.1144 - accuracy: 0.0926 - fbeta: 0.8576 - multi_label_acc: 0.9539 - val_loss: 0.1229 - val_accuracy: 0.1224 - val_fbeta: 0.8658 - val_multi_label_acc: 0.9515\n",
            "Epoch 32/100\n",
            "263/263 [==============================] - 113s 431ms/step - loss: 0.1142 - accuracy: 0.0889 - fbeta: 0.8581 - multi_label_acc: 0.9541 - val_loss: 0.1180 - val_accuracy: 0.0857 - val_fbeta: 0.8602 - val_multi_label_acc: 0.9540\n",
            "Epoch 33/100\n",
            "263/263 [==============================] - 111s 422ms/step - loss: 0.1124 - accuracy: 0.0931 - fbeta: 0.8605 - multi_label_acc: 0.9547 - val_loss: 0.1160 - val_accuracy: 0.1094 - val_fbeta: 0.8646 - val_multi_label_acc: 0.9543\n",
            "Epoch 34/100\n",
            "263/263 [==============================] - 111s 420ms/step - loss: 0.1122 - accuracy: 0.0922 - fbeta: 0.8605 - multi_label_acc: 0.9545 - val_loss: 0.1179 - val_accuracy: 0.1006 - val_fbeta: 0.8679 - val_multi_label_acc: 0.9539\n",
            "Epoch 35/100\n"
          ],
          "name": "stdout"
        },
        {
          "output_type": "stream",
          "text": [
            "263/263 [==============================] - 111s 424ms/step - loss: 0.1107 - accuracy: 0.0932 - fbeta: 0.8632 - multi_label_acc: 0.9555 - val_loss: 0.1177 - val_accuracy: 0.1524 - val_fbeta: 0.8640 - val_multi_label_acc: 0.9539\n",
            "Epoch 36/100\n",
            "263/263 [==============================] - 112s 425ms/step - loss: 0.1100 - accuracy: 0.0923 - fbeta: 0.8648 - multi_label_acc: 0.9559 - val_loss: 0.1194 - val_accuracy: 0.1239 - val_fbeta: 0.8603 - val_multi_label_acc: 0.9530\n",
            "Epoch 37/100\n",
            "263/263 [==============================] - 112s 426ms/step - loss: 0.1085 - accuracy: 0.0933 - fbeta: 0.8667 - multi_label_acc: 0.9563 - val_loss: 0.1141 - val_accuracy: 0.0883 - val_fbeta: 0.8704 - val_multi_label_acc: 0.9552\n",
            "Epoch 38/100\n",
            "263/263 [==============================] - 112s 427ms/step - loss: 0.1083 - accuracy: 0.0928 - fbeta: 0.8668 - multi_label_acc: 0.9563 - val_loss: 0.1140 - val_accuracy: 0.1100 - val_fbeta: 0.8654 - val_multi_label_acc: 0.9551\n",
            "Epoch 39/100\n",
            "263/263 [==============================] - 112s 426ms/step - loss: 0.1074 - accuracy: 0.0943 - fbeta: 0.8683 - multi_label_acc: 0.9568 - val_loss: 0.1189 - val_accuracy: 0.1043 - val_fbeta: 0.8692 - val_multi_label_acc: 0.9539\n",
            "Epoch 40/100\n",
            "263/263 [==============================] - 112s 427ms/step - loss: 0.1065 - accuracy: 0.0932 - fbeta: 0.8701 - multi_label_acc: 0.9573 - val_loss: 0.1180 - val_accuracy: 0.1314 - val_fbeta: 0.8624 - val_multi_label_acc: 0.9539\n",
            "Epoch 41/100\n",
            "263/263 [==============================] - 113s 428ms/step - loss: 0.1059 - accuracy: 0.0959 - fbeta: 0.8710 - multi_label_acc: 0.9574 - val_loss: 0.1162 - val_accuracy: 0.0908 - val_fbeta: 0.8663 - val_multi_label_acc: 0.9549\n",
            "Epoch 42/100\n",
            "263/263 [==============================] - 114s 432ms/step - loss: 0.1045 - accuracy: 0.0939 - fbeta: 0.8724 - multi_label_acc: 0.9580 - val_loss: 0.1142 - val_accuracy: 0.0990 - val_fbeta: 0.8739 - val_multi_label_acc: 0.9556\n",
            "Epoch 43/100\n",
            "263/263 [==============================] - 112s 426ms/step - loss: 0.1030 - accuracy: 0.0977 - fbeta: 0.8750 - multi_label_acc: 0.9588 - val_loss: 0.1161 - val_accuracy: 0.0888 - val_fbeta: 0.8649 - val_multi_label_acc: 0.9543\n",
            "Epoch 44/100\n",
            "263/263 [==============================] - 112s 425ms/step - loss: 0.1023 - accuracy: 0.0967 - fbeta: 0.8759 - multi_label_acc: 0.9590 - val_loss: 0.1152 - val_accuracy: 0.1150 - val_fbeta: 0.8695 - val_multi_label_acc: 0.9552\n",
            "Epoch 45/100\n",
            "263/263 [==============================] - 111s 424ms/step - loss: 0.1016 - accuracy: 0.0975 - fbeta: 0.8776 - multi_label_acc: 0.9594 - val_loss: 0.1124 - val_accuracy: 0.1118 - val_fbeta: 0.8749 - val_multi_label_acc: 0.9560\n",
            "Epoch 46/100\n",
            "263/263 [==============================] - 112s 425ms/step - loss: 0.1014 - accuracy: 0.0978 - fbeta: 0.8773 - multi_label_acc: 0.9593 - val_loss: 0.1131 - val_accuracy: 0.1252 - val_fbeta: 0.8755 - val_multi_label_acc: 0.9564\n",
            "Epoch 47/100\n",
            "263/263 [==============================] - 111s 422ms/step - loss: 0.0998 - accuracy: 0.1003 - fbeta: 0.8795 - multi_label_acc: 0.9600 - val_loss: 0.1188 - val_accuracy: 0.1046 - val_fbeta: 0.8660 - val_multi_label_acc: 0.9544\n",
            "Epoch 48/100\n",
            "263/263 [==============================] - 110s 418ms/step - loss: 0.0992 - accuracy: 0.0983 - fbeta: 0.8800 - multi_label_acc: 0.9601 - val_loss: 0.1120 - val_accuracy: 0.1148 - val_fbeta: 0.8739 - val_multi_label_acc: 0.9566\n",
            "Epoch 49/100\n",
            "263/263 [==============================] - 108s 411ms/step - loss: 0.0978 - accuracy: 0.1025 - fbeta: 0.8828 - multi_label_acc: 0.9610 - val_loss: 0.1157 - val_accuracy: 0.1051 - val_fbeta: 0.8669 - val_multi_label_acc: 0.9554\n",
            "Epoch 50/100\n",
            "263/263 [==============================] - 108s 410ms/step - loss: 0.0974 - accuracy: 0.1053 - fbeta: 0.8833 - multi_label_acc: 0.9611 - val_loss: 0.1125 - val_accuracy: 0.1229 - val_fbeta: 0.8705 - val_multi_label_acc: 0.9570\n",
            "Epoch 51/100\n",
            "263/263 [==============================] - 107s 406ms/step - loss: 0.0965 - accuracy: 0.1021 - fbeta: 0.8838 - multi_label_acc: 0.9612 - val_loss: 0.1110 - val_accuracy: 0.1265 - val_fbeta: 0.8751 - val_multi_label_acc: 0.9573\n",
            "Epoch 52/100\n",
            "263/263 [==============================] - 107s 405ms/step - loss: 0.0946 - accuracy: 0.1087 - fbeta: 0.8864 - multi_label_acc: 0.9622 - val_loss: 0.1137 - val_accuracy: 0.1127 - val_fbeta: 0.8691 - val_multi_label_acc: 0.9566\n",
            "Epoch 53/100\n",
            "263/263 [==============================] - 107s 408ms/step - loss: 0.0943 - accuracy: 0.1076 - fbeta: 0.8870 - multi_label_acc: 0.9622 - val_loss: 0.1144 - val_accuracy: 0.1165 - val_fbeta: 0.8718 - val_multi_label_acc: 0.9559\n",
            "Epoch 54/100\n",
            "263/263 [==============================] - 106s 405ms/step - loss: 0.0933 - accuracy: 0.1079 - fbeta: 0.8879 - multi_label_acc: 0.9626 - val_loss: 0.1146 - val_accuracy: 0.1300 - val_fbeta: 0.8740 - val_multi_label_acc: 0.9558\n",
            "Epoch 55/100\n",
            "263/263 [==============================] - 107s 406ms/step - loss: 0.0923 - accuracy: 0.1116 - fbeta: 0.8890 - multi_label_acc: 0.9630 - val_loss: 0.1147 - val_accuracy: 0.0947 - val_fbeta: 0.8748 - val_multi_label_acc: 0.9553\n",
            "Epoch 56/100\n",
            "263/263 [==============================] - 108s 410ms/step - loss: 0.0910 - accuracy: 0.1103 - fbeta: 0.8907 - multi_label_acc: 0.9634 - val_loss: 0.1140 - val_accuracy: 0.1395 - val_fbeta: 0.8760 - val_multi_label_acc: 0.9564\n",
            "Epoch 57/100\n",
            "263/263 [==============================] - 107s 406ms/step - loss: 0.0895 - accuracy: 0.1161 - fbeta: 0.8927 - multi_label_acc: 0.9640 - val_loss: 0.1163 - val_accuracy: 0.1242 - val_fbeta: 0.8754 - val_multi_label_acc: 0.9549\n",
            "Epoch 58/100\n",
            "263/263 [==============================] - 106s 404ms/step - loss: 0.0889 - accuracy: 0.1182 - fbeta: 0.8932 - multi_label_acc: 0.9642 - val_loss: 0.1146 - val_accuracy: 0.1239 - val_fbeta: 0.8763 - val_multi_label_acc: 0.9560\n",
            "Epoch 59/100\n",
            "263/263 [==============================] - 108s 410ms/step - loss: 0.0878 - accuracy: 0.1156 - fbeta: 0.8942 - multi_label_acc: 0.9646 - val_loss: 0.1168 - val_accuracy: 0.1240 - val_fbeta: 0.8758 - val_multi_label_acc: 0.9552\n",
            "Epoch 60/100\n",
            "263/263 [==============================] - 107s 408ms/step - loss: 0.0867 - accuracy: 0.1248 - fbeta: 0.8957 - multi_label_acc: 0.9651 - val_loss: 0.1213 - val_accuracy: 0.1285 - val_fbeta: 0.8676 - val_multi_label_acc: 0.9552\n",
            "Epoch 61/100\n",
            "263/263 [==============================] - 108s 409ms/step - loss: 0.0851 - accuracy: 0.1185 - fbeta: 0.8980 - multi_label_acc: 0.9659 - val_loss: 0.1162 - val_accuracy: 0.1403 - val_fbeta: 0.8758 - val_multi_label_acc: 0.9555\n",
            "Epoch 62/100\n",
            "263/263 [==============================] - 107s 405ms/step - loss: 0.0844 - accuracy: 0.1233 - fbeta: 0.8983 - multi_label_acc: 0.9661 - val_loss: 0.1165 - val_accuracy: 0.1178 - val_fbeta: 0.8741 - val_multi_label_acc: 0.9560\n",
            "Epoch 63/100\n",
            "263/263 [==============================] - 107s 408ms/step - loss: 0.0828 - accuracy: 0.1284 - fbeta: 0.9000 - multi_label_acc: 0.9668 - val_loss: 0.1211 - val_accuracy: 0.1565 - val_fbeta: 0.8742 - val_multi_label_acc: 0.9548\n",
            "Epoch 64/100\n",
            "263/263 [==============================] - 107s 409ms/step - loss: 0.0824 - accuracy: 0.1351 - fbeta: 0.9007 - multi_label_acc: 0.9670 - val_loss: 0.1182 - val_accuracy: 0.1604 - val_fbeta: 0.8733 - val_multi_label_acc: 0.9555\n",
            "Epoch 65/100\n",
            "263/263 [==============================] - 107s 408ms/step - loss: 0.0800 - accuracy: 0.1412 - fbeta: 0.9044 - multi_label_acc: 0.9680 - val_loss: 0.1214 - val_accuracy: 0.1744 - val_fbeta: 0.8704 - val_multi_label_acc: 0.9549\n",
            "Epoch 66/100\n",
            "263/263 [==============================] - 106s 402ms/step - loss: 0.0793 - accuracy: 0.1443 - fbeta: 0.9055 - multi_label_acc: 0.9683 - val_loss: 0.1178 - val_accuracy: 0.1426 - val_fbeta: 0.8749 - val_multi_label_acc: 0.9559\n",
            "Epoch 67/100\n",
            "263/263 [==============================] - 107s 407ms/step - loss: 0.0772 - accuracy: 0.1418 - fbeta: 0.9082 - multi_label_acc: 0.9694 - val_loss: 0.1203 - val_accuracy: 0.1540 - val_fbeta: 0.8764 - val_multi_label_acc: 0.9564\n",
            "Epoch 68/100\n",
            "263/263 [==============================] - 107s 405ms/step - loss: 0.0768 - accuracy: 0.1510 - fbeta: 0.9073 - multi_label_acc: 0.9692 - val_loss: 0.1298 - val_accuracy: 0.1710 - val_fbeta: 0.8703 - val_multi_label_acc: 0.9541\n",
            "Epoch 69/100\n"
          ],
          "name": "stdout"
        },
        {
          "output_type": "stream",
          "text": [
            "263/263 [==============================] - 107s 406ms/step - loss: 0.0747 - accuracy: 0.1625 - fbeta: 0.9108 - multi_label_acc: 0.9703 - val_loss: 0.1234 - val_accuracy: 0.2476 - val_fbeta: 0.8772 - val_multi_label_acc: 0.9556\n",
            "Epoch 70/100\n",
            "263/263 [==============================] - 108s 409ms/step - loss: 0.0741 - accuracy: 0.1555 - fbeta: 0.9107 - multi_label_acc: 0.9702 - val_loss: 0.1254 - val_accuracy: 0.1977 - val_fbeta: 0.8715 - val_multi_label_acc: 0.9545\n",
            "Epoch 71/100\n",
            "263/263 [==============================] - 106s 404ms/step - loss: 0.0717 - accuracy: 0.1610 - fbeta: 0.9139 - multi_label_acc: 0.9715 - val_loss: 0.1269 - val_accuracy: 0.1748 - val_fbeta: 0.8777 - val_multi_label_acc: 0.9546\n",
            "Epoch 72/100\n",
            "263/263 [==============================] - 107s 407ms/step - loss: 0.0711 - accuracy: 0.1635 - fbeta: 0.9140 - multi_label_acc: 0.9716 - val_loss: 0.1307 - val_accuracy: 0.3873 - val_fbeta: 0.8707 - val_multi_label_acc: 0.9547\n",
            "Epoch 73/100\n",
            "263/263 [==============================] - 107s 408ms/step - loss: 0.0691 - accuracy: 0.1825 - fbeta: 0.9170 - multi_label_acc: 0.9725 - val_loss: 0.1329 - val_accuracy: 0.3522 - val_fbeta: 0.8734 - val_multi_label_acc: 0.9535\n",
            "Epoch 74/100\n",
            "263/263 [==============================] - 107s 407ms/step - loss: 0.0673 - accuracy: 0.1705 - fbeta: 0.9190 - multi_label_acc: 0.9731 - val_loss: 0.1371 - val_accuracy: 0.1721 - val_fbeta: 0.8677 - val_multi_label_acc: 0.9544\n",
            "Epoch 75/100\n",
            "263/263 [==============================] - 107s 406ms/step - loss: 0.0662 - accuracy: 0.1733 - fbeta: 0.9200 - multi_label_acc: 0.9736 - val_loss: 0.1347 - val_accuracy: 0.2128 - val_fbeta: 0.8738 - val_multi_label_acc: 0.9530\n",
            "Epoch 76/100\n",
            "263/263 [==============================] - 106s 404ms/step - loss: 0.0658 - accuracy: 0.1886 - fbeta: 0.9207 - multi_label_acc: 0.9739 - val_loss: 0.1338 - val_accuracy: 0.3126 - val_fbeta: 0.8706 - val_multi_label_acc: 0.9544\n",
            "Epoch 77/100\n",
            "263/263 [==============================] - 107s 407ms/step - loss: 0.0632 - accuracy: 0.2102 - fbeta: 0.9239 - multi_label_acc: 0.9749 - val_loss: 0.1337 - val_accuracy: 0.2395 - val_fbeta: 0.8755 - val_multi_label_acc: 0.9527\n",
            "Epoch 78/100\n",
            "263/263 [==============================] - 106s 401ms/step - loss: 0.0623 - accuracy: 0.2078 - fbeta: 0.9242 - multi_label_acc: 0.9752 - val_loss: 0.1379 - val_accuracy: 0.3029 - val_fbeta: 0.8767 - val_multi_label_acc: 0.9551\n",
            "Epoch 79/100\n",
            "263/263 [==============================] - 108s 409ms/step - loss: 0.0606 - accuracy: 0.2252 - fbeta: 0.9264 - multi_label_acc: 0.9759 - val_loss: 0.1421 - val_accuracy: 0.3660 - val_fbeta: 0.8659 - val_multi_label_acc: 0.9531\n",
            "Epoch 80/100\n",
            "263/263 [==============================] - 107s 407ms/step - loss: 0.0593 - accuracy: 0.2542 - fbeta: 0.9281 - multi_label_acc: 0.9764 - val_loss: 0.1396 - val_accuracy: 0.3032 - val_fbeta: 0.8725 - val_multi_label_acc: 0.9542\n",
            "Epoch 81/100\n",
            "263/263 [==============================] - 106s 404ms/step - loss: 0.0579 - accuracy: 0.2809 - fbeta: 0.9291 - multi_label_acc: 0.9771 - val_loss: 0.1461 - val_accuracy: 0.3721 - val_fbeta: 0.8767 - val_multi_label_acc: 0.9529\n",
            "Epoch 82/100\n",
            "263/263 [==============================] - 108s 410ms/step - loss: 0.0560 - accuracy: 0.2900 - fbeta: 0.9317 - multi_label_acc: 0.9779 - val_loss: 0.1471 - val_accuracy: 0.2915 - val_fbeta: 0.8738 - val_multi_label_acc: 0.9536\n",
            "Epoch 83/100\n",
            "263/263 [==============================] - 108s 409ms/step - loss: 0.0549 - accuracy: 0.2981 - fbeta: 0.9325 - multi_label_acc: 0.9785 - val_loss: 0.1508 - val_accuracy: 0.3154 - val_fbeta: 0.8727 - val_multi_label_acc: 0.9541\n",
            "Epoch 84/100\n",
            "263/263 [==============================] - 108s 410ms/step - loss: 0.0538 - accuracy: 0.2929 - fbeta: 0.9348 - multi_label_acc: 0.9788 - val_loss: 0.1463 - val_accuracy: 0.3785 - val_fbeta: 0.8701 - val_multi_label_acc: 0.9540\n",
            "Epoch 85/100\n",
            "263/263 [==============================] - 109s 415ms/step - loss: 0.0530 - accuracy: 0.2795 - fbeta: 0.9358 - multi_label_acc: 0.9794 - val_loss: 0.1506 - val_accuracy: 0.3322 - val_fbeta: 0.8739 - val_multi_label_acc: 0.9526\n",
            "Epoch 86/100\n",
            "263/263 [==============================] - 110s 416ms/step - loss: 0.0500 - accuracy: 0.3302 - fbeta: 0.9389 - multi_label_acc: 0.9803 - val_loss: 0.1566 - val_accuracy: 0.3818 - val_fbeta: 0.8713 - val_multi_label_acc: 0.9517\n",
            "Epoch 87/100\n",
            "263/263 [==============================] - 109s 414ms/step - loss: 0.0488 - accuracy: 0.3196 - fbeta: 0.9407 - multi_label_acc: 0.9809 - val_loss: 0.1610 - val_accuracy: 0.4258 - val_fbeta: 0.8684 - val_multi_label_acc: 0.9533\n",
            "Epoch 88/100\n",
            "263/263 [==============================] - 109s 414ms/step - loss: 0.0484 - accuracy: 0.3199 - fbeta: 0.9404 - multi_label_acc: 0.9811 - val_loss: 0.1621 - val_accuracy: 0.4232 - val_fbeta: 0.8700 - val_multi_label_acc: 0.9530\n",
            "Epoch 89/100\n",
            "263/263 [==============================] - 111s 423ms/step - loss: 0.0469 - accuracy: 0.2928 - fbeta: 0.9426 - multi_label_acc: 0.9817 - val_loss: 0.1614 - val_accuracy: 0.3728 - val_fbeta: 0.8671 - val_multi_label_acc: 0.9511\n",
            "Epoch 90/100\n",
            "263/263 [==============================] - 112s 426ms/step - loss: 0.0464 - accuracy: 0.3211 - fbeta: 0.9434 - multi_label_acc: 0.9821 - val_loss: 0.1637 - val_accuracy: 0.3535 - val_fbeta: 0.8681 - val_multi_label_acc: 0.9533\n",
            "Epoch 91/100\n",
            "263/263 [==============================] - 112s 426ms/step - loss: 0.0443 - accuracy: 0.3004 - fbeta: 0.9456 - multi_label_acc: 0.9830 - val_loss: 0.1758 - val_accuracy: 0.4317 - val_fbeta: 0.8717 - val_multi_label_acc: 0.9540\n",
            "Epoch 92/100\n",
            "263/263 [==============================] - 112s 424ms/step - loss: 0.0429 - accuracy: 0.3445 - fbeta: 0.9478 - multi_label_acc: 0.9836 - val_loss: 0.1789 - val_accuracy: 0.3592 - val_fbeta: 0.8691 - val_multi_label_acc: 0.9523\n",
            "Epoch 93/100\n",
            "263/263 [==============================] - 113s 429ms/step - loss: 0.0431 - accuracy: 0.3136 - fbeta: 0.9472 - multi_label_acc: 0.9834 - val_loss: 0.1702 - val_accuracy: 0.3581 - val_fbeta: 0.8671 - val_multi_label_acc: 0.9524\n",
            "Epoch 94/100\n",
            "263/263 [==============================] - 112s 425ms/step - loss: 0.0410 - accuracy: 0.3559 - fbeta: 0.9495 - multi_label_acc: 0.9842 - val_loss: 0.1794 - val_accuracy: 0.4156 - val_fbeta: 0.8733 - val_multi_label_acc: 0.9524\n",
            "Epoch 95/100\n",
            "263/263 [==============================] - 113s 430ms/step - loss: 0.0398 - accuracy: 0.3554 - fbeta: 0.9509 - multi_label_acc: 0.9848 - val_loss: 0.1769 - val_accuracy: 0.4182 - val_fbeta: 0.8724 - val_multi_label_acc: 0.9536\n",
            "Epoch 96/100\n",
            "263/263 [==============================] - 114s 432ms/step - loss: 0.0385 - accuracy: 0.3667 - fbeta: 0.9525 - multi_label_acc: 0.9853 - val_loss: 0.1946 - val_accuracy: 0.4268 - val_fbeta: 0.8716 - val_multi_label_acc: 0.9537\n",
            "Epoch 97/100\n",
            "263/263 [==============================] - 113s 430ms/step - loss: 0.0392 - accuracy: 0.3598 - fbeta: 0.9519 - multi_label_acc: 0.9852 - val_loss: 0.1800 - val_accuracy: 0.4060 - val_fbeta: 0.8697 - val_multi_label_acc: 0.9534\n",
            "Epoch 98/100\n",
            "263/263 [==============================] - 113s 432ms/step - loss: 0.0359 - accuracy: 0.3571 - fbeta: 0.9549 - multi_label_acc: 0.9864 - val_loss: 0.1870 - val_accuracy: 0.3828 - val_fbeta: 0.8714 - val_multi_label_acc: 0.9531\n",
            "Epoch 99/100\n",
            "263/263 [==============================] - 113s 430ms/step - loss: 0.0364 - accuracy: 0.3584 - fbeta: 0.9550 - multi_label_acc: 0.9863 - val_loss: 0.1916 - val_accuracy: 0.4599 - val_fbeta: 0.8716 - val_multi_label_acc: 0.9522\n",
            "Epoch 100/100\n",
            "263/263 [==============================] - 113s 431ms/step - loss: 0.0351 - accuracy: 0.3689 - fbeta: 0.9564 - multi_label_acc: 0.9867 - val_loss: 0.1893 - val_accuracy: 0.3446 - val_fbeta: 0.8720 - val_multi_label_acc: 0.9519\n"
          ],
          "name": "stdout"
        }
      ]
    },
    {
      "cell_type": "code",
      "metadata": {
        "id": "oybmYx5rWMB6"
      },
      "source": [
        "# Importing a module that would help clear irrelevancies and free space\n",
        "import gc\n",
        "gc.collect()"
      ],
      "execution_count": null,
      "outputs": []
    },
    {
      "cell_type": "markdown",
      "metadata": {
        "id": "8rQLqwCIV8Qo"
      },
      "source": [
        "### Model Validation"
      ]
    },
    {
      "cell_type": "code",
      "metadata": {
        "trusted": true,
        "id": "V9ey48viV8Qt"
      },
      "source": [
        "train_pred = model.predict(train_gen, steps = train_step_size)\n",
        "\n",
        "print('Actual: {}'.format(train_class.tags[100]))\n",
        "print('Prediction: {}'.format(np.argmax(train_pred[100])))"
      ],
      "execution_count": null,
      "outputs": []
    },
    {
      "cell_type": "markdown",
      "metadata": {
        "id": "Ff9Y_DXxV8Qy"
      },
      "source": [
        "### Model Test Preprocessing"
      ]
    },
    {
      "cell_type": "code",
      "metadata": {
        "trusted": true,
        "id": "sM2iPiEqV8Qz",
        "outputId": "c6ac9f1d-c0af-4690-9c4e-c145423e539e"
      },
      "source": [
        "# selecting the first 40669 'image_name'(s) from the submission_sample dataframe to generate image data from \n",
        "# test.jpg folder\n",
        "test_df = test_class.reset_index(drop = True).drop(columns=['clear', 'road', 'primary', 'agriculture', 'water'])\n",
        "test_df = test_df[:40669]\n",
        "test_df.head()"
      ],
      "execution_count": null,
      "outputs": [
        {
          "output_type": "execute_result",
          "data": {
            "text/plain": [
              "   image_name                                  tags\n",
              "0  test_0.jpg  primary clear agriculture road water\n",
              "1  test_1.jpg  primary clear agriculture road water\n",
              "2  test_2.jpg  primary clear agriculture road water\n",
              "3  test_3.jpg  primary clear agriculture road water\n",
              "4  test_4.jpg  primary clear agriculture road water"
            ],
            "text/html": [
              "<div>\n",
              "<style scoped>\n",
              "    .dataframe tbody tr th:only-of-type {\n",
              "        vertical-align: middle;\n",
              "    }\n",
              "\n",
              "    .dataframe tbody tr th {\n",
              "        vertical-align: top;\n",
              "    }\n",
              "\n",
              "    .dataframe thead th {\n",
              "        text-align: right;\n",
              "    }\n",
              "</style>\n",
              "<table border=\"1\" class=\"dataframe\">\n",
              "  <thead>\n",
              "    <tr style=\"text-align: right;\">\n",
              "      <th></th>\n",
              "      <th>image_name</th>\n",
              "      <th>tags</th>\n",
              "    </tr>\n",
              "  </thead>\n",
              "  <tbody>\n",
              "    <tr>\n",
              "      <th>0</th>\n",
              "      <td>test_0.jpg</td>\n",
              "      <td>primary clear agriculture road water</td>\n",
              "    </tr>\n",
              "    <tr>\n",
              "      <th>1</th>\n",
              "      <td>test_1.jpg</td>\n",
              "      <td>primary clear agriculture road water</td>\n",
              "    </tr>\n",
              "    <tr>\n",
              "      <th>2</th>\n",
              "      <td>test_2.jpg</td>\n",
              "      <td>primary clear agriculture road water</td>\n",
              "    </tr>\n",
              "    <tr>\n",
              "      <th>3</th>\n",
              "      <td>test_3.jpg</td>\n",
              "      <td>primary clear agriculture road water</td>\n",
              "    </tr>\n",
              "    <tr>\n",
              "      <th>4</th>\n",
              "      <td>test_4.jpg</td>\n",
              "      <td>primary clear agriculture road water</td>\n",
              "    </tr>\n",
              "  </tbody>\n",
              "</table>\n",
              "</div>"
            ]
          },
          "metadata": {
            "tags": []
          },
          "execution_count": 39
        }
      ]
    },
    {
      "cell_type": "code",
      "metadata": {
        "trusted": true,
        "id": "oevT1FjqV8RS",
        "outputId": "c184347f-79d4-4ac7-9763-ca2e45d469de"
      },
      "source": [
        "test_df.shape"
      ],
      "execution_count": null,
      "outputs": [
        {
          "output_type": "execute_result",
          "data": {
            "text/plain": [
              "(40669, 2)"
            ]
          },
          "metadata": {
            "tags": []
          },
          "execution_count": 40
        }
      ]
    },
    {
      "cell_type": "markdown",
      "metadata": {
        "id": "Llcz-CwqV8RZ"
      },
      "source": [
        "### Data Augmentation for Test set"
      ]
    },
    {
      "cell_type": "code",
      "metadata": {
        "trusted": true,
        "id": "KlN8KnKVV8Ri",
        "outputId": "deb49eac-6211-4255-d9e3-3098517a821e"
      },
      "source": [
        "# initializing an image data generator object for the first 40669 images in the sample submission dataframe\n",
        "test_image_gen = ImageDataGenerator(rescale=1/255)\n",
        "\n",
        "# generating the image data for the first 40669 images in the sample submission dataframe\n",
        "test_gen = test_image_gen.flow_from_dataframe(dataframe=test_df, \\\n",
        "            directory='../input/planets-dataset/planet/planet/test-jpg/', x_col='image_name', y_col=None, \\\n",
        "            batch_size=131, shuffle=False, class_mode=None, target_size=(128, 128))\n",
        "\n",
        "# setting the step size for the testing set for the first 40669 images in the sample submission dataframe\n",
        "test_step_size = int(np.ceil(test_gen.samples / test_gen.batch_size))"
      ],
      "execution_count": null,
      "outputs": [
        {
          "output_type": "stream",
          "text": [
            "Found 40669 validated image filenames.\n"
          ],
          "name": "stdout"
        }
      ]
    },
    {
      "cell_type": "markdown",
      "metadata": {
        "id": "-w-hw6aqV8Rn"
      },
      "source": [
        "### Model Application"
      ]
    },
    {
      "cell_type": "code",
      "metadata": {
        "trusted": true,
        "id": "P-ZNAJgdV8Rq"
      },
      "source": [
        "add_model = define_model() # building a sequential model for testing\n",
        "\n",
        "#loading in the weights of the trained model\n",
        "add_model.load_weights('model_resp.hdf5')"
      ],
      "execution_count": null,
      "outputs": []
    },
    {
      "cell_type": "code",
      "metadata": {
        "trusted": true,
        "id": "4KxGcltrV8R1",
        "outputId": "89dc80bf-8366-44f4-c990-9aee2b367661"
      },
      "source": [
        "test_gen.reset() # reseting the generator to be sure of avoiding shuffling\n",
        "test_pred = add_model.predict(test_gen, steps=test_step_size, verbose=1) # predicts the first 40669 images in the \n",
        "                                                                         # sample submission dataframe\n",
        "\n",
        "print('Actual: {}'.format(test_class.tags[250]))\n",
        "print('Prediction: {}'.format(np.argmax(test_pred[250])))"
      ],
      "execution_count": null,
      "outputs": [
        {
          "output_type": "stream",
          "text": [
            "311/311 [==============================] - 105s 337ms/step\n",
            "311/311 [==============================] - 99s 317ms/step - loss: 0.0000e+00 - accuracy: 0.0000e+00 - fbeta: 0.0000e+00 - multi_label_acc: 0.0000e+00\n"
          ],
          "name": "stdout"
        },
        {
          "output_type": "error",
          "ename": "ValueError",
          "evalue": "too many values to unpack (expected 2)",
          "traceback": [
            "\u001b[0;31m---------------------------------------------------------------------------\u001b[0m",
            "\u001b[0;31mValueError\u001b[0m                                Traceback (most recent call last)",
            "\u001b[0;32m<ipython-input-71-5ec00ddce2ba>\u001b[0m in \u001b[0;36m<module>\u001b[0;34m\u001b[0m\n\u001b[1;32m      5\u001b[0m \u001b[0;31m#test_predt = model.predict(test_gen, steps=test_step_size, verbose=1)\u001b[0m\u001b[0;34m\u001b[0m\u001b[0;34m\u001b[0m\u001b[0;34m\u001b[0m\u001b[0m\n\u001b[1;32m      6\u001b[0m \u001b[0;34m\u001b[0m\u001b[0m\n\u001b[0;32m----> 7\u001b[0;31m \u001b[0mtest_loss\u001b[0m\u001b[0;34m,\u001b[0m \u001b[0mtest_accuracy\u001b[0m \u001b[0;34m=\u001b[0m \u001b[0mmodel\u001b[0m\u001b[0;34m.\u001b[0m\u001b[0mevaluate\u001b[0m\u001b[0;34m(\u001b[0m\u001b[0mtest_gen\u001b[0m\u001b[0;34m)\u001b[0m\u001b[0;31m#, test_predt)\u001b[0m\u001b[0;34m\u001b[0m\u001b[0;34m\u001b[0m\u001b[0m\n\u001b[0m\u001b[1;32m      8\u001b[0m \u001b[0mprint\u001b[0m\u001b[0;34m(\u001b[0m\u001b[0;34m'Test loss: {}'\u001b[0m\u001b[0;34m.\u001b[0m\u001b[0mformat\u001b[0m\u001b[0;34m(\u001b[0m\u001b[0mtest_loss\u001b[0m\u001b[0;34m)\u001b[0m\u001b[0;34m)\u001b[0m\u001b[0;34m\u001b[0m\u001b[0;34m\u001b[0m\u001b[0m\n\u001b[1;32m      9\u001b[0m \u001b[0mprint\u001b[0m\u001b[0;34m(\u001b[0m\u001b[0;34m'Test accuracy: {}'\u001b[0m\u001b[0;34m.\u001b[0m\u001b[0mformat\u001b[0m\u001b[0;34m(\u001b[0m\u001b[0mtest_accuracy\u001b[0m\u001b[0;34m)\u001b[0m\u001b[0;34m)\u001b[0m\u001b[0;34m\u001b[0m\u001b[0;34m\u001b[0m\u001b[0m\n",
            "\u001b[0;31mValueError\u001b[0m: too many values to unpack (expected 2)"
          ]
        }
      ]
    },
    {
      "cell_type": "code",
      "metadata": {
        "trusted": true,
        "id": "2cZ1Fap-V8SB",
        "outputId": "8413840b-e0be-4b6a-a845-990a87daea0e"
      },
      "source": [
        "test_file_names = test_gen.filenames # storing the filenames (images names) of the first 40669 images names in \n",
        "                                       # the sample submission dataframe as ordered in the prediction as a \n",
        "                                       # variable\n",
        "        \n",
        "# converting the predictions of the first 40669 to tag names\n",
        "pred_tags = pd.DataFrame(test_pred)\n",
        "pred_tags = pred_tags.apply(lambda x: ' '.join(np.array(unique_train_tag)[x > 0.5]), axis=1)\n",
        "\n",
        "# converting the predictions of the first 40669 to a dataframe\n",
        "result = pd.DataFrame({'image_name': test_file_names, 'tags': pred_tags})\n",
        "result.head()"
      ],
      "execution_count": null,
      "outputs": [
        {
          "output_type": "execute_result",
          "data": {
            "text/plain": [
              "   image_name                   tags\n",
              "0  test_0.jpg          clear primary\n",
              "1  test_1.jpg          clear primary\n",
              "2  test_2.jpg  partly_cloudy primary\n",
              "3  test_3.jpg          clear primary\n",
              "4  test_4.jpg                 cloudy"
            ],
            "text/html": [
              "<div>\n",
              "<style scoped>\n",
              "    .dataframe tbody tr th:only-of-type {\n",
              "        vertical-align: middle;\n",
              "    }\n",
              "\n",
              "    .dataframe tbody tr th {\n",
              "        vertical-align: top;\n",
              "    }\n",
              "\n",
              "    .dataframe thead th {\n",
              "        text-align: right;\n",
              "    }\n",
              "</style>\n",
              "<table border=\"1\" class=\"dataframe\">\n",
              "  <thead>\n",
              "    <tr style=\"text-align: right;\">\n",
              "      <th></th>\n",
              "      <th>image_name</th>\n",
              "      <th>tags</th>\n",
              "    </tr>\n",
              "  </thead>\n",
              "  <tbody>\n",
              "    <tr>\n",
              "      <th>0</th>\n",
              "      <td>test_0.jpg</td>\n",
              "      <td>clear primary</td>\n",
              "    </tr>\n",
              "    <tr>\n",
              "      <th>1</th>\n",
              "      <td>test_1.jpg</td>\n",
              "      <td>clear primary</td>\n",
              "    </tr>\n",
              "    <tr>\n",
              "      <th>2</th>\n",
              "      <td>test_2.jpg</td>\n",
              "      <td>partly_cloudy primary</td>\n",
              "    </tr>\n",
              "    <tr>\n",
              "      <th>3</th>\n",
              "      <td>test_3.jpg</td>\n",
              "      <td>clear primary</td>\n",
              "    </tr>\n",
              "    <tr>\n",
              "      <th>4</th>\n",
              "      <td>test_4.jpg</td>\n",
              "      <td>cloudy</td>\n",
              "    </tr>\n",
              "  </tbody>\n",
              "</table>\n",
              "</div>"
            ]
          },
          "metadata": {
            "tags": []
          },
          "execution_count": 44
        }
      ]
    },
    {
      "cell_type": "code",
      "metadata": {
        "trusted": true,
        "id": "4mVcUSJxV8SH",
        "outputId": "610dcb95-3ded-4b4d-c385-284ff4db6caa"
      },
      "source": [
        "# selecting the remaining 'image_name'(s) from the submission_sample dataframe to generate image data from \n",
        "# test-additional.jpg folder\n",
        "test_add_df = test_class.iloc[40669:]['image_name'].reset_index().drop(columns='index')\n",
        "test_add_df.head()"
      ],
      "execution_count": null,
      "outputs": [
        {
          "output_type": "execute_result",
          "data": {
            "text/plain": [
              "      image_name\n",
              "0     file_0.jpg\n",
              "1     file_1.jpg\n",
              "2    file_10.jpg\n",
              "3   file_100.jpg\n",
              "4  file_1000.jpg"
            ],
            "text/html": [
              "<div>\n",
              "<style scoped>\n",
              "    .dataframe tbody tr th:only-of-type {\n",
              "        vertical-align: middle;\n",
              "    }\n",
              "\n",
              "    .dataframe tbody tr th {\n",
              "        vertical-align: top;\n",
              "    }\n",
              "\n",
              "    .dataframe thead th {\n",
              "        text-align: right;\n",
              "    }\n",
              "</style>\n",
              "<table border=\"1\" class=\"dataframe\">\n",
              "  <thead>\n",
              "    <tr style=\"text-align: right;\">\n",
              "      <th></th>\n",
              "      <th>image_name</th>\n",
              "    </tr>\n",
              "  </thead>\n",
              "  <tbody>\n",
              "    <tr>\n",
              "      <th>0</th>\n",
              "      <td>file_0.jpg</td>\n",
              "    </tr>\n",
              "    <tr>\n",
              "      <th>1</th>\n",
              "      <td>file_1.jpg</td>\n",
              "    </tr>\n",
              "    <tr>\n",
              "      <th>2</th>\n",
              "      <td>file_10.jpg</td>\n",
              "    </tr>\n",
              "    <tr>\n",
              "      <th>3</th>\n",
              "      <td>file_100.jpg</td>\n",
              "    </tr>\n",
              "    <tr>\n",
              "      <th>4</th>\n",
              "      <td>file_1000.jpg</td>\n",
              "    </tr>\n",
              "  </tbody>\n",
              "</table>\n",
              "</div>"
            ]
          },
          "metadata": {
            "tags": []
          },
          "execution_count": 45
        }
      ]
    },
    {
      "cell_type": "code",
      "metadata": {
        "trusted": true,
        "id": "MYfnkQizV8SN",
        "outputId": "9fa57ba1-ada0-4793-900c-22230ac5840b"
      },
      "source": [
        "# initializing an image data generator object for the remaining images in the sample submission dataframe\n",
        "test_add_image_gen = ImageDataGenerator(rescale=1/255)\n",
        "\n",
        "# generating the image data for the remaining images in the sample submission dataframe\n",
        "test_add_gen = test_add_image_gen.flow_from_dataframe(dataframe=test_add_df, \\\n",
        "            directory='../input/planets-dataset/test-jpg-additional/test-jpg-additional/', x_col='image_name', \\\n",
        "            y_col=None, batch_size=131, shuffle=False, class_mode=None, target_size=(128, 128))\n",
        "\n",
        "# setting the step size for the testing set for the remaining images in the sample submission dataframe\n",
        "test_add_step_size = int(np.ceil(test_add_gen.samples / test_add_gen.batch_size))"
      ],
      "execution_count": null,
      "outputs": [
        {
          "output_type": "stream",
          "text": [
            "Found 20522 validated image filenames.\n"
          ],
          "name": "stdout"
        }
      ]
    },
    {
      "cell_type": "code",
      "metadata": {
        "trusted": true,
        "id": "9vl1An2RV8SZ",
        "outputId": "2e98825e-a3e5-413e-f6de-b2e2eccc7d29"
      },
      "source": [
        "test_add_gen.reset() # reseting the generator to be sure of avoiding shuffling\n",
        "test_add_pred = add_model.predict(test_add_gen, steps=test_add_step_size, verbose=1) # predicts the remaining images in the \n",
        "                                                                    # sample submission dataframe"
      ],
      "execution_count": null,
      "outputs": [
        {
          "output_type": "stream",
          "text": [
            "157/157 [==============================] - 78s 499ms/step\n"
          ],
          "name": "stdout"
        }
      ]
    },
    {
      "cell_type": "markdown",
      "metadata": {
        "id": "s0mC4R37V8Sr"
      },
      "source": [
        "### Compiling Test Images Predictions"
      ]
    },
    {
      "cell_type": "code",
      "metadata": {
        "trusted": true,
        "id": "dEGFvOOjV8St",
        "outputId": "1cd4fa22-ebc4-4ff2-9c19-4797c167f084"
      },
      "source": [
        "test_add_file_names = test_add_gen.filenames # storing the filenames (images names) of the remaining images names in \n",
        "                                       # the sample submission dataframe as ordered in the prediction as a \n",
        "                                       # variable\n",
        "        \n",
        "# converting the predictions of the remaining images to tag names\n",
        "add_pred_tags = pd.DataFrame(test_add_pred)\n",
        "add_pred_tags = add_pred_tags.apply(lambda x: ' '.join(np.array(unique_train_tag)[x > 0.5]), axis=1)\n",
        "\n",
        "# converting the predictions of the remaining to a dataframe\n",
        "add_result = pd.DataFrame({'image_name': test_add_file_names, 'tags': add_pred_tags})\n",
        "add_result.head()"
      ],
      "execution_count": null,
      "outputs": [
        {
          "output_type": "execute_result",
          "data": {
            "text/plain": [
              "      image_name                               tags\n",
              "0     file_0.jpg                      clear primary\n",
              "1     file_1.jpg  agriculture partly_cloudy primary\n",
              "2    file_10.jpg      haze agriculture road primary\n",
              "3   file_100.jpg          agriculture clear primary\n",
              "4  file_1000.jpg                      clear primary"
            ],
            "text/html": [
              "<div>\n",
              "<style scoped>\n",
              "    .dataframe tbody tr th:only-of-type {\n",
              "        vertical-align: middle;\n",
              "    }\n",
              "\n",
              "    .dataframe tbody tr th {\n",
              "        vertical-align: top;\n",
              "    }\n",
              "\n",
              "    .dataframe thead th {\n",
              "        text-align: right;\n",
              "    }\n",
              "</style>\n",
              "<table border=\"1\" class=\"dataframe\">\n",
              "  <thead>\n",
              "    <tr style=\"text-align: right;\">\n",
              "      <th></th>\n",
              "      <th>image_name</th>\n",
              "      <th>tags</th>\n",
              "    </tr>\n",
              "  </thead>\n",
              "  <tbody>\n",
              "    <tr>\n",
              "      <th>0</th>\n",
              "      <td>file_0.jpg</td>\n",
              "      <td>clear primary</td>\n",
              "    </tr>\n",
              "    <tr>\n",
              "      <th>1</th>\n",
              "      <td>file_1.jpg</td>\n",
              "      <td>agriculture partly_cloudy primary</td>\n",
              "    </tr>\n",
              "    <tr>\n",
              "      <th>2</th>\n",
              "      <td>file_10.jpg</td>\n",
              "      <td>haze agriculture road primary</td>\n",
              "    </tr>\n",
              "    <tr>\n",
              "      <th>3</th>\n",
              "      <td>file_100.jpg</td>\n",
              "      <td>agriculture clear primary</td>\n",
              "    </tr>\n",
              "    <tr>\n",
              "      <th>4</th>\n",
              "      <td>file_1000.jpg</td>\n",
              "      <td>clear primary</td>\n",
              "    </tr>\n",
              "  </tbody>\n",
              "</table>\n",
              "</div>"
            ]
          },
          "metadata": {
            "tags": []
          },
          "execution_count": 48
        }
      ]
    },
    {
      "cell_type": "code",
      "metadata": {
        "trusted": true,
        "id": "ZOsE_DG4V8S4",
        "outputId": "349c07aa-269e-47cd-df56-1abfeba3181b"
      },
      "source": [
        "result_col = pd.concat([result, add_result]) # concatenate the predictions of the test.jpg and \n",
        "                                             # test-additional.jpg into a single dataframe\n",
        "    \n",
        "result_col = result_col.reset_index(drop = True) # reseting the index of the dataframe so it \n",
        "                                                                # matches that of sample submission datafarme\n",
        "\n",
        "print(result_col.shape)\n",
        "result_col.head()"
      ],
      "execution_count": null,
      "outputs": [
        {
          "output_type": "stream",
          "text": [
            "(61191, 2)\n"
          ],
          "name": "stdout"
        },
        {
          "output_type": "execute_result",
          "data": {
            "text/plain": [
              "   image_name                   tags\n",
              "0  test_0.jpg          clear primary\n",
              "1  test_1.jpg          clear primary\n",
              "2  test_2.jpg  partly_cloudy primary\n",
              "3  test_3.jpg          clear primary\n",
              "4  test_4.jpg                 cloudy"
            ],
            "text/html": [
              "<div>\n",
              "<style scoped>\n",
              "    .dataframe tbody tr th:only-of-type {\n",
              "        vertical-align: middle;\n",
              "    }\n",
              "\n",
              "    .dataframe tbody tr th {\n",
              "        vertical-align: top;\n",
              "    }\n",
              "\n",
              "    .dataframe thead th {\n",
              "        text-align: right;\n",
              "    }\n",
              "</style>\n",
              "<table border=\"1\" class=\"dataframe\">\n",
              "  <thead>\n",
              "    <tr style=\"text-align: right;\">\n",
              "      <th></th>\n",
              "      <th>image_name</th>\n",
              "      <th>tags</th>\n",
              "    </tr>\n",
              "  </thead>\n",
              "  <tbody>\n",
              "    <tr>\n",
              "      <th>0</th>\n",
              "      <td>test_0.jpg</td>\n",
              "      <td>clear primary</td>\n",
              "    </tr>\n",
              "    <tr>\n",
              "      <th>1</th>\n",
              "      <td>test_1.jpg</td>\n",
              "      <td>clear primary</td>\n",
              "    </tr>\n",
              "    <tr>\n",
              "      <th>2</th>\n",
              "      <td>test_2.jpg</td>\n",
              "      <td>partly_cloudy primary</td>\n",
              "    </tr>\n",
              "    <tr>\n",
              "      <th>3</th>\n",
              "      <td>test_3.jpg</td>\n",
              "      <td>clear primary</td>\n",
              "    </tr>\n",
              "    <tr>\n",
              "      <th>4</th>\n",
              "      <td>test_4.jpg</td>\n",
              "      <td>cloudy</td>\n",
              "    </tr>\n",
              "  </tbody>\n",
              "</table>\n",
              "</div>"
            ]
          },
          "metadata": {
            "tags": []
          },
          "execution_count": 52
        }
      ]
    },
    {
      "cell_type": "code",
      "metadata": {
        "trusted": true,
        "id": "WOcHaEMzV8TX",
        "outputId": "17cac371-8dfc-4a3b-901d-69b3db5035df"
      },
      "source": [
        "result_col['image_name'] = result_col['image_name'].apply(lambda x: x.replace('.jpg', ''))\n",
        "result_col.head()"
      ],
      "execution_count": null,
      "outputs": [
        {
          "output_type": "execute_result",
          "data": {
            "text/plain": [
              "  image_name                   tags\n",
              "0     test_0          clear primary\n",
              "1     test_1          clear primary\n",
              "2     test_2  partly_cloudy primary\n",
              "3     test_3          clear primary\n",
              "4     test_4                 cloudy"
            ],
            "text/html": [
              "<div>\n",
              "<style scoped>\n",
              "    .dataframe tbody tr th:only-of-type {\n",
              "        vertical-align: middle;\n",
              "    }\n",
              "\n",
              "    .dataframe tbody tr th {\n",
              "        vertical-align: top;\n",
              "    }\n",
              "\n",
              "    .dataframe thead th {\n",
              "        text-align: right;\n",
              "    }\n",
              "</style>\n",
              "<table border=\"1\" class=\"dataframe\">\n",
              "  <thead>\n",
              "    <tr style=\"text-align: right;\">\n",
              "      <th></th>\n",
              "      <th>image_name</th>\n",
              "      <th>tags</th>\n",
              "    </tr>\n",
              "  </thead>\n",
              "  <tbody>\n",
              "    <tr>\n",
              "      <th>0</th>\n",
              "      <td>test_0</td>\n",
              "      <td>clear primary</td>\n",
              "    </tr>\n",
              "    <tr>\n",
              "      <th>1</th>\n",
              "      <td>test_1</td>\n",
              "      <td>clear primary</td>\n",
              "    </tr>\n",
              "    <tr>\n",
              "      <th>2</th>\n",
              "      <td>test_2</td>\n",
              "      <td>partly_cloudy primary</td>\n",
              "    </tr>\n",
              "    <tr>\n",
              "      <th>3</th>\n",
              "      <td>test_3</td>\n",
              "      <td>clear primary</td>\n",
              "    </tr>\n",
              "    <tr>\n",
              "      <th>4</th>\n",
              "      <td>test_4</td>\n",
              "      <td>cloudy</td>\n",
              "    </tr>\n",
              "  </tbody>\n",
              "</table>\n",
              "</div>"
            ]
          },
          "metadata": {
            "tags": []
          },
          "execution_count": 59
        }
      ]
    },
    {
      "cell_type": "code",
      "metadata": {
        "trusted": true,
        "id": "TscSCNxhV8Tx",
        "outputId": "8e77a057-33ca-4707-a28f-6a3294b9fa47"
      },
      "source": [
        "sample_submission = pd.read_csv('../input/planets-dataset/planet/planet/sample_submission.csv')\n",
        "sample_submission.head()"
      ],
      "execution_count": null,
      "outputs": [
        {
          "output_type": "execute_result",
          "data": {
            "text/plain": [
              "  image_name                                  tags\n",
              "0     test_0  primary clear agriculture road water\n",
              "1     test_1  primary clear agriculture road water\n",
              "2     test_2  primary clear agriculture road water\n",
              "3     test_3  primary clear agriculture road water\n",
              "4     test_4  primary clear agriculture road water"
            ],
            "text/html": [
              "<div>\n",
              "<style scoped>\n",
              "    .dataframe tbody tr th:only-of-type {\n",
              "        vertical-align: middle;\n",
              "    }\n",
              "\n",
              "    .dataframe tbody tr th {\n",
              "        vertical-align: top;\n",
              "    }\n",
              "\n",
              "    .dataframe thead th {\n",
              "        text-align: right;\n",
              "    }\n",
              "</style>\n",
              "<table border=\"1\" class=\"dataframe\">\n",
              "  <thead>\n",
              "    <tr style=\"text-align: right;\">\n",
              "      <th></th>\n",
              "      <th>image_name</th>\n",
              "      <th>tags</th>\n",
              "    </tr>\n",
              "  </thead>\n",
              "  <tbody>\n",
              "    <tr>\n",
              "      <th>0</th>\n",
              "      <td>test_0</td>\n",
              "      <td>primary clear agriculture road water</td>\n",
              "    </tr>\n",
              "    <tr>\n",
              "      <th>1</th>\n",
              "      <td>test_1</td>\n",
              "      <td>primary clear agriculture road water</td>\n",
              "    </tr>\n",
              "    <tr>\n",
              "      <th>2</th>\n",
              "      <td>test_2</td>\n",
              "      <td>primary clear agriculture road water</td>\n",
              "    </tr>\n",
              "    <tr>\n",
              "      <th>3</th>\n",
              "      <td>test_3</td>\n",
              "      <td>primary clear agriculture road water</td>\n",
              "    </tr>\n",
              "    <tr>\n",
              "      <th>4</th>\n",
              "      <td>test_4</td>\n",
              "      <td>primary clear agriculture road water</td>\n",
              "    </tr>\n",
              "  </tbody>\n",
              "</table>\n",
              "</div>"
            ]
          },
          "metadata": {
            "tags": []
          },
          "execution_count": 61
        }
      ]
    },
    {
      "cell_type": "code",
      "metadata": {
        "trusted": true,
        "id": "3-sn2niWV8T8"
      },
      "source": [
        "# confirming that the predicted images are ordered as in sample submission dataframe\n",
        "assert sum(sample_submission['image_name'] == result_col['image_name']) == 61191"
      ],
      "execution_count": null,
      "outputs": []
    },
    {
      "cell_type": "code",
      "metadata": {
        "trusted": true,
        "id": "dXJ9aaXkV8UF"
      },
      "source": [
        "result_col.to_csv('./Result_Submission.csv', index=False) # saving the predictions"
      ],
      "execution_count": null,
      "outputs": []
    },
    {
      "cell_type": "code",
      "metadata": {
        "trusted": true,
        "id": "6YuAcangV8UJ"
      },
      "source": [
        ""
      ],
      "execution_count": null,
      "outputs": []
    }
  ]
}