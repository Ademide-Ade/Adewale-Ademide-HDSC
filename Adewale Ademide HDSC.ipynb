{
 "cells": [
  {
   "cell_type": "markdown",
   "metadata": {},
   "source": [
    "# HAMOYE DATA SCIENCE ASSESMENT SOLUTION SHEET\n",
    "## The code illustrated below represent my calculation for the assesment in Introduction to Python for Machine Learning."
   ]
  },
  {
   "cell_type": "markdown",
   "metadata": {},
   "source": [
    "### Questions\n",
    "##### Q1. If you're given two lists: A=[1,2,3,4,5,6], B=[13,21,34] The task is to create a list with element A and B in a single dimension with output: A_B=[1,2,3,4,5,6,13,21,34] What is the best way to create this list?\n",
    "##### Q2. How do you create an Identity matrix in python?\n",
    "##### Q3. Which of the fuel type code has the lowerest average fuel cost per unit burned?\n",
    "##### Q4. What is the Standard Deviation and 75th percentile of the measureof energy per unit (Fuel_mmbtu_per_unit) in two decimal places?\n",
    "##### Q5. What is the skewness and kurtosis for the fuel quantity burned in two decimal place?\n",
    "##### Q6. What feature has the missing values and what is the total number of missing and percentage of missing rows as a factor of the total number of rows in three decimal places? (Enter answer in the format: Feature: xxx, Total: xxx, Percent: xxx)\n",
    "##### Q7. The feature with missing value falls under what category? What missing value technique would you use?\n",
    "##### Q8. Which feature has the second and third lowest correlation with the Fuel Cost Per Unit Burned?\n",
    "##### Q9. For the Fuel type 'coal', what is the percentage changein the fuel cost per unit burned in 1998 compared to 1994?\n",
    "##### Q10. Which year has the highest average fuel cost per unit delivered?"
   ]
  },
  {
   "cell_type": "markdown",
   "metadata": {},
   "source": [
    "### Solutions"
   ]
  },
  {
   "cell_type": "markdown",
   "metadata": {},
   "source": [
    "##### Python Library Importation"
   ]
  },
  {
   "cell_type": "code",
   "execution_count": 1,
   "metadata": {},
   "outputs": [],
   "source": [
    "# Importing relevant libraries\n",
    "import pandas as pd\n",
    "import numpy as np"
   ]
  },
  {
   "cell_type": "markdown",
   "metadata": {},
   "source": [
    "##### Data Preparation Phase"
   ]
  },
  {
   "cell_type": "code",
   "execution_count": 2,
   "metadata": {},
   "outputs": [
    {
     "data": {
      "text/html": [
       "<div>\n",
       "<style scoped>\n",
       "    .dataframe tbody tr th:only-of-type {\n",
       "        vertical-align: middle;\n",
       "    }\n",
       "\n",
       "    .dataframe tbody tr th {\n",
       "        vertical-align: top;\n",
       "    }\n",
       "\n",
       "    .dataframe thead th {\n",
       "        text-align: right;\n",
       "    }\n",
       "</style>\n",
       "<table border=\"1\" class=\"dataframe\">\n",
       "  <thead>\n",
       "    <tr style=\"text-align: right;\">\n",
       "      <th></th>\n",
       "      <th>record_id</th>\n",
       "      <th>utility_id_ferc1</th>\n",
       "      <th>report_year</th>\n",
       "      <th>plant_name_ferc1</th>\n",
       "      <th>fuel_type_code_pudl</th>\n",
       "      <th>fuel_unit</th>\n",
       "      <th>fuel_qty_burned</th>\n",
       "      <th>fuel_mmbtu_per_unit</th>\n",
       "      <th>fuel_cost_per_unit_burned</th>\n",
       "      <th>fuel_cost_per_unit_delivered</th>\n",
       "      <th>fuel_cost_per_mmbtu</th>\n",
       "    </tr>\n",
       "  </thead>\n",
       "  <tbody>\n",
       "    <tr>\n",
       "      <th>0</th>\n",
       "      <td>f1_fuel_1994_12_1_0_7</td>\n",
       "      <td>1</td>\n",
       "      <td>1994</td>\n",
       "      <td>rockport</td>\n",
       "      <td>coal</td>\n",
       "      <td>ton</td>\n",
       "      <td>5377489.0</td>\n",
       "      <td>16.590</td>\n",
       "      <td>18.59</td>\n",
       "      <td>18.53</td>\n",
       "      <td>1.121</td>\n",
       "    </tr>\n",
       "    <tr>\n",
       "      <th>1</th>\n",
       "      <td>f1_fuel_1994_12_1_0_10</td>\n",
       "      <td>1</td>\n",
       "      <td>1994</td>\n",
       "      <td>rockport total plant</td>\n",
       "      <td>coal</td>\n",
       "      <td>ton</td>\n",
       "      <td>10486945.0</td>\n",
       "      <td>16.592</td>\n",
       "      <td>18.58</td>\n",
       "      <td>18.53</td>\n",
       "      <td>1.120</td>\n",
       "    </tr>\n",
       "    <tr>\n",
       "      <th>2</th>\n",
       "      <td>f1_fuel_1994_12_2_0_1</td>\n",
       "      <td>2</td>\n",
       "      <td>1994</td>\n",
       "      <td>gorgas</td>\n",
       "      <td>coal</td>\n",
       "      <td>ton</td>\n",
       "      <td>2978683.0</td>\n",
       "      <td>24.130</td>\n",
       "      <td>39.72</td>\n",
       "      <td>38.12</td>\n",
       "      <td>1.650</td>\n",
       "    </tr>\n",
       "    <tr>\n",
       "      <th>3</th>\n",
       "      <td>f1_fuel_1994_12_2_0_7</td>\n",
       "      <td>2</td>\n",
       "      <td>1994</td>\n",
       "      <td>barry</td>\n",
       "      <td>coal</td>\n",
       "      <td>ton</td>\n",
       "      <td>3739484.0</td>\n",
       "      <td>23.950</td>\n",
       "      <td>47.21</td>\n",
       "      <td>45.99</td>\n",
       "      <td>1.970</td>\n",
       "    </tr>\n",
       "    <tr>\n",
       "      <th>4</th>\n",
       "      <td>f1_fuel_1994_12_2_0_10</td>\n",
       "      <td>2</td>\n",
       "      <td>1994</td>\n",
       "      <td>chickasaw</td>\n",
       "      <td>gas</td>\n",
       "      <td>mcf</td>\n",
       "      <td>40533.0</td>\n",
       "      <td>1.000</td>\n",
       "      <td>2.77</td>\n",
       "      <td>2.77</td>\n",
       "      <td>2.570</td>\n",
       "    </tr>\n",
       "  </tbody>\n",
       "</table>\n",
       "</div>"
      ],
      "text/plain": [
       "                record_id  utility_id_ferc1  report_year  \\\n",
       "0   f1_fuel_1994_12_1_0_7                 1         1994   \n",
       "1  f1_fuel_1994_12_1_0_10                 1         1994   \n",
       "2   f1_fuel_1994_12_2_0_1                 2         1994   \n",
       "3   f1_fuel_1994_12_2_0_7                 2         1994   \n",
       "4  f1_fuel_1994_12_2_0_10                 2         1994   \n",
       "\n",
       "       plant_name_ferc1 fuel_type_code_pudl fuel_unit  fuel_qty_burned  \\\n",
       "0              rockport                coal       ton        5377489.0   \n",
       "1  rockport total plant                coal       ton       10486945.0   \n",
       "2                gorgas                coal       ton        2978683.0   \n",
       "3                 barry                coal       ton        3739484.0   \n",
       "4             chickasaw                 gas       mcf          40533.0   \n",
       "\n",
       "   fuel_mmbtu_per_unit  fuel_cost_per_unit_burned  \\\n",
       "0               16.590                      18.59   \n",
       "1               16.592                      18.58   \n",
       "2               24.130                      39.72   \n",
       "3               23.950                      47.21   \n",
       "4                1.000                       2.77   \n",
       "\n",
       "   fuel_cost_per_unit_delivered  fuel_cost_per_mmbtu  \n",
       "0                         18.53                1.121  \n",
       "1                         18.53                1.120  \n",
       "2                         38.12                1.650  \n",
       "3                         45.99                1.970  \n",
       "4                          2.77                2.570  "
      ]
     },
     "execution_count": 2,
     "metadata": {},
     "output_type": "execute_result"
    }
   ],
   "source": [
    "#url = 'https://raw.githubusercontent.com/WalePhenomenon/climate_change/master/fuel_ferc1.csv'\n",
    "#data = pd.read_csv(url)\n",
    "#data.to_csv('fuel_data.csv')\n",
    "# UNHARSH THE ABOVE TO DOWNLOAD THE DATA\n",
    "f_data = pd.read_csv('fuel_data.csv', index_col = 0)\n",
    "f_data.head()"
   ]
  },
  {
   "cell_type": "markdown",
   "metadata": {},
   "source": [
    "#### Worksheet and Answers\n",
    "###### Answer 1"
   ]
  },
  {
   "cell_type": "code",
   "execution_count": 3,
   "metadata": {},
   "outputs": [
    {
     "name": "stdout",
     "output_type": "stream",
     "text": [
      "[1, 2, 3, 4, 5, 6, 13, 21, 34]\n",
      "[13, 21, 34]\n",
      "The extended output of A and B, Using extend(): None\n"
     ]
    }
   ],
   "source": [
    "'''The creation of a single dimension output with python function .extend()'''\n",
    "A=[1,2,3,4,5,6]\n",
    "B=[13,21,34] \n",
    "#The extend function help to add input for a continuous list\n",
    "A_B = A.extend(B)\n",
    "print(A)\n",
    "print(B)\n",
    "print('The extended output of A and B, Using extend():', A_B)"
   ]
  },
  {
   "cell_type": "markdown",
   "metadata": {},
   "source": [
    "###### Answer 2"
   ]
  },
  {
   "cell_type": "code",
   "execution_count": 4,
   "metadata": {},
   "outputs": [
    {
     "name": "stdout",
     "output_type": "stream",
     "text": [
      "As regard the option this is the correct answer.\n",
      "[[1. 0. 0.]\n",
      " [0. 1. 0.]\n",
      " [0. 0. 1.]]\n",
      "\n",
      "Another way is:\n",
      " [[1. 0. 0.]\n",
      " [0. 1. 0.]\n",
      " [0. 0. 1.]]\n"
     ]
    }
   ],
   "source": [
    "'''The creation of an identity matrix: can be np.eye(), or np.identity()'''\n",
    "print('As regard the option this is the correct answer.')\n",
    "print(np.identity(3))\n",
    "print('\\nAnother way is:\\n', np.eye(3))"
   ]
  },
  {
   "cell_type": "markdown",
   "metadata": {},
   "source": [
    "##### Answer 3\n",
    "###### Lowest Averages in Python"
   ]
  },
  {
   "cell_type": "code",
   "execution_count": 5,
   "metadata": {},
   "outputs": [
    {
     "name": "stdout",
     "output_type": "stream",
     "text": [
      "fuel_type_code_pudl\n",
      "nuclear    4955.157002\n",
      "oil         168.877086\n",
      "coal         67.421830\n",
      "waste        19.518122\n",
      "other        18.253856\n",
      "gas          13.659397\n",
      "Name: fuel_cost_per_unit_burned, dtype: float64\n",
      "\n",
      "Ans 3: In the fuel per unit burned 13.659396569737135 has the lowest average cost\n"
     ]
    }
   ],
   "source": [
    "'''The lowerest average of fuel burn cost per unit of fuel type.'''\n",
    "print(f_data.groupby('fuel_type_code_pudl')['fuel_cost_per_unit_burned'].mean().nlargest(7))\n",
    "print('\\nAns 3: In the fuel per unit burned {} has the lowest average cost'.format(f_data.groupby('fuel_type_code_pudl')['fuel_cost_per_unit_burned'].mean().nlargest(7)[-1]))"
   ]
  },
  {
   "cell_type": "markdown",
   "metadata": {},
   "source": [
    "##### Answer 4\n",
    "###### Data Summary Statistics"
   ]
  },
  {
   "cell_type": "code",
   "execution_count": 6,
   "metadata": {},
   "outputs": [
    {
     "name": "stdout",
     "output_type": "stream",
     "text": [
      "\n",
      "The fuel_data shape is in 29523 rows and 11 columns, as seen above.\n",
      "\n",
      "Some insight on the data, with summary statistics.\n",
      "\n",
      "Ans 4: For the Fuel energy in mmbtu, it's Standard deviation =  10.6 and the 75th Percentile =  17.01\n"
     ]
    },
    {
     "data": {
      "text/html": [
       "<div>\n",
       "<style scoped>\n",
       "    .dataframe tbody tr th:only-of-type {\n",
       "        vertical-align: middle;\n",
       "    }\n",
       "\n",
       "    .dataframe tbody tr th {\n",
       "        vertical-align: top;\n",
       "    }\n",
       "\n",
       "    .dataframe thead th {\n",
       "        text-align: right;\n",
       "    }\n",
       "</style>\n",
       "<table border=\"1\" class=\"dataframe\">\n",
       "  <thead>\n",
       "    <tr style=\"text-align: right;\">\n",
       "      <th></th>\n",
       "      <th>record_id</th>\n",
       "      <th>utility_id_ferc1</th>\n",
       "      <th>report_year</th>\n",
       "      <th>plant_name_ferc1</th>\n",
       "      <th>fuel_type_code_pudl</th>\n",
       "      <th>fuel_unit</th>\n",
       "      <th>fuel_qty_burned</th>\n",
       "      <th>fuel_mmbtu_per_unit</th>\n",
       "      <th>fuel_cost_per_unit_burned</th>\n",
       "      <th>fuel_cost_per_unit_delivered</th>\n",
       "      <th>fuel_cost_per_mmbtu</th>\n",
       "    </tr>\n",
       "  </thead>\n",
       "  <tbody>\n",
       "    <tr>\n",
       "      <th>count</th>\n",
       "      <td>29523</td>\n",
       "      <td>29523.000000</td>\n",
       "      <td>29523.000000</td>\n",
       "      <td>29523</td>\n",
       "      <td>29523</td>\n",
       "      <td>29343</td>\n",
       "      <td>2.952300e+04</td>\n",
       "      <td>29523.000000</td>\n",
       "      <td>29523.000000</td>\n",
       "      <td>2.952300e+04</td>\n",
       "      <td>29523.000000</td>\n",
       "    </tr>\n",
       "    <tr>\n",
       "      <th>unique</th>\n",
       "      <td>29523</td>\n",
       "      <td>NaN</td>\n",
       "      <td>NaN</td>\n",
       "      <td>2315</td>\n",
       "      <td>6</td>\n",
       "      <td>9</td>\n",
       "      <td>NaN</td>\n",
       "      <td>NaN</td>\n",
       "      <td>NaN</td>\n",
       "      <td>NaN</td>\n",
       "      <td>NaN</td>\n",
       "    </tr>\n",
       "    <tr>\n",
       "      <th>top</th>\n",
       "      <td>f1_fuel_1997_12_101_0_4</td>\n",
       "      <td>NaN</td>\n",
       "      <td>NaN</td>\n",
       "      <td>big stone</td>\n",
       "      <td>gas</td>\n",
       "      <td>mcf</td>\n",
       "      <td>NaN</td>\n",
       "      <td>NaN</td>\n",
       "      <td>NaN</td>\n",
       "      <td>NaN</td>\n",
       "      <td>NaN</td>\n",
       "    </tr>\n",
       "    <tr>\n",
       "      <th>freq</th>\n",
       "      <td>1</td>\n",
       "      <td>NaN</td>\n",
       "      <td>NaN</td>\n",
       "      <td>156</td>\n",
       "      <td>11486</td>\n",
       "      <td>11354</td>\n",
       "      <td>NaN</td>\n",
       "      <td>NaN</td>\n",
       "      <td>NaN</td>\n",
       "      <td>NaN</td>\n",
       "      <td>NaN</td>\n",
       "    </tr>\n",
       "    <tr>\n",
       "      <th>mean</th>\n",
       "      <td>NaN</td>\n",
       "      <td>118.601836</td>\n",
       "      <td>2005.806050</td>\n",
       "      <td>NaN</td>\n",
       "      <td>NaN</td>\n",
       "      <td>NaN</td>\n",
       "      <td>2.622119e+06</td>\n",
       "      <td>8.492111</td>\n",
       "      <td>208.649031</td>\n",
       "      <td>9.175704e+02</td>\n",
       "      <td>19.304354</td>\n",
       "    </tr>\n",
       "    <tr>\n",
       "      <th>std</th>\n",
       "      <td>NaN</td>\n",
       "      <td>74.178353</td>\n",
       "      <td>7.025483</td>\n",
       "      <td>NaN</td>\n",
       "      <td>NaN</td>\n",
       "      <td>NaN</td>\n",
       "      <td>9.118004e+06</td>\n",
       "      <td>10.600220</td>\n",
       "      <td>2854.490090</td>\n",
       "      <td>6.877593e+04</td>\n",
       "      <td>2091.540939</td>\n",
       "    </tr>\n",
       "    <tr>\n",
       "      <th>min</th>\n",
       "      <td>NaN</td>\n",
       "      <td>1.000000</td>\n",
       "      <td>1994.000000</td>\n",
       "      <td>NaN</td>\n",
       "      <td>NaN</td>\n",
       "      <td>NaN</td>\n",
       "      <td>1.000000e+00</td>\n",
       "      <td>0.000001</td>\n",
       "      <td>-276.080000</td>\n",
       "      <td>-8.749370e+02</td>\n",
       "      <td>-41.501000</td>\n",
       "    </tr>\n",
       "    <tr>\n",
       "      <th>25%</th>\n",
       "      <td>NaN</td>\n",
       "      <td>55.000000</td>\n",
       "      <td>2000.000000</td>\n",
       "      <td>NaN</td>\n",
       "      <td>NaN</td>\n",
       "      <td>NaN</td>\n",
       "      <td>1.381700e+04</td>\n",
       "      <td>1.024000</td>\n",
       "      <td>5.207000</td>\n",
       "      <td>3.778500e+00</td>\n",
       "      <td>1.940000</td>\n",
       "    </tr>\n",
       "    <tr>\n",
       "      <th>50%</th>\n",
       "      <td>NaN</td>\n",
       "      <td>122.000000</td>\n",
       "      <td>2006.000000</td>\n",
       "      <td>NaN</td>\n",
       "      <td>NaN</td>\n",
       "      <td>NaN</td>\n",
       "      <td>2.533220e+05</td>\n",
       "      <td>5.762694</td>\n",
       "      <td>26.000000</td>\n",
       "      <td>1.737100e+01</td>\n",
       "      <td>4.127000</td>\n",
       "    </tr>\n",
       "    <tr>\n",
       "      <th>75%</th>\n",
       "      <td>NaN</td>\n",
       "      <td>176.000000</td>\n",
       "      <td>2012.000000</td>\n",
       "      <td>NaN</td>\n",
       "      <td>NaN</td>\n",
       "      <td>NaN</td>\n",
       "      <td>1.424034e+06</td>\n",
       "      <td>17.006000</td>\n",
       "      <td>47.113000</td>\n",
       "      <td>4.213700e+01</td>\n",
       "      <td>7.745000</td>\n",
       "    </tr>\n",
       "    <tr>\n",
       "      <th>max</th>\n",
       "      <td>NaN</td>\n",
       "      <td>514.000000</td>\n",
       "      <td>2018.000000</td>\n",
       "      <td>NaN</td>\n",
       "      <td>NaN</td>\n",
       "      <td>NaN</td>\n",
       "      <td>5.558942e+08</td>\n",
       "      <td>341.260000</td>\n",
       "      <td>139358.000000</td>\n",
       "      <td>7.964521e+06</td>\n",
       "      <td>359278.000000</td>\n",
       "    </tr>\n",
       "  </tbody>\n",
       "</table>\n",
       "</div>"
      ],
      "text/plain": [
       "                      record_id  utility_id_ferc1   report_year  \\\n",
       "count                     29523      29523.000000  29523.000000   \n",
       "unique                    29523               NaN           NaN   \n",
       "top     f1_fuel_1997_12_101_0_4               NaN           NaN   \n",
       "freq                          1               NaN           NaN   \n",
       "mean                        NaN        118.601836   2005.806050   \n",
       "std                         NaN         74.178353      7.025483   \n",
       "min                         NaN          1.000000   1994.000000   \n",
       "25%                         NaN         55.000000   2000.000000   \n",
       "50%                         NaN        122.000000   2006.000000   \n",
       "75%                         NaN        176.000000   2012.000000   \n",
       "max                         NaN        514.000000   2018.000000   \n",
       "\n",
       "       plant_name_ferc1 fuel_type_code_pudl fuel_unit  fuel_qty_burned  \\\n",
       "count             29523               29523     29343     2.952300e+04   \n",
       "unique             2315                   6         9              NaN   \n",
       "top           big stone                 gas       mcf              NaN   \n",
       "freq                156               11486     11354              NaN   \n",
       "mean                NaN                 NaN       NaN     2.622119e+06   \n",
       "std                 NaN                 NaN       NaN     9.118004e+06   \n",
       "min                 NaN                 NaN       NaN     1.000000e+00   \n",
       "25%                 NaN                 NaN       NaN     1.381700e+04   \n",
       "50%                 NaN                 NaN       NaN     2.533220e+05   \n",
       "75%                 NaN                 NaN       NaN     1.424034e+06   \n",
       "max                 NaN                 NaN       NaN     5.558942e+08   \n",
       "\n",
       "        fuel_mmbtu_per_unit  fuel_cost_per_unit_burned  \\\n",
       "count          29523.000000               29523.000000   \n",
       "unique                  NaN                        NaN   \n",
       "top                     NaN                        NaN   \n",
       "freq                    NaN                        NaN   \n",
       "mean               8.492111                 208.649031   \n",
       "std               10.600220                2854.490090   \n",
       "min                0.000001                -276.080000   \n",
       "25%                1.024000                   5.207000   \n",
       "50%                5.762694                  26.000000   \n",
       "75%               17.006000                  47.113000   \n",
       "max              341.260000              139358.000000   \n",
       "\n",
       "        fuel_cost_per_unit_delivered  fuel_cost_per_mmbtu  \n",
       "count                   2.952300e+04         29523.000000  \n",
       "unique                           NaN                  NaN  \n",
       "top                              NaN                  NaN  \n",
       "freq                             NaN                  NaN  \n",
       "mean                    9.175704e+02            19.304354  \n",
       "std                     6.877593e+04          2091.540939  \n",
       "min                    -8.749370e+02           -41.501000  \n",
       "25%                     3.778500e+00             1.940000  \n",
       "50%                     1.737100e+01             4.127000  \n",
       "75%                     4.213700e+01             7.745000  \n",
       "max                     7.964521e+06        359278.000000  "
      ]
     },
     "execution_count": 6,
     "metadata": {},
     "output_type": "execute_result"
    }
   ],
   "source": [
    "'''An eye on the decription of the kind of data.'''\n",
    "print('\\nThe fuel_data shape is in {} rows and {} columns, as seen above.'.format(f_data.shape[0], f_data.shape[1]))\n",
    "print('\\nSome insight on the data, with summary statistics.\\n')\n",
    "print(\"Ans 4: For the Fuel energy in mmbtu, it's Standard deviation = \", round(f_data.fuel_mmbtu_per_unit.std(),2),\n",
    "      \"and the 75th Percentile = \", round(np.percentile(f_data.fuel_mmbtu_per_unit, 75),2))\n",
    "f_data.describe(include='all')"
   ]
  },
  {
   "cell_type": "markdown",
   "metadata": {},
   "source": [
    "##### Answer 5\n",
    "###### Level of Equalitiy Measurement"
   ]
  },
  {
   "cell_type": "code",
   "execution_count": 7,
   "metadata": {},
   "outputs": [
    {
     "name": "stdout",
     "output_type": "stream",
     "text": [
      "\n",
      "Ans 5: For the fuel quantity burned, its skewness is 15.85, and the kurtosis is 651.37.\n"
     ]
    }
   ],
   "source": [
    "'''Consider the how asymetric or symetric the fuel quantity burned is to the data.'''\n",
    "print('\\nAns 5: For the fuel quantity burned, its skewness is {}, and the kurtosis is {}.'.format(round(f_data.fuel_qty_burned.skew(),2), round(f_data.fuel_qty_burned.kurt(),2)))"
   ]
  },
  {
   "cell_type": "markdown",
   "metadata": {},
   "source": [
    "##### Answer 6\n",
    "###### Measure for Missing Values"
   ]
  },
  {
   "cell_type": "code",
   "execution_count": 8,
   "metadata": {},
   "outputs": [
    {
     "name": "stdout",
     "output_type": "stream",
     "text": [
      "Each columns in the fuel data has its null values represented below.\n",
      " record_id                         0\n",
      "utility_id_ferc1                  0\n",
      "report_year                       0\n",
      "plant_name_ferc1                  0\n",
      "fuel_type_code_pudl               0\n",
      "fuel_unit                       180\n",
      "fuel_qty_burned                   0\n",
      "fuel_mmbtu_per_unit               0\n",
      "fuel_cost_per_unit_burned         0\n",
      "fuel_cost_per_unit_delivered      0\n",
      "fuel_cost_per_mmbtu               0\n",
      "dtype: int64\n",
      "\n",
      "The percentage of missing value across all fuel data features is:\n",
      "\n",
      "record_id - 0.0%\n",
      "utility_id_ferc1 - 0.0%\n",
      "report_year - 0.0%\n",
      "plant_name_ferc1 - 0.0%\n",
      "fuel_type_code_pudl - 0.0%\n",
      "fuel_unit - 1.0%\n",
      "fuel_qty_burned - 0.0%\n",
      "fuel_mmbtu_per_unit - 0.0%\n",
      "fuel_cost_per_unit_burned - 0.0%\n",
      "fuel_cost_per_unit_delivered - 0.0%\n",
      "fuel_cost_per_mmbtu - 0.0%\n",
      "\n",
      "Ans 6: The missing data highest Feature is: fuel_unit, Total: 180, Percent: 0.61\n"
     ]
    }
   ],
   "source": [
    "'''Consider the percentage of missing data across columns and on the highest column of mimissing value.'''\n",
    "print('Each columns in the fuel data has its null values represented below.\\n', f_data.isnull().sum())\n",
    "print('\\nThe percentage of missing value across all fuel data features is:\\n')\n",
    "for col in f_data.columns:\n",
    "    pct_missing = np.mean(f_data[col].isnull())\n",
    "    print('{} - {}%'.format(col, round(pct_missing*100), 3))\n",
    "print('\\nAns 6: The missing data highest Feature is: {}, Total: {}, Percent: {}'.format(f_data.loc[:, f_data.isnull().any()].columns[0],\n",
    "                                                   f_data.isnull().sum().nlargest(1)[0],\n",
    "                                                   round(np.mean(f_data.isnull())*100, 3).nlargest(1)[0]))"
   ]
  },
  {
   "cell_type": "markdown",
   "metadata": {},
   "source": [
    "##### Answer 7\n",
    "###### Data Types, Data Category, Imputation Technique"
   ]
  },
  {
   "cell_type": "code",
   "execution_count": 9,
   "metadata": {},
   "outputs": [
    {
     "name": "stdout",
     "output_type": "stream",
     "text": [
      "\n",
      "Also each columns are presented in the following data types.\n",
      " record_id                        object\n",
      "utility_id_ferc1                  int64\n",
      "report_year                       int64\n",
      "plant_name_ferc1                 object\n",
      "fuel_type_code_pudl              object\n",
      "fuel_unit                        object\n",
      "fuel_qty_burned                 float64\n",
      "fuel_mmbtu_per_unit             float64\n",
      "fuel_cost_per_unit_burned       float64\n",
      "fuel_cost_per_unit_delivered    float64\n",
      "fuel_cost_per_mmbtu             float64\n",
      "dtype: object\n",
      "\n",
      "The types of the data can be divided into two set; Numerical data types and Categorical data.\n",
      "\n",
      "The Categorical data features in fuel dataset are: ['record_id', 'plant_name_ferc1', 'fuel_type_code_pudl', 'fuel_unit']\n",
      "\n",
      "While the Numerical data features in fuel dataset are: ['utility_id_ferc1', 'report_year', 'fuel_qty_burned', 'fuel_mmbtu_per_unit', 'fuel_cost_per_unit_burned', 'fuel_cost_per_unit_delivered', 'fuel_cost_per_mmbtu']\n",
      "\n",
      "We identified that the missing value column is Fuel Unit. What method can we use to fill/replace the missing values?\n",
      "Using the fuel type code to further drill down on the fuel unit features.\n",
      "\n",
      "Here is the comparison between fuel unit by the type of fuel.\n",
      " fuel_type_code_pudl  fuel_unit\n",
      "coal                 bbl              1\n",
      "                     mcf              5\n",
      "                     mmbtu           52\n",
      "                     ton           8438\n",
      "gas                  bbl              2\n",
      "                     mcf          11333\n",
      "                     mmbtu           94\n",
      "                     ton              4\n",
      "nuclear              gramsU         464\n",
      "                     kgU            110\n",
      "                     mmbtu           34\n",
      "                     mwdth           95\n",
      "                     mwhth          100\n",
      "oil                  bbl           7952\n",
      "                     gal             81\n",
      "                     mcf              7\n",
      "                     ton              3\n",
      "other                bbl             42\n",
      "                     gal              3\n",
      "                     mcf              9\n",
      "                     ton             77\n",
      "waste                bbl              1\n",
      "                     ton            436\n",
      "Name: fuel_unit, dtype: int64\n",
      "\n",
      "Ans 7: The missing data falls under Categorical features, the best technique to replace its missing values is with the Mode imputation\n",
      "<class 'pandas.core.frame.DataFrame'>\n",
      "Int64Index: 29523 entries, 0 to 29522\n",
      "Data columns (total 11 columns):\n",
      "record_id                       29523 non-null object\n",
      "utility_id_ferc1                29523 non-null int64\n",
      "report_year                     29523 non-null int64\n",
      "plant_name_ferc1                29523 non-null object\n",
      "fuel_type_code_pudl             29523 non-null object\n",
      "fuel_unit                       29343 non-null object\n",
      "fuel_qty_burned                 29523 non-null float64\n",
      "fuel_mmbtu_per_unit             29523 non-null float64\n",
      "fuel_cost_per_unit_burned       29523 non-null float64\n",
      "fuel_cost_per_unit_delivered    29523 non-null float64\n",
      "fuel_cost_per_mmbtu             29523 non-null float64\n",
      "dtypes: float64(5), int64(2), object(4)\n",
      "memory usage: 2.3+ MB\n",
      "None\n"
     ]
    }
   ],
   "source": [
    "'''Knowledge of the data type, data category and technique to solve missisng data in fuel unit column.'''\n",
    "print('\\nAlso each columns are presented in the following data types.\\n', f_data.dtypes)\n",
    "print('\\nThe types of the data can be divided into two set; Numerical data types and Categorical data.')\n",
    "print('\\nThe Categorical data features in fuel dataset are: {}'.format(list(f_data.select_dtypes(include=['object']).copy().columns)))\n",
    "print('\\nWhile the Numerical data features in fuel dataset are: {}'.format(list(f_data.select_dtypes(include=['number']).copy().columns)))\n",
    "\n",
    "# Diging in into the categorical feature of the missing value column [fuel unit].\n",
    "print('\\nWe identified that the missing value column is Fuel Unit. What method can we use to fill/replace the missing values?')\n",
    "print('Using the fuel type code to further drill down on the fuel unit features.\\n\\nHere is the comparison between fuel unit by the type of fuel.\\n',\n",
    "      f_data.groupby(['fuel_type_code_pudl','fuel_unit'])['fuel_unit'].count())\n",
    "print('\\nAns 7: The missing data falls under Categorical features, the best technique to replace its missing values is with the Mode imputation')\n",
    "print(f_data.info())"
   ]
  },
  {
   "cell_type": "markdown",
   "metadata": {},
   "source": [
    "##### Answer 8\n",
    "###### Data Correlation"
   ]
  },
  {
   "cell_type": "code",
   "execution_count": 10,
   "metadata": {},
   "outputs": [
    {
     "name": "stdout",
     "output_type": "stream",
     "text": [
      "Ans 8: The second and third lowest correlation with fuel cost per unit burned column is:\n",
      " fuel_mmbtu_per_unit             0.010034\n",
      "fuel_cost_per_unit_delivered    0.011007\n",
      "Name: fuel_cost_per_unit_burned, dtype: float64\n"
     ]
    }
   ],
   "source": [
    "'''Measurement for the second and third lowest correlation for the fuel cost per unit burned.'''\n",
    "cor = f_data.corr()\n",
    "print('Ans 8: The second and third lowest correlation with fuel cost per unit burned column is:\\n', abs(cor['fuel_cost_per_unit_burned']).sort_values()[1:3])"
   ]
  },
  {
   "cell_type": "markdown",
   "metadata": {},
   "source": [
    "##### Answer 9\n",
    "###### Percentage Changes"
   ]
  },
  {
   "cell_type": "code",
   "execution_count": 11,
   "metadata": {},
   "outputs": [
    {
     "name": "stdout",
     "output_type": "stream",
     "text": [
      "\n",
      "Ans 9: The fuel burned cost change in the fuel type of coal between the year 1998 and 1994 is -21.0%\n"
     ]
    }
   ],
   "source": [
    "'''A percentage change in the cost of coal fuel delivered per unit between year 1998 and 1994'''\n",
    "df = f_data.groupby([f_data['fuel_type_code_pudl'],f_data['report_year']])['fuel_cost_per_unit_burned'].sum()\n",
    "# Calculation for percentage difference\n",
    "diff = round(df.coal.iloc[4],2)-round(df.coal.iloc[0],2)\n",
    "change = diff/round(df.coal.iloc[0],2)\n",
    "perc = change*100\n",
    "print('\\nAns 9: The fuel burned cost change in the fuel type of coal between the year 1998 and 1994 is {}%'.format(round(perc)))"
   ]
  },
  {
   "cell_type": "markdown",
   "metadata": {},
   "source": [
    "##### Answer 10\n",
    "###### Highest Averages"
   ]
  },
  {
   "cell_type": "code",
   "execution_count": 12,
   "metadata": {},
   "outputs": [
    {
     "name": "stdout",
     "output_type": "stream",
     "text": [
      "\n",
      "Ans 10: The top average fuel cost per unit delivered in the report year category is:\n",
      " report_year\n",
      "1997    11140.0\n",
      "1996     9197.0\n",
      "2000      985.0\n",
      "2009      653.0\n",
      "2018      499.0\n",
      "Name: fuel_cost_per_unit_delivered, dtype: float64\n"
     ]
    }
   ],
   "source": [
    "'''Calculation for the highest average of fuel cost per unit delivered by the report year'''\n",
    "print('\\nAns 10: The top average fuel cost per unit delivered in the report year category is:\\n',\n",
    "     round(f_data.groupby(['report_year'])['fuel_cost_per_unit_delivered'].mean().sort_values(ascending=False)).head())"
   ]
  },
  {
   "cell_type": "markdown",
   "metadata": {},
   "source": [
    "## THANK YOU"
   ]
  }
 ],
 "metadata": {
  "kernelspec": {
   "display_name": "Python 3",
   "language": "python",
   "name": "python3"
  },
  "language_info": {
   "codemirror_mode": {
    "name": "ipython",
    "version": 3
   },
   "file_extension": ".py",
   "mimetype": "text/x-python",
   "name": "python",
   "nbconvert_exporter": "python",
   "pygments_lexer": "ipython3",
   "version": "3.8.0"
  }
 },
 "nbformat": 4,
 "nbformat_minor": 4
}
