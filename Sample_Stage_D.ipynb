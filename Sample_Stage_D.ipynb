{
  "nbformat": 4,
  "nbformat_minor": 0,
  "metadata": {
    "colab": {
      "name": "Sample Stage D.ipynb",
      "provenance": [],
      "collapsed_sections": [],
      "authorship_tag": "ABX9TyOsqjBaSmC7tgclr4GH5sal",
      "include_colab_link": true
    },
    "kernelspec": {
      "name": "python3",
      "display_name": "Python 3"
    },
    "accelerator": "GPU"
  },
  "cells": [
    {
      "cell_type": "markdown",
      "metadata": {
        "id": "view-in-github",
        "colab_type": "text"
      },
      "source": [
        "<a href=\"https://colab.research.google.com/github/Ademide-Ade/Adewale-Ademide-HDSC/blob/master/Sample_Stage_D.ipynb\" target=\"_parent\"><img src=\"https://colab.research.google.com/assets/colab-badge.svg\" alt=\"Open In Colab\"/></a>"
      ]
    },
    {
      "cell_type": "code",
      "metadata": {
        "id": "ryzjgetKSC53",
        "colab_type": "code",
        "colab": {
          "base_uri": "https://localhost:8080/",
          "height": 71
        },
        "outputId": "9f8f83de-93c0-4b6e-d41b-5856cfddfddc"
      },
      "source": [
        "import numpy as np\n",
        "import tensorflow as tf\n",
        "import pandas as pd\n",
        "import matplotlib.pyplot as plt\n",
        "import seaborn as sns\n",
        "from tensorflow import keras"
      ],
      "execution_count": 1,
      "outputs": [
        {
          "output_type": "stream",
          "text": [
            "/usr/local/lib/python3.6/dist-packages/statsmodels/tools/_testing.py:19: FutureWarning: pandas.util.testing is deprecated. Use the functions in the public API at pandas.testing instead.\n",
            "  import pandas.util.testing as tm\n"
          ],
          "name": "stderr"
        }
      ]
    },
    {
      "cell_type": "code",
      "metadata": {
        "id": "1fOjoeHxS2PZ",
        "colab_type": "code",
        "colab": {}
      },
      "source": [
        "data = keras.datasets.mnist"
      ],
      "execution_count": 2,
      "outputs": []
    },
    {
      "cell_type": "code",
      "metadata": {
        "id": "gXx1dUDQTMVv",
        "colab_type": "code",
        "colab": {}
      },
      "source": [
        "(train_image, train_label),(test_image, test_label) = data.load_data()"
      ],
      "execution_count": 3,
      "outputs": []
    },
    {
      "cell_type": "code",
      "metadata": {
        "id": "yLVUndbvTgxy",
        "colab_type": "code",
        "colab": {
          "base_uri": "https://localhost:8080/",
          "height": 34
        },
        "outputId": "a2db0455-d21f-4435-c68e-ff5a4db408d2"
      },
      "source": [
        "train_image.max()"
      ],
      "execution_count": 4,
      "outputs": [
        {
          "output_type": "execute_result",
          "data": {
            "text/plain": [
              "255"
            ]
          },
          "metadata": {
            "tags": []
          },
          "execution_count": 4
        }
      ]
    },
    {
      "cell_type": "code",
      "metadata": {
        "id": "fzrPzavlXwgf",
        "colab_type": "code",
        "colab": {
          "base_uri": "https://localhost:8080/",
          "height": 34
        },
        "outputId": "2a39c941-dfc4-48c1-9c6b-c7f368aeb11c"
      },
      "source": [
        "train_label[0]"
      ],
      "execution_count": 5,
      "outputs": [
        {
          "output_type": "execute_result",
          "data": {
            "text/plain": [
              "5"
            ]
          },
          "metadata": {
            "tags": []
          },
          "execution_count": 5
        }
      ]
    },
    {
      "cell_type": "code",
      "metadata": {
        "id": "1zdG08-RWEhD",
        "colab_type": "code",
        "colab": {
          "base_uri": "https://localhost:8080/",
          "height": 34
        },
        "outputId": "faf579eb-7f24-4113-b935-2e539bffba06"
      },
      "source": [
        "test_label.shape"
      ],
      "execution_count": 6,
      "outputs": [
        {
          "output_type": "execute_result",
          "data": {
            "text/plain": [
              "(10000,)"
            ]
          },
          "metadata": {
            "tags": []
          },
          "execution_count": 6
        }
      ]
    },
    {
      "cell_type": "code",
      "metadata": {
        "id": "3LkeSXc9byMX",
        "colab_type": "code",
        "colab": {
          "base_uri": "https://localhost:8080/",
          "height": 34
        },
        "outputId": "fe1c868b-ccd2-49d5-9ade-6a24b7a05f03"
      },
      "source": [
        "test_image.shape"
      ],
      "execution_count": 7,
      "outputs": [
        {
          "output_type": "execute_result",
          "data": {
            "text/plain": [
              "(10000, 28, 28)"
            ]
          },
          "metadata": {
            "tags": []
          },
          "execution_count": 7
        }
      ]
    },
    {
      "cell_type": "code",
      "metadata": {
        "id": "YBHZzWxOb96j",
        "colab_type": "code",
        "colab": {
          "base_uri": "https://localhost:8080/",
          "height": 34
        },
        "outputId": "f9504914-2d57-48cc-a975-3fbbae96c2b6"
      },
      "source": [
        "train_label.shape"
      ],
      "execution_count": 8,
      "outputs": [
        {
          "output_type": "execute_result",
          "data": {
            "text/plain": [
              "(60000,)"
            ]
          },
          "metadata": {
            "tags": []
          },
          "execution_count": 8
        }
      ]
    },
    {
      "cell_type": "code",
      "metadata": {
        "id": "FOheEIV3cZnt",
        "colab_type": "code",
        "colab": {
          "base_uri": "https://localhost:8080/",
          "height": 34
        },
        "outputId": "11304ba7-167f-48d1-ebed-3d4484ae694d"
      },
      "source": [
        "train_image.shape"
      ],
      "execution_count": 9,
      "outputs": [
        {
          "output_type": "execute_result",
          "data": {
            "text/plain": [
              "(60000, 28, 28)"
            ]
          },
          "metadata": {
            "tags": []
          },
          "execution_count": 9
        }
      ]
    },
    {
      "cell_type": "code",
      "metadata": {
        "id": "0bqTGTsrck9c",
        "colab_type": "code",
        "colab": {
          "base_uri": "https://localhost:8080/",
          "height": 34
        },
        "outputId": "ff7563ab-7994-43d8-bcc6-5108bc34d1ea"
      },
      "source": [
        "np.unique(test_label)"
      ],
      "execution_count": 10,
      "outputs": [
        {
          "output_type": "execute_result",
          "data": {
            "text/plain": [
              "array([0, 1, 2, 3, 4, 5, 6, 7, 8, 9], dtype=uint8)"
            ]
          },
          "metadata": {
            "tags": []
          },
          "execution_count": 10
        }
      ]
    },
    {
      "cell_type": "code",
      "metadata": {
        "id": "vwmUXyL3dP92",
        "colab_type": "code",
        "colab": {
          "base_uri": "https://localhost:8080/",
          "height": 357
        },
        "outputId": "c26ac4a2-2dad-413f-ecfd-311430a07f96"
      },
      "source": [
        "np.unique(train_image)"
      ],
      "execution_count": 11,
      "outputs": [
        {
          "output_type": "execute_result",
          "data": {
            "text/plain": [
              "array([  0,   1,   2,   3,   4,   5,   6,   7,   8,   9,  10,  11,  12,\n",
              "        13,  14,  15,  16,  17,  18,  19,  20,  21,  22,  23,  24,  25,\n",
              "        26,  27,  28,  29,  30,  31,  32,  33,  34,  35,  36,  37,  38,\n",
              "        39,  40,  41,  42,  43,  44,  45,  46,  47,  48,  49,  50,  51,\n",
              "        52,  53,  54,  55,  56,  57,  58,  59,  60,  61,  62,  63,  64,\n",
              "        65,  66,  67,  68,  69,  70,  71,  72,  73,  74,  75,  76,  77,\n",
              "        78,  79,  80,  81,  82,  83,  84,  85,  86,  87,  88,  89,  90,\n",
              "        91,  92,  93,  94,  95,  96,  97,  98,  99, 100, 101, 102, 103,\n",
              "       104, 105, 106, 107, 108, 109, 110, 111, 112, 113, 114, 115, 116,\n",
              "       117, 118, 119, 120, 121, 122, 123, 124, 125, 126, 127, 128, 129,\n",
              "       130, 131, 132, 133, 134, 135, 136, 137, 138, 139, 140, 141, 142,\n",
              "       143, 144, 145, 146, 147, 148, 149, 150, 151, 152, 153, 154, 155,\n",
              "       156, 157, 158, 159, 160, 161, 162, 163, 164, 165, 166, 167, 168,\n",
              "       169, 170, 171, 172, 173, 174, 175, 176, 177, 178, 179, 180, 181,\n",
              "       182, 183, 184, 185, 186, 187, 188, 189, 190, 191, 192, 193, 194,\n",
              "       195, 196, 197, 198, 199, 200, 201, 202, 203, 204, 205, 206, 207,\n",
              "       208, 209, 210, 211, 212, 213, 214, 215, 216, 217, 218, 219, 220,\n",
              "       221, 222, 223, 224, 225, 226, 227, 228, 229, 230, 231, 232, 233,\n",
              "       234, 235, 236, 237, 238, 239, 240, 241, 242, 243, 244, 245, 246,\n",
              "       247, 248, 249, 250, 251, 252, 253, 254, 255], dtype=uint8)"
            ]
          },
          "metadata": {
            "tags": []
          },
          "execution_count": 11
        }
      ]
    },
    {
      "cell_type": "code",
      "metadata": {
        "id": "CinL0FmKGBor",
        "colab_type": "code",
        "colab": {
          "base_uri": "https://localhost:8080/",
          "height": 229
        },
        "outputId": "ba02f196-b28c-4e1b-bbe3-d137ba8e1648"
      },
      "source": [
        "plt.figure(figsize=(9,5))\n",
        "\n",
        "plt.subplot(1,3,1)\n",
        "plt.imshow(train_image[0])\n",
        "plt.title('Label: %.f' %train_label[0])\n"
      ],
      "execution_count": 12,
      "outputs": [
        {
          "output_type": "execute_result",
          "data": {
            "text/plain": [
              "Text(0.5, 1.0, 'Label: 5')"
            ]
          },
          "metadata": {
            "tags": []
          },
          "execution_count": 12
        },
        {
          "output_type": "display_data",
          "data": {
            "image/png": "[encoded data removed]",
            "text/plain": [
              "<Figure size 648x360 with 1 Axes>"
            ]
          },
          "metadata": {
            "tags": [],
            "needs_background": "light"
          }
        }
      ]
    },
    {
      "cell_type": "code",
      "metadata": {
        "id": "6m3Se6c5JWXu",
        "colab_type": "code",
        "colab": {
          "base_uri": "https://localhost:8080/",
          "height": 229
        },
        "outputId": "4b0edbbd-4ab8-4dcc-ad1c-d2139e2e9a85"
      },
      "source": [
        "plt.figure(figsize=(9,5))\n",
        "\n",
        "plt.subplot(1,3,2)\n",
        "plt.imshow(train_image[10])\n",
        "plt.title('Label: %.f' %train_label[10])"
      ],
      "execution_count": 13,
      "outputs": [
        {
          "output_type": "execute_result",
          "data": {
            "text/plain": [
              "Text(0.5, 1.0, 'Label: 3')"
            ]
          },
          "metadata": {
            "tags": []
          },
          "execution_count": 13
        },
        {
          "output_type": "display_data",
          "data": {
            "image/png": "[encoded data removed]",
            "text/plain": [
              "<Figure size 648x360 with 1 Axes>"
            ]
          },
          "metadata": {
            "tags": [],
            "needs_background": "light"
          }
        }
      ]
    },
    {
      "cell_type": "code",
      "metadata": {
        "id": "FgauTd-LLVMz",
        "colab_type": "code",
        "colab": {
          "base_uri": "https://localhost:8080/",
          "height": 229
        },
        "outputId": "64d51e42-f744-4882-ea90-0b7b9b39407a"
      },
      "source": [
        "plt.figure(figsize=(9,5))\n",
        "\n",
        "plt.subplot(1,3,3)\n",
        "plt.imshow(test_image[9000])\n",
        "plt.title('Label: %.f' %test_label[9000])\n"
      ],
      "execution_count": 14,
      "outputs": [
        {
          "output_type": "execute_result",
          "data": {
            "text/plain": [
              "Text(0.5, 1.0, 'Label: 7')"
            ]
          },
          "metadata": {
            "tags": []
          },
          "execution_count": 14
        },
        {
          "output_type": "display_data",
          "data": {
            "image/png": "[encoded data removed]",
            "text/plain": [
              "<Figure size 648x360 with 1 Axes>"
            ]
          },
          "metadata": {
            "tags": [],
            "needs_background": "light"
          }
        }
      ]
    },
    {
      "cell_type": "code",
      "metadata": {
        "id": "IEqBoeu6L-qG",
        "colab_type": "code",
        "colab": {
          "base_uri": "https://localhost:8080/",
          "height": 229
        },
        "outputId": "7d99e6a6-2d68-4678-e4ea-238cb713c3ad"
      },
      "source": [
        "plt.figure(figsize=(9,5))\n",
        "\n",
        "plt.subplot(1,3,1)\n",
        "plt.imshow(train_image[50])\n",
        "plt.title('Label: %.f' %train_label[50])\n",
        "\n",
        "plt.subplot(1,3,2)\n",
        "plt.imshow(train_image[800])\n",
        "plt.title('Label: %.f' %train_label[800])\n",
        "\n",
        "plt.subplot(1,3,3)\n",
        "plt.imshow(train_image[20000])\n",
        "plt.title('Label: %.f' %train_label[20000])"
      ],
      "execution_count": 15,
      "outputs": [
        {
          "output_type": "execute_result",
          "data": {
            "text/plain": [
              "Text(0.5, 1.0, 'Label: 5')"
            ]
          },
          "metadata": {
            "tags": []
          },
          "execution_count": 15
        },
        {
          "output_type": "display_data",
          "data": {
            "image/png": "[encoded data removed]",
            "text/plain": [
              "<Figure size 648x360 with 3 Axes>"
            ]
          },
          "metadata": {
            "tags": [],
            "needs_background": "light"
          }
        }
      ]
    },
    {
      "cell_type": "code",
      "metadata": {
        "id": "bfou3DLydamN",
        "colab_type": "code",
        "colab": {
          "base_uri": "https://localhost:8080/",
          "height": 353
        },
        "outputId": "852a1728-a932-443b-b5ff-7e8f11008cee"
      },
      "source": [
        "train_images = train_image/255\n",
        "test_images = test_image/255\n",
        "\n",
        "plt.figure(figsize=(9,5))\n",
        "\n",
        "plt.subplot(2,2,1)\n",
        "plt.imshow(train_images[0])\n",
        "plt.title('(Scaled) Label: %.f' %train_label[0])\n",
        "\n",
        "\n",
        "plt.subplot(2,2,2)\n",
        "plt.imshow(train_image[0])\n",
        "plt.title('Label: %.f' %train_label[0])\n",
        "\n",
        "\n",
        "plt.subplot(2,2,3)\n",
        "plt.imshow(test_images[700])\n",
        "plt.title('(Scaled) Label: %.f' %test_label[700])\n",
        "\n",
        "\n",
        "plt.subplot(2,2,4)\n",
        "plt.imshow(test_image[700])\n",
        "plt.title('Label: %.f' %test_label[700])"
      ],
      "execution_count": 16,
      "outputs": [
        {
          "output_type": "execute_result",
          "data": {
            "text/plain": [
              "Text(0.5, 1.0, 'Label: 1')"
            ]
          },
          "metadata": {
            "tags": []
          },
          "execution_count": 16
        },
        {
          "output_type": "display_data",
          "data": {
            "image/png": "[encoded data removed]",
            "text/plain": [
              "<Figure size 648x360 with 4 Axes>"
            ]
          },
          "metadata": {
            "tags": [],
            "needs_background": "light"
          }
        }
      ]
    },
    {
      "cell_type": "markdown",
      "metadata": {
        "id": "nJ2x2PYpfdWo",
        "colab_type": "text"
      },
      "source": [
        "# Modal Analysis"
      ]
    },
    {
      "cell_type": "code",
      "metadata": {
        "id": "WYgCRpM1gqfD",
        "colab_type": "code",
        "colab": {}
      },
      "source": [
        "x_train = train_images[0:50000]\n",
        "x_val = train_images[50000:]\n",
        "y_train = train_label[0:50000]\n",
        "y_val = train_label[50000:]"
      ],
      "execution_count": 17,
      "outputs": []
    },
    {
      "cell_type": "code",
      "metadata": {
        "id": "t-IKMmHght-g",
        "colab_type": "code",
        "colab": {}
      },
      "source": [
        "new_dimension = np.prod(train_images.shape[1:])\n",
        "x_train = x_train.reshape(x_train.shape[0], new_dimension)\n",
        "x_val = x_val.reshape(x_val.shape[0], new_dimension)\n",
        "test_images = test_images.reshape(test_images.shape[0], new_dimension)"
      ],
      "execution_count": 18,
      "outputs": []
    },
    {
      "cell_type": "code",
      "metadata": {
        "id": "Rqd4rOMYyOUN",
        "colab_type": "code",
        "colab": {}
      },
      "source": [
        "#!pip install --upgrade tensorflow"
      ],
      "execution_count": 19,
      "outputs": []
    },
    {
      "cell_type": "code",
      "metadata": {
        "id": "Z6ayMBwOjaPn",
        "colab_type": "code",
        "colab": {}
      },
      "source": [
        "from tensorflow.keras.utils import to_categorical\n",
        "no_label = 10\n",
        "y_trains = to_categorical(y_train, no_label)\n",
        "y_vals = to_categorical(y_val, no_label)\n",
        "y_test = to_categorical(test_label, no_label)"
      ],
      "execution_count": 20,
      "outputs": []
    },
    {
      "cell_type": "code",
      "metadata": {
        "id": "dv-9Ud1NvnF3",
        "colab_type": "code",
        "colab": {}
      },
      "source": [
        "#!pip install tensorflow==1.4.0"
      ],
      "execution_count": 21,
      "outputs": []
    },
    {
      "cell_type": "code",
      "metadata": {
        "id": "SBdPWxnoxD0T",
        "colab_type": "code",
        "colab": {
          "base_uri": "https://localhost:8080/",
          "height": 88
        },
        "outputId": "31439a94-1ffe-4f04-fbc9-98922622be83"
      },
      "source": [
        "import tensorflow.compat.v1 as tens\n",
        "tens.disable_v2_behavior()"
      ],
      "execution_count": 22,
      "outputs": [
        {
          "output_type": "stream",
          "text": [
            "WARNING:tensorflow:From /usr/local/lib/python3.6/dist-packages/tensorflow/python/compat/v2_compat.py:96: disable_resource_variables (from tensorflow.python.ops.variable_scope) is deprecated and will be removed in a future version.\n",
            "Instructions for updating:\n",
            "non-resource variables are not supported in the long term\n"
          ],
          "name": "stdout"
        }
      ]
    },
    {
      "cell_type": "code",
      "metadata": {
        "id": "QWB-rdJPdzF6",
        "colab_type": "code",
        "colab": {}
      },
      "source": [
        "X = tens.placeholder(tens.float32, [None, new_dimension])\n",
        "Y = tens.placeholder(tens.float32, [None, no_label])"
      ],
      "execution_count": 23,
      "outputs": []
    },
    {
      "cell_type": "code",
      "metadata": {
        "id": "hHfbshyNxVbg",
        "colab_type": "code",
        "colab": {}
      },
      "source": [
        "def multilayer_perceptron(x, no_class, first_layer_neuron = 256, second_layer_neuron = 128):\n",
        "  # First Layer\n",
        "  first_weight = tens.Variable(tens.random_uniform([new_dimension, first_layer_neuron]))\n",
        "  first_bais = tens.Variable(tens.zeros([first_layer_neuron]))\n",
        "  first_layer_output = tens.nn.relu(tens.add(tens.matmul(x, first_weight), first_bais))\n",
        "\n",
        "  # Second Layer\n",
        "  second_weight = tens.Variable(tens.random_uniform([first_layer_neuron, second_layer_neuron]))\n",
        "  second_bais = tens.Variable(tens.zeros([second_layer_neuron]))\n",
        "  second_layer_output = tens.nn.relu(tens.add(tens.matmul(first_layer_output, second_weight), second_bais))\n",
        "\n",
        "  # Output Layer\n",
        "  final_weight = tens.Variable(tens.random_uniform([second_layer_neuron, no_class]))\n",
        "  final_bais = tens.Variable(tens.zeros([no_class]))\n",
        "  logits =tens.add(tens.matmul(second_layer_output, final_weight), final_bais)\n",
        "\n",
        "  return logits\n",
        "\n",
        "logits = multilayer_perceptron(X, no_label)"
      ],
      "execution_count": 24,
      "outputs": []
    },
    {
      "cell_type": "code",
      "metadata": {
        "id": "rNOEH5c-BCIH",
        "colab_type": "code",
        "colab": {
          "base_uri": "https://localhost:8080/",
          "height": 173
        },
        "outputId": "181ee471-24a0-47ce-f3e9-3bbddd57000d"
      },
      "source": [
        "learning_rate = 0.01\n",
        "# The loss and optimiser for the network are defined\n",
        "loss_op = tens.reduce_mean(tens.nn.softmax_cross_entropy_with_logits(logits=logits, labels=Y))\n",
        "optimizer = tens.train.AdamOptimizer(learning_rate= learning_rate)\n",
        "train_ops = optimizer.minimize(loss_op)"
      ],
      "execution_count": 25,
      "outputs": [
        {
          "output_type": "stream",
          "text": [
            "WARNING:tensorflow:From /usr/local/lib/python3.6/dist-packages/tensorflow/python/util/dispatch.py:201: softmax_cross_entropy_with_logits (from tensorflow.python.ops.nn_ops) is deprecated and will be removed in a future version.\n",
            "Instructions for updating:\n",
            "\n",
            "Future major versions of TensorFlow will allow gradients to flow\n",
            "into the labels input on backprop by default.\n",
            "\n",
            "See `tf.nn.softmax_cross_entropy_with_logits_v2`.\n",
            "\n"
          ],
          "name": "stdout"
        }
      ]
    },
    {
      "cell_type": "code",
      "metadata": {
        "id": "feV_XrhSFJne",
        "colab_type": "code",
        "colab": {}
      },
      "source": [
        "# Initialised the variable\n",
        "init = tens.global_variables_initializer()\n",
        "\n",
        "epochs = 20\n",
        "batch_size = 1000\n",
        "iteration = len(x_train) // batch_size"
      ],
      "execution_count": 26,
      "outputs": []
    },
    {
      "cell_type": "code",
      "metadata": {
        "id": "p-DTCBHPGABP",
        "colab_type": "code",
        "colab": {
          "base_uri": "https://localhost:8080/",
          "height": 374
        },
        "outputId": "9dc116f5-ba2a-4cbb-9a31-a88a7d066496"
      },
      "source": [
        "# Training the model\n",
        "with tens.Session() as session:\n",
        "  session.run(init)\n",
        "  for epoch in range(epochs):\n",
        "    average_cost = 0\n",
        "    start, end = 0, batch_size\n",
        "\n",
        "    for i in range(iteration):\n",
        "      batch_x, batch_y = x_train[start: end], y_trains[start: end]\n",
        "      _, loss = session.run([train_ops, loss_op], feed_dict={X: batch_x, Y: batch_y})\n",
        "      start += batch_size\n",
        "      end += batch_size\n",
        "      # Average loss\n",
        "      average_cost += loss/iteration\n",
        "    print('Epoch ============= {}'.format(epoch))\n",
        "\n",
        "  # Evaluation Model\n",
        "  prediction = tens.nn.softmax(logits)\n",
        "  ground_truth = tens.equal(tens.argmax(prediction, 1), tens.argmax(Y, 1))\n",
        "  accuracy = tens.reduce_mean(tens.cast(ground_truth, 'float'))\n",
        "  #session = get_default_session()\n",
        "  print('Accuracy: {}'.format(accuracy.eval({X: test_images, Y: y_test})))"
      ],
      "execution_count": 27,
      "outputs": [
        {
          "output_type": "stream",
          "text": [
            "Epoch ============= 0\n",
            "Epoch ============= 1\n",
            "Epoch ============= 2\n",
            "Epoch ============= 3\n",
            "Epoch ============= 4\n",
            "Epoch ============= 5\n",
            "Epoch ============= 6\n",
            "Epoch ============= 7\n",
            "Epoch ============= 8\n",
            "Epoch ============= 9\n",
            "Epoch ============= 10\n",
            "Epoch ============= 11\n",
            "Epoch ============= 12\n",
            "Epoch ============= 13\n",
            "Epoch ============= 14\n",
            "Epoch ============= 15\n",
            "Epoch ============= 16\n",
            "Epoch ============= 17\n",
            "Epoch ============= 18\n",
            "Epoch ============= 19\n",
            "Accuracy: 0.869700014591217\n"
          ],
          "name": "stdout"
        }
      ]
    },
    {
      "cell_type": "code",
      "metadata": {
        "id": "yo7X4lwPKjuB",
        "colab_type": "code",
        "colab": {
          "base_uri": "https://localhost:8080/",
          "height": 819
        },
        "outputId": "b5091fb3-2b1e-42c6-8f8f-473641c2eae8"
      },
      "source": [
        "# Building a Sequential feed forward using Keras\n",
        "\n",
        "from tensorflow.keras.layers import Dense\n",
        "from tensorflow.keras.models import Sequential\n",
        "\n",
        "#model = Sequential()\n",
        "# model.add(Dense(256, activation='relu', input_shape=(new_dimension,)))\n",
        "#model.add(Flatten(input_shape=(28,28)))\n",
        "#model.add(Dense(128, activation='relu'))\n",
        "#model.add(Dense(no_label, activation= 'softmax'))\n",
        "model = keras.Sequential([\n",
        "      keras.layers.Flatten(input_shape=(new_dimension,)), # this here is our first layer; \"Input layer\"\n",
        "      keras.layers.Dense(128, activation='relu'), # this is the second layer, Dense - each neurone/node is connected to other neurons in the next network\n",
        "      keras.layers.Dense(no_label,activation='softmax') ])# Output layer to produce expected 10 neurons\n",
        "\n",
        "model.compile(optimizer= 'adam', loss=\"sparse_categorical_crossentropy\",\n",
        "              metrics= ['accuracy'])\n",
        "\n",
        "history = model.fit(x_train, y_train, validation_data = (x_val, y_val), epochs=20, batch_size = 1000)\n",
        "test_loss, test_accuracy = model.evaluate(test_images, test_label)\n",
        "print('Test loss: {}'.format(test_loss))\n",
        "print('Test accuracy: {}'.format(test_accuracy))"
      ],
      "execution_count": 28,
      "outputs": [
        {
          "output_type": "stream",
          "text": [
            "Train on 50000 samples, validate on 10000 samples\n",
            "Epoch 1/20\n",
            "44000/50000 [=========================>....] - ETA: 0s - loss: 0.9729 - acc: 0.7481WARNING:tensorflow:From /usr/local/lib/python3.6/dist-packages/tensorflow/python/keras/engine/training_v1.py:2048: Model.state_updates (from tensorflow.python.keras.engine.training) is deprecated and will be removed in a future version.\n",
            "Instructions for updating:\n",
            "This property should not be used in TensorFlow 2.0, as updates are applied automatically.\n",
            "50000/50000 [==============================] - 0s 6us/sample - loss: 0.9052 - acc: 0.7648 - val_loss: 0.3561 - val_acc: 0.9036\n",
            "Epoch 2/20\n",
            "50000/50000 [==============================] - 0s 6us/sample - loss: 0.3376 - acc: 0.9055 - val_loss: 0.2719 - val_acc: 0.9265\n",
            "Epoch 3/20\n",
            "50000/50000 [==============================] - 0s 5us/sample - loss: 0.2725 - acc: 0.9245 - val_loss: 0.2340 - val_acc: 0.9365\n",
            "Epoch 4/20\n",
            "50000/50000 [==============================] - 0s 5us/sample - loss: 0.2342 - acc: 0.9350 - val_loss: 0.2056 - val_acc: 0.9450\n",
            "Epoch 5/20\n",
            "50000/50000 [==============================] - 0s 5us/sample - loss: 0.2042 - acc: 0.9437 - val_loss: 0.1835 - val_acc: 0.9505\n",
            "Epoch 6/20\n",
            "50000/50000 [==============================] - 0s 5us/sample - loss: 0.1812 - acc: 0.9495 - val_loss: 0.1663 - val_acc: 0.9555\n",
            "Epoch 7/20\n",
            "50000/50000 [==============================] - 0s 5us/sample - loss: 0.1622 - acc: 0.9549 - val_loss: 0.1561 - val_acc: 0.9586\n",
            "Epoch 8/20\n",
            "50000/50000 [==============================] - 0s 6us/sample - loss: 0.1471 - acc: 0.9592 - val_loss: 0.1431 - val_acc: 0.9610\n",
            "Epoch 9/20\n",
            "50000/50000 [==============================] - 0s 6us/sample - loss: 0.1327 - acc: 0.9630 - val_loss: 0.1351 - val_acc: 0.9632\n",
            "Epoch 10/20\n",
            "50000/50000 [==============================] - 0s 5us/sample - loss: 0.1223 - acc: 0.9662 - val_loss: 0.1295 - val_acc: 0.9640\n",
            "Epoch 11/20\n",
            "50000/50000 [==============================] - 0s 5us/sample - loss: 0.1128 - acc: 0.9685 - val_loss: 0.1218 - val_acc: 0.9648\n",
            "Epoch 12/20\n",
            "50000/50000 [==============================] - 0s 6us/sample - loss: 0.1034 - acc: 0.9717 - val_loss: 0.1164 - val_acc: 0.9674\n",
            "Epoch 13/20\n",
            "50000/50000 [==============================] - 0s 5us/sample - loss: 0.0971 - acc: 0.9730 - val_loss: 0.1115 - val_acc: 0.9680\n",
            "Epoch 14/20\n",
            "50000/50000 [==============================] - 0s 5us/sample - loss: 0.0895 - acc: 0.9754 - val_loss: 0.1086 - val_acc: 0.9690\n",
            "Epoch 15/20\n",
            "50000/50000 [==============================] - 0s 5us/sample - loss: 0.0841 - acc: 0.9771 - val_loss: 0.1050 - val_acc: 0.9697\n",
            "Epoch 16/20\n",
            "50000/50000 [==============================] - 0s 5us/sample - loss: 0.0779 - acc: 0.9789 - val_loss: 0.1017 - val_acc: 0.9701\n",
            "Epoch 17/20\n",
            "50000/50000 [==============================] - 0s 5us/sample - loss: 0.0736 - acc: 0.9801 - val_loss: 0.1014 - val_acc: 0.9693\n",
            "Epoch 18/20\n",
            "50000/50000 [==============================] - 0s 5us/sample - loss: 0.0689 - acc: 0.9809 - val_loss: 0.0979 - val_acc: 0.9714\n",
            "Epoch 19/20\n",
            "50000/50000 [==============================] - 0s 5us/sample - loss: 0.0648 - acc: 0.9828 - val_loss: 0.0993 - val_acc: 0.9702\n",
            "Epoch 20/20\n",
            "50000/50000 [==============================] - 0s 5us/sample - loss: 0.0614 - acc: 0.9836 - val_loss: 0.0934 - val_acc: 0.9725\n",
            "Test loss: 0.09358695021346211\n",
            "Test accuracy: 0.9711999893188477\n"
          ],
          "name": "stdout"
        }
      ]
    },
    {
      "cell_type": "code",
      "metadata": {
        "id": "zwLkej9LSLc_",
        "colab_type": "code",
        "colab": {
          "base_uri": "https://localhost:8080/",
          "height": 312
        },
        "outputId": "180e88bb-46f4-4797-8187-26e6f00de1ce"
      },
      "source": [
        "# Check for Overfitting \n",
        "plt.figure()\n",
        "plt.plot(history.history['loss'], 'blue')\n",
        "plt.plot(history.history['val_loss'], 'red')\n",
        "plt.legend(['Training_loss', 'Validation loss'])\n",
        "plt.xlabel('Epochs')\n",
        "plt.ylabel('Loss')\n",
        "plt.title('Loss curve - Before regularisation')"
      ],
      "execution_count": 29,
      "outputs": [
        {
          "output_type": "execute_result",
          "data": {
            "text/plain": [
              "Text(0.5, 1.0, 'Loss curve - Before regularisation')"
            ]
          },
          "metadata": {
            "tags": []
          },
          "execution_count": 29
        },
        {
          "output_type": "display_data",
          "data": {
            "image/png": "[encoded data removed]",
            "text/plain": [
              "<Figure size 432x288 with 1 Axes>"
            ]
          },
          "metadata": {
            "tags": [],
            "needs_background": "light"
          }
        }
      ]
    },
    {
      "cell_type": "code",
      "metadata": {
        "id": "6x3k6IywTlpv",
        "colab_type": "code",
        "colab": {
          "base_uri": "https://localhost:8080/",
          "height": 748
        },
        "outputId": "193e0f2f-b1eb-4ea2-b695-4970302af9a1"
      },
      "source": [
        "# Although the validation and training loss seems great, we can as well see that the validation loss increases.\n",
        "# With this that we have observed, it identifies overfitting in our network. How do we proceed?\n",
        "\n",
        "# We proceed by introducing Regularisation to the model.\n",
        "\n",
        "from tensorflow.keras.layers import Dropout\n",
        "\n",
        "regularised = Sequential()\n",
        "regularised.add(Dense(256, activation='relu', input_shape=(new_dimension,)))\n",
        "regularised.add(Dropout(0.4))\n",
        "regularised.add(Dense(128, activation='relu'))\n",
        "regularised.add(Dropout(0.4))\n",
        "regularised.add(Dense(no_label, activation='softmax'))\n",
        "\n",
        "regularised.compile(optimizer='adam', loss=tens.keras.losses.sparse_categorical_crossentropy,\n",
        "                    metrics=['accuracy'])\n",
        "reg_history = regularised.fit(x_train, y_train, validation_data=(x_val, y_val), epochs = 20, batch_size=1000)\n",
        "test_loss, test_accuracy = regularised.evaluate(test_images, test_label)\n",
        "print('Test loss: {}'.format(test_loss))\n",
        "print('Test accuracy: {}'.format(test_accuracy))"
      ],
      "execution_count": 30,
      "outputs": [
        {
          "output_type": "stream",
          "text": [
            "Train on 50000 samples, validate on 10000 samples\n",
            "Epoch 1/20\n",
            "50000/50000 [==============================] - 0s 7us/sample - loss: 0.9649 - acc: 0.6966 - val_loss: 0.2981 - val_acc: 0.9144\n",
            "Epoch 2/20\n",
            "50000/50000 [==============================] - 0s 6us/sample - loss: 0.3817 - acc: 0.8874 - val_loss: 0.2015 - val_acc: 0.9423\n",
            "Epoch 3/20\n",
            "50000/50000 [==============================] - 0s 6us/sample - loss: 0.2827 - acc: 0.9165 - val_loss: 0.1610 - val_acc: 0.9538\n",
            "Epoch 4/20\n",
            "50000/50000 [==============================] - 0s 6us/sample - loss: 0.2296 - acc: 0.9326 - val_loss: 0.1383 - val_acc: 0.9607\n",
            "Epoch 5/20\n",
            "50000/50000 [==============================] - 0s 6us/sample - loss: 0.1967 - acc: 0.9422 - val_loss: 0.1235 - val_acc: 0.9646\n",
            "Epoch 6/20\n",
            "50000/50000 [==============================] - 0s 6us/sample - loss: 0.1784 - acc: 0.9469 - val_loss: 0.1114 - val_acc: 0.9673\n",
            "Epoch 7/20\n",
            "50000/50000 [==============================] - 0s 6us/sample - loss: 0.1583 - acc: 0.9530 - val_loss: 0.1010 - val_acc: 0.9707\n",
            "Epoch 8/20\n",
            "50000/50000 [==============================] - 0s 6us/sample - loss: 0.1435 - acc: 0.9576 - val_loss: 0.0943 - val_acc: 0.9708\n",
            "Epoch 9/20\n",
            "50000/50000 [==============================] - 0s 6us/sample - loss: 0.1336 - acc: 0.9596 - val_loss: 0.0882 - val_acc: 0.9728\n",
            "Epoch 10/20\n",
            "50000/50000 [==============================] - 0s 6us/sample - loss: 0.1219 - acc: 0.9638 - val_loss: 0.0853 - val_acc: 0.9738\n",
            "Epoch 11/20\n",
            "50000/50000 [==============================] - 0s 6us/sample - loss: 0.1123 - acc: 0.9665 - val_loss: 0.0834 - val_acc: 0.9735\n",
            "Epoch 12/20\n",
            "50000/50000 [==============================] - 0s 6us/sample - loss: 0.1050 - acc: 0.9680 - val_loss: 0.0807 - val_acc: 0.9747\n",
            "Epoch 13/20\n",
            "50000/50000 [==============================] - 0s 6us/sample - loss: 0.0966 - acc: 0.9702 - val_loss: 0.0759 - val_acc: 0.9755\n",
            "Epoch 14/20\n",
            "50000/50000 [==============================] - 0s 6us/sample - loss: 0.0935 - acc: 0.9718 - val_loss: 0.0749 - val_acc: 0.9777\n",
            "Epoch 15/20\n",
            "50000/50000 [==============================] - 0s 6us/sample - loss: 0.0865 - acc: 0.9738 - val_loss: 0.0767 - val_acc: 0.9768\n",
            "Epoch 16/20\n",
            "50000/50000 [==============================] - 0s 6us/sample - loss: 0.0829 - acc: 0.9750 - val_loss: 0.0728 - val_acc: 0.9777\n",
            "Epoch 17/20\n",
            "50000/50000 [==============================] - 0s 6us/sample - loss: 0.0784 - acc: 0.9766 - val_loss: 0.0708 - val_acc: 0.9779\n",
            "Epoch 18/20\n",
            "50000/50000 [==============================] - 0s 6us/sample - loss: 0.0746 - acc: 0.9761 - val_loss: 0.0715 - val_acc: 0.9769\n",
            "Epoch 19/20\n",
            "50000/50000 [==============================] - 0s 6us/sample - loss: 0.0682 - acc: 0.9794 - val_loss: 0.0685 - val_acc: 0.9783\n",
            "Epoch 20/20\n",
            "50000/50000 [==============================] - 0s 6us/sample - loss: 0.0686 - acc: 0.9787 - val_loss: 0.0721 - val_acc: 0.9791\n",
            "Test loss: 0.07520400493643246\n",
            "Test accuracy: 0.9775000214576721\n"
          ],
          "name": "stdout"
        }
      ]
    },
    {
      "cell_type": "code",
      "metadata": {
        "id": "h-M8NDriYSX0",
        "colab_type": "code",
        "colab": {
          "base_uri": "https://localhost:8080/",
          "height": 312
        },
        "outputId": "b365b547-ccd7-443f-e7fc-505812288ba8"
      },
      "source": [
        "plt.figure()\n",
        "plt.plot(reg_history.history['loss'], 'blue')\n",
        "plt.plot(reg_history.history['val_loss'], 'red')\n",
        "plt.legend(['Training loss', 'Validation loss'])\n",
        "plt.xlabel('Epochs')\n",
        "plt.ylabel('Loss')\n",
        "plt.title('Loss Curve - After regularisation')"
      ],
      "execution_count": 31,
      "outputs": [
        {
          "output_type": "execute_result",
          "data": {
            "text/plain": [
              "Text(0.5, 1.0, 'Loss Curve - After regularisation')"
            ]
          },
          "metadata": {
            "tags": []
          },
          "execution_count": 31
        },
        {
          "output_type": "display_data",
          "data": {
            "image/png": "[encoded data removed]",
            "text/plain": [
              "<Figure size 432x288 with 1 Axes>"
            ]
          },
          "metadata": {
            "tags": [],
            "needs_background": "light"
          }
        }
      ]
    }
  ]
}