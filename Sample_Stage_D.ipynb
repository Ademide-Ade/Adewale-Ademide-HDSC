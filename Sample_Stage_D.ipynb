{
  "nbformat": 4,
  "nbformat_minor": 0,
  "metadata": {
    "colab": {
      "name": "Sample Stage D.ipynb",
      "provenance": [],
      "collapsed_sections": [],
      "authorship_tag": "ABX9TyOZWl8Y5uIhjS5ROZlygEMD",
      "include_colab_link": true
    },
    "kernelspec": {
      "name": "python3",
      "display_name": "Python 3"
    },
    "accelerator": "GPU"
  },
  "cells": [
    {
      "cell_type": "markdown",
      "metadata": {
        "id": "view-in-github",
        "colab_type": "text"
      },
      "source": [
        "<a href=\"https://colab.research.google.com/github/Ademide-Ade/Adewale-Ademide-HDSC/blob/master/Sample_Stage_D.ipynb\" target=\"_parent\"><img src=\"https://colab.research.google.com/assets/colab-badge.svg\" alt=\"Open In Colab\"/></a>"
      ]
    },
    {
      "cell_type": "markdown",
      "metadata": {
        "id": "128txF_dC9_h",
        "colab_type": "text"
      },
      "source": [
        "# Introduction To TensorFlow: Overview of the MNIST Dataset"
      ]
    },
    {
      "cell_type": "markdown",
      "metadata": {
        "id": "vyI_WXx1DR-k",
        "colab_type": "text"
      },
      "source": [
        "## Data Classification & Review"
      ]
    },
    {
      "cell_type": "code",
      "metadata": {
        "id": "ryzjgetKSC53",
        "colab_type": "code",
        "colab": {
          "base_uri": "https://localhost:8080/",
          "height": 71
        },
        "outputId": "8077f8b5-42c3-4b5d-c51a-bbbc5eb4433b"
      },
      "source": [
        "import numpy as np\n",
        "import tensorflow as tf\n",
        "import pandas as pd\n",
        "import matplotlib.pyplot as plt\n",
        "import seaborn as sns\n",
        "from tensorflow import keras"
      ],
      "execution_count": 1,
      "outputs": [
        {
          "output_type": "stream",
          "text": [
            "/usr/local/lib/python3.6/dist-packages/statsmodels/tools/_testing.py:19: FutureWarning: pandas.util.testing is deprecated. Use the functions in the public API at pandas.testing instead.\n",
            "  import pandas.util.testing as tm\n"
          ],
          "name": "stderr"
        }
      ]
    },
    {
      "cell_type": "code",
      "metadata": {
        "id": "1fOjoeHxS2PZ",
        "colab_type": "code",
        "colab": {}
      },
      "source": [
        "data = keras.datasets.mnist"
      ],
      "execution_count": 2,
      "outputs": []
    },
    {
      "cell_type": "code",
      "metadata": {
        "id": "gXx1dUDQTMVv",
        "colab_type": "code",
        "colab": {}
      },
      "source": [
        "(train_image, train_label),(test_image, test_label) = data.load_data()"
      ],
      "execution_count": 3,
      "outputs": []
    },
    {
      "cell_type": "code",
      "metadata": {
        "id": "yLVUndbvTgxy",
        "colab_type": "code",
        "colab": {
          "base_uri": "https://localhost:8080/",
          "height": 34
        },
        "outputId": "f0f0a0ba-689b-42a7-a5e5-bc0a8838f2fa"
      },
      "source": [
        "train_image.max()"
      ],
      "execution_count": 4,
      "outputs": [
        {
          "output_type": "execute_result",
          "data": {
            "text/plain": [
              "255"
            ]
          },
          "metadata": {
            "tags": []
          },
          "execution_count": 4
        }
      ]
    },
    {
      "cell_type": "code",
      "metadata": {
        "id": "fzrPzavlXwgf",
        "colab_type": "code",
        "colab": {
          "base_uri": "https://localhost:8080/",
          "height": 34
        },
        "outputId": "0639a35a-2d2e-450f-91db-eb2e5bc50299"
      },
      "source": [
        "train_label[0]"
      ],
      "execution_count": 5,
      "outputs": [
        {
          "output_type": "execute_result",
          "data": {
            "text/plain": [
              "5"
            ]
          },
          "metadata": {
            "tags": []
          },
          "execution_count": 5
        }
      ]
    },
    {
      "cell_type": "code",
      "metadata": {
        "id": "1zdG08-RWEhD",
        "colab_type": "code",
        "colab": {
          "base_uri": "https://localhost:8080/",
          "height": 34
        },
        "outputId": "a1281692-cfcf-47db-e0d7-fa0ad3d33a5f"
      },
      "source": [
        "test_label.shape"
      ],
      "execution_count": 6,
      "outputs": [
        {
          "output_type": "execute_result",
          "data": {
            "text/plain": [
              "(10000,)"
            ]
          },
          "metadata": {
            "tags": []
          },
          "execution_count": 6
        }
      ]
    },
    {
      "cell_type": "code",
      "metadata": {
        "id": "3LkeSXc9byMX",
        "colab_type": "code",
        "colab": {
          "base_uri": "https://localhost:8080/",
          "height": 34
        },
        "outputId": "ab749ae6-6c2a-44b7-ce4d-fd85de96570d"
      },
      "source": [
        "test_image.shape"
      ],
      "execution_count": 7,
      "outputs": [
        {
          "output_type": "execute_result",
          "data": {
            "text/plain": [
              "(10000, 28, 28)"
            ]
          },
          "metadata": {
            "tags": []
          },
          "execution_count": 7
        }
      ]
    },
    {
      "cell_type": "code",
      "metadata": {
        "id": "YBHZzWxOb96j",
        "colab_type": "code",
        "colab": {
          "base_uri": "https://localhost:8080/",
          "height": 34
        },
        "outputId": "88231ef5-fb93-4876-d8e0-471672e18f49"
      },
      "source": [
        "train_label.shape"
      ],
      "execution_count": 8,
      "outputs": [
        {
          "output_type": "execute_result",
          "data": {
            "text/plain": [
              "(60000,)"
            ]
          },
          "metadata": {
            "tags": []
          },
          "execution_count": 8
        }
      ]
    },
    {
      "cell_type": "code",
      "metadata": {
        "id": "FOheEIV3cZnt",
        "colab_type": "code",
        "colab": {
          "base_uri": "https://localhost:8080/",
          "height": 34
        },
        "outputId": "8fa25de8-2ae2-4f74-b4d5-ce7325b638b1"
      },
      "source": [
        "train_image.shape"
      ],
      "execution_count": 9,
      "outputs": [
        {
          "output_type": "execute_result",
          "data": {
            "text/plain": [
              "(60000, 28, 28)"
            ]
          },
          "metadata": {
            "tags": []
          },
          "execution_count": 9
        }
      ]
    },
    {
      "cell_type": "code",
      "metadata": {
        "id": "0bqTGTsrck9c",
        "colab_type": "code",
        "colab": {
          "base_uri": "https://localhost:8080/",
          "height": 34
        },
        "outputId": "cd1b75e3-5224-4366-d287-f43942403dba"
      },
      "source": [
        "np.unique(test_label)"
      ],
      "execution_count": 10,
      "outputs": [
        {
          "output_type": "execute_result",
          "data": {
            "text/plain": [
              "array([0, 1, 2, 3, 4, 5, 6, 7, 8, 9], dtype=uint8)"
            ]
          },
          "metadata": {
            "tags": []
          },
          "execution_count": 10
        }
      ]
    },
    {
      "cell_type": "code",
      "metadata": {
        "id": "vwmUXyL3dP92",
        "colab_type": "code",
        "colab": {
          "base_uri": "https://localhost:8080/",
          "height": 357
        },
        "outputId": "00c003a0-4033-4fcb-8d14-ede622167681"
      },
      "source": [
        "np.unique(train_image)"
      ],
      "execution_count": 11,
      "outputs": [
        {
          "output_type": "execute_result",
          "data": {
            "text/plain": [
              "array([  0,   1,   2,   3,   4,   5,   6,   7,   8,   9,  10,  11,  12,\n",
              "        13,  14,  15,  16,  17,  18,  19,  20,  21,  22,  23,  24,  25,\n",
              "        26,  27,  28,  29,  30,  31,  32,  33,  34,  35,  36,  37,  38,\n",
              "        39,  40,  41,  42,  43,  44,  45,  46,  47,  48,  49,  50,  51,\n",
              "        52,  53,  54,  55,  56,  57,  58,  59,  60,  61,  62,  63,  64,\n",
              "        65,  66,  67,  68,  69,  70,  71,  72,  73,  74,  75,  76,  77,\n",
              "        78,  79,  80,  81,  82,  83,  84,  85,  86,  87,  88,  89,  90,\n",
              "        91,  92,  93,  94,  95,  96,  97,  98,  99, 100, 101, 102, 103,\n",
              "       104, 105, 106, 107, 108, 109, 110, 111, 112, 113, 114, 115, 116,\n",
              "       117, 118, 119, 120, 121, 122, 123, 124, 125, 126, 127, 128, 129,\n",
              "       130, 131, 132, 133, 134, 135, 136, 137, 138, 139, 140, 141, 142,\n",
              "       143, 144, 145, 146, 147, 148, 149, 150, 151, 152, 153, 154, 155,\n",
              "       156, 157, 158, 159, 160, 161, 162, 163, 164, 165, 166, 167, 168,\n",
              "       169, 170, 171, 172, 173, 174, 175, 176, 177, 178, 179, 180, 181,\n",
              "       182, 183, 184, 185, 186, 187, 188, 189, 190, 191, 192, 193, 194,\n",
              "       195, 196, 197, 198, 199, 200, 201, 202, 203, 204, 205, 206, 207,\n",
              "       208, 209, 210, 211, 212, 213, 214, 215, 216, 217, 218, 219, 220,\n",
              "       221, 222, 223, 224, 225, 226, 227, 228, 229, 230, 231, 232, 233,\n",
              "       234, 235, 236, 237, 238, 239, 240, 241, 242, 243, 244, 245, 246,\n",
              "       247, 248, 249, 250, 251, 252, 253, 254, 255], dtype=uint8)"
            ]
          },
          "metadata": {
            "tags": []
          },
          "execution_count": 11
        }
      ]
    },
    {
      "cell_type": "code",
      "metadata": {
        "id": "CinL0FmKGBor",
        "colab_type": "code",
        "colab": {
          "base_uri": "https://localhost:8080/",
          "height": 229
        },
        "outputId": "d69777ec-4772-48f4-bfd5-3e4004d854ca"
      },
      "source": [
        "plt.figure(figsize=(9,5))\n",
        "\n",
        "plt.subplot(1,3,1)\n",
        "plt.imshow(train_image[0])\n",
        "plt.title('Label: %.f' %train_label[0])\n"
      ],
      "execution_count": 12,
      "outputs": [
        {
          "output_type": "execute_result",
          "data": {
            "text/plain": [
              "Text(0.5, 1.0, 'Label: 5')"
            ]
          },
          "metadata": {
            "tags": []
          },
          "execution_count": 12
        },
        {
          "output_type": "display_data",
          "data": {
            "image/png": "[encoded data removed]",
            "text/plain": [
              "<Figure size 648x360 with 1 Axes>"
            ]
          },
          "metadata": {
            "tags": [],
            "needs_background": "light"
          }
        }
      ]
    },
    {
      "cell_type": "code",
      "metadata": {
        "id": "6m3Se6c5JWXu",
        "colab_type": "code",
        "colab": {
          "base_uri": "https://localhost:8080/",
          "height": 229
        },
        "outputId": "08ddbc0b-7430-4143-e42b-7320af5a221f"
      },
      "source": [
        "plt.figure(figsize=(9,5))\n",
        "\n",
        "plt.subplot(1,3,2)\n",
        "plt.imshow(train_image[10])\n",
        "plt.title('Label: %.f' %train_label[10])"
      ],
      "execution_count": 13,
      "outputs": [
        {
          "output_type": "execute_result",
          "data": {
            "text/plain": [
              "Text(0.5, 1.0, 'Label: 3')"
            ]
          },
          "metadata": {
            "tags": []
          },
          "execution_count": 13
        },
        {
          "output_type": "display_data",
          "data": {
            "image/png": "[encoded data removed]",
            "text/plain": [
              "<Figure size 648x360 with 1 Axes>"
            ]
          },
          "metadata": {
            "tags": [],
            "needs_background": "light"
          }
        }
      ]
    },
    {
      "cell_type": "code",
      "metadata": {
        "id": "FgauTd-LLVMz",
        "colab_type": "code",
        "colab": {
          "base_uri": "https://localhost:8080/",
          "height": 229
        },
        "outputId": "d254e3c5-13cc-40c8-af08-92d55bcda7f5"
      },
      "source": [
        "plt.figure(figsize=(9,5))\n",
        "\n",
        "plt.subplot(1,3,3)\n",
        "plt.imshow(test_image[9000])\n",
        "plt.title('Label: %.f' %test_label[9000])\n"
      ],
      "execution_count": 14,
      "outputs": [
        {
          "output_type": "execute_result",
          "data": {
            "text/plain": [
              "Text(0.5, 1.0, 'Label: 7')"
            ]
          },
          "metadata": {
            "tags": []
          },
          "execution_count": 14
        },
        {
          "output_type": "display_data",
          "data": {
            "image/png": "[encoded data removed]",
            "text/plain": [
              "<Figure size 648x360 with 1 Axes>"
            ]
          },
          "metadata": {
            "tags": [],
            "needs_background": "light"
          }
        }
      ]
    },
    {
      "cell_type": "code",
      "metadata": {
        "id": "IEqBoeu6L-qG",
        "colab_type": "code",
        "colab": {
          "base_uri": "https://localhost:8080/",
          "height": 229
        },
        "outputId": "0d878159-d10d-4d02-dab8-160940089452"
      },
      "source": [
        "plt.figure(figsize=(9,5))\n",
        "\n",
        "plt.subplot(1,3,1)\n",
        "plt.imshow(train_image[50])\n",
        "plt.title('Label: %.f' %train_label[50])\n",
        "\n",
        "plt.subplot(1,3,2)\n",
        "plt.imshow(train_image[800])\n",
        "plt.title('Label: %.f' %train_label[800])\n",
        "\n",
        "plt.subplot(1,3,3)\n",
        "plt.imshow(train_image[20000])\n",
        "plt.title('Label: %.f' %train_label[20000])"
      ],
      "execution_count": 15,
      "outputs": [
        {
          "output_type": "execute_result",
          "data": {
            "text/plain": [
              "Text(0.5, 1.0, 'Label: 5')"
            ]
          },
          "metadata": {
            "tags": []
          },
          "execution_count": 15
        },
        {
          "output_type": "display_data",
          "data": {
            "image/png": "[encoded data removed]",
            "text/plain": [
              "<Figure size 648x360 with 3 Axes>"
            ]
          },
          "metadata": {
            "tags": [],
            "needs_background": "light"
          }
        }
      ]
    },
    {
      "cell_type": "code",
      "metadata": {
        "id": "bfou3DLydamN",
        "colab_type": "code",
        "colab": {
          "base_uri": "https://localhost:8080/",
          "height": 331
        },
        "outputId": "61bb9dec-aace-42bb-a4ba-08651069d446"
      },
      "source": [
        "train_images = train_image/255\n",
        "test_images = test_image/255\n",
        "\n",
        "fig, axes = plt.subplots(figsize=(9,5))\n",
        "\n",
        "plt.subplot(2,2,1)\n",
        "plt.imshow(train_images[0])\n",
        "plt.title('(Scaled) Label: %.f' %train_label[0])\n",
        "\n",
        "\n",
        "plt.subplot(2,2,2)\n",
        "plt.imshow(train_image[0])\n",
        "plt.title('Label: %.f' %train_label[0])\n",
        "\n",
        "\n",
        "plt.subplot(2,2,3)\n",
        "plt.imshow(test_images[700])\n",
        "plt.title('(Scaled) Label: %.f' %test_label[700])\n",
        "\n",
        "\n",
        "plt.subplot(2,2,4)\n",
        "plt.imshow(test_image[700])\n",
        "plt.title('Label: %.f' %test_label[700])\n",
        "\n",
        "fig.tight_layout(pad=3.0)"
      ],
      "execution_count": 16,
      "outputs": [
        {
          "output_type": "display_data",
          "data": {
            "image/png": "[encoded data removed]",
            "text/plain": [
              "<Figure size 648x360 with 4 Axes>"
            ]
          },
          "metadata": {
            "tags": [],
            "needs_background": "light"
          }
        }
      ]
    },
    {
      "cell_type": "markdown",
      "metadata": {
        "id": "nJ2x2PYpfdWo",
        "colab_type": "text"
      },
      "source": [
        "## Modal Analysis Preparation"
      ]
    },
    {
      "cell_type": "code",
      "metadata": {
        "id": "WYgCRpM1gqfD",
        "colab_type": "code",
        "colab": {}
      },
      "source": [
        "x_train = train_images[0:50000]\n",
        "x_val = train_images[50000:]\n",
        "y_train = train_label[0:50000]\n",
        "y_val = train_label[50000:]"
      ],
      "execution_count": 17,
      "outputs": []
    },
    {
      "cell_type": "code",
      "metadata": {
        "id": "t-IKMmHght-g",
        "colab_type": "code",
        "colab": {}
      },
      "source": [
        "new_dimension = np.prod(train_images.shape[1:])\n",
        "x_train = x_train.reshape(x_train.shape[0], new_dimension)\n",
        "x_val = x_val.reshape(x_val.shape[0], new_dimension)\n",
        "test_images = test_images.reshape(test_images.shape[0], new_dimension)"
      ],
      "execution_count": 18,
      "outputs": []
    },
    {
      "cell_type": "code",
      "metadata": {
        "id": "Rqd4rOMYyOUN",
        "colab_type": "code",
        "colab": {}
      },
      "source": [
        "#!pip install --upgrade tensorflow"
      ],
      "execution_count": 19,
      "outputs": []
    },
    {
      "cell_type": "code",
      "metadata": {
        "id": "Z6ayMBwOjaPn",
        "colab_type": "code",
        "colab": {}
      },
      "source": [
        "from tensorflow.keras.utils import to_categorical\n",
        "no_label = 10\n",
        "y_trains = to_categorical(y_train, no_label)\n",
        "y_vals = to_categorical(y_val, no_label)\n",
        "y_test = to_categorical(test_label, no_label)"
      ],
      "execution_count": 20,
      "outputs": []
    },
    {
      "cell_type": "markdown",
      "metadata": {
        "id": "fVtAAJQXDrYV",
        "colab_type": "text"
      },
      "source": [
        "## Activation Funtion & Hyperparameter Tweaking"
      ]
    },
    {
      "cell_type": "code",
      "metadata": {
        "id": "dv-9Ud1NvnF3",
        "colab_type": "code",
        "colab": {}
      },
      "source": [
        "#!pip install tensorflow==1.4.0"
      ],
      "execution_count": 21,
      "outputs": []
    },
    {
      "cell_type": "code",
      "metadata": {
        "id": "SBdPWxnoxD0T",
        "colab_type": "code",
        "colab": {
          "base_uri": "https://localhost:8080/",
          "height": 88
        },
        "outputId": "7238d9c1-d954-4e1f-a691-85e707764d48"
      },
      "source": [
        "import tensorflow.compat.v1 as tens\n",
        "tens.disable_v2_behavior()"
      ],
      "execution_count": 22,
      "outputs": [
        {
          "output_type": "stream",
          "text": [
            "WARNING:tensorflow:From /usr/local/lib/python3.6/dist-packages/tensorflow/python/compat/v2_compat.py:96: disable_resource_variables (from tensorflow.python.ops.variable_scope) is deprecated and will be removed in a future version.\n",
            "Instructions for updating:\n",
            "non-resource variables are not supported in the long term\n"
          ],
          "name": "stdout"
        }
      ]
    },
    {
      "cell_type": "code",
      "metadata": {
        "id": "QWB-rdJPdzF6",
        "colab_type": "code",
        "colab": {}
      },
      "source": [
        "X = tens.placeholder(tens.float32, [None, new_dimension])\n",
        "Y = tens.placeholder(tens.float32, [None, no_label])"
      ],
      "execution_count": 23,
      "outputs": []
    },
    {
      "cell_type": "code",
      "metadata": {
        "id": "hHfbshyNxVbg",
        "colab_type": "code",
        "colab": {}
      },
      "source": [
        "def multilayer_perceptron(x, no_class, first_layer_neuron = 256, second_layer_neuron = 128):\n",
        "  # First Layer\n",
        "  first_weight = tens.Variable(tens.random_uniform([new_dimension, first_layer_neuron]))\n",
        "  first_bais = tens.Variable(tens.zeros([first_layer_neuron]))\n",
        "  first_layer_output = tens.nn.relu(tens.add(tens.matmul(x, first_weight), first_bais))\n",
        "\n",
        "  # Second Layer\n",
        "  second_weight = tens.Variable(tens.random_uniform([first_layer_neuron, second_layer_neuron]))\n",
        "  second_bais = tens.Variable(tens.zeros([second_layer_neuron]))\n",
        "  second_layer_output = tens.nn.relu(tens.add(tens.matmul(first_layer_output, second_weight), second_bais))\n",
        "\n",
        "  # Output Layer\n",
        "  final_weight = tens.Variable(tens.random_uniform([second_layer_neuron, no_class]))\n",
        "  final_bais = tens.Variable(tens.zeros([no_class]))\n",
        "  logits =tens.add(tens.matmul(second_layer_output, final_weight), final_bais)\n",
        "\n",
        "  return logits\n",
        "\n",
        "logits = multilayer_perceptron(X, no_label)"
      ],
      "execution_count": 24,
      "outputs": []
    },
    {
      "cell_type": "code",
      "metadata": {
        "id": "rNOEH5c-BCIH",
        "colab_type": "code",
        "colab": {
          "base_uri": "https://localhost:8080/",
          "height": 173
        },
        "outputId": "51712b68-5622-47c8-e299-9d733ad4d59d"
      },
      "source": [
        "learning_rate = 0.01\n",
        "# The loss and optimiser for the network are defined\n",
        "loss_op = tens.reduce_mean(tens.nn.softmax_cross_entropy_with_logits(logits=logits, labels=Y))\n",
        "optimizer = tens.train.AdamOptimizer(learning_rate= learning_rate)\n",
        "train_ops = optimizer.minimize(loss_op)"
      ],
      "execution_count": 25,
      "outputs": [
        {
          "output_type": "stream",
          "text": [
            "WARNING:tensorflow:From /usr/local/lib/python3.6/dist-packages/tensorflow/python/util/dispatch.py:201: softmax_cross_entropy_with_logits (from tensorflow.python.ops.nn_ops) is deprecated and will be removed in a future version.\n",
            "Instructions for updating:\n",
            "\n",
            "Future major versions of TensorFlow will allow gradients to flow\n",
            "into the labels input on backprop by default.\n",
            "\n",
            "See `tf.nn.softmax_cross_entropy_with_logits_v2`.\n",
            "\n"
          ],
          "name": "stdout"
        }
      ]
    },
    {
      "cell_type": "code",
      "metadata": {
        "id": "feV_XrhSFJne",
        "colab_type": "code",
        "colab": {}
      },
      "source": [
        "# Initialised the variable\n",
        "init = tens.global_variables_initializer()\n",
        "\n",
        "epochs = 20\n",
        "batch_size = 1000\n",
        "iteration = len(x_train) // batch_size"
      ],
      "execution_count": 26,
      "outputs": []
    },
    {
      "cell_type": "code",
      "metadata": {
        "id": "p-DTCBHPGABP",
        "colab_type": "code",
        "colab": {
          "base_uri": "https://localhost:8080/",
          "height": 374
        },
        "outputId": "02b63d08-de2f-4de8-95c5-bbedaa14728a"
      },
      "source": [
        "# Training the model\n",
        "with tens.Session() as session:\n",
        "  session.run(init)\n",
        "  for epoch in range(epochs):\n",
        "    average_cost = 0\n",
        "    start, end = 0, batch_size\n",
        "\n",
        "    for i in range(iteration):\n",
        "      batch_x, batch_y = x_train[start: end], y_trains[start: end]\n",
        "      _, loss = session.run([train_ops, loss_op], feed_dict={X: batch_x, Y: batch_y})\n",
        "      start += batch_size\n",
        "      end += batch_size\n",
        "      # Average loss\n",
        "      average_cost += loss/iteration\n",
        "    print('Epoch ============= {}'.format(epoch))\n",
        "\n",
        "  # Evaluation Model\n",
        "  prediction = tens.nn.softmax(logits)\n",
        "  ground_truth = tens.equal(tens.argmax(prediction, 1), tens.argmax(Y, 1))\n",
        "  accuracy = tens.reduce_mean(tens.cast(ground_truth, 'float'))\n",
        "  #session = get_default_session()\n",
        "  print('Accuracy: {}'.format(accuracy.eval({X: test_images, Y: y_test})))"
      ],
      "execution_count": 27,
      "outputs": [
        {
          "output_type": "stream",
          "text": [
            "Epoch ============= 0\n",
            "Epoch ============= 1\n",
            "Epoch ============= 2\n",
            "Epoch ============= 3\n",
            "Epoch ============= 4\n",
            "Epoch ============= 5\n",
            "Epoch ============= 6\n",
            "Epoch ============= 7\n",
            "Epoch ============= 8\n",
            "Epoch ============= 9\n",
            "Epoch ============= 10\n",
            "Epoch ============= 11\n",
            "Epoch ============= 12\n",
            "Epoch ============= 13\n",
            "Epoch ============= 14\n",
            "Epoch ============= 15\n",
            "Epoch ============= 16\n",
            "Epoch ============= 17\n",
            "Epoch ============= 18\n",
            "Epoch ============= 19\n",
            "Accuracy: 0.8985999822616577\n"
          ],
          "name": "stdout"
        }
      ]
    },
    {
      "cell_type": "markdown",
      "metadata": {
        "id": "eYmDdq8YEEhs",
        "colab_type": "text"
      },
      "source": [
        "## Deep Learning Modelling Analysis"
      ]
    },
    {
      "cell_type": "code",
      "metadata": {
        "id": "yo7X4lwPKjuB",
        "colab_type": "code",
        "colab": {
          "base_uri": "https://localhost:8080/",
          "height": 819
        },
        "outputId": "29b2772f-da5e-46b1-f5ed-90a0e58a4766"
      },
      "source": [
        "# Building a Sequential feed forward using Keras\n",
        "\n",
        "from tensorflow.keras.layers import Dense\n",
        "from tensorflow.keras.models import Sequential\n",
        "\n",
        "#model = Sequential()\n",
        "# model.add(Dense(256, activation='relu', input_shape=(new_dimension,)))\n",
        "#model.add(Flatten(input_shape=(28,28)))\n",
        "#model.add(Dense(128, activation='relu'))\n",
        "#model.add(Dense(no_label, activation= 'softmax'))\n",
        "model = keras.Sequential([\n",
        "      keras.layers.Flatten(input_shape=(new_dimension,)), # this here is our first layer; \"Input layer\"\n",
        "      keras.layers.Dense(128, activation='relu'), # this is the second layer, Dense - each neurone/node is connected to other neurons in the next network\n",
        "      keras.layers.Dense(no_label,activation='softmax') ])# Output layer to produce expected 10 neurons\n",
        "\n",
        "model.compile(optimizer= 'adam', loss=\"sparse_categorical_crossentropy\",\n",
        "              metrics= ['accuracy'])\n",
        "\n",
        "history = model.fit(x_train, y_train, validation_data = (x_val, y_val), epochs=20, batch_size = 1000)\n",
        "test_loss, test_accuracy = model.evaluate(test_images, test_label)\n",
        "print('Test loss: {}'.format(test_loss))\n",
        "print('Test accuracy: {}'.format(test_accuracy))"
      ],
      "execution_count": 28,
      "outputs": [
        {
          "output_type": "stream",
          "text": [
            "Train on 50000 samples, validate on 10000 samples\n",
            "Epoch 1/20\n",
            "50000/50000 [==============================] - ETA: 0s - loss: 0.8840 - acc: 0.7641WARNING:tensorflow:From /usr/local/lib/python3.6/dist-packages/tensorflow/python/keras/engine/training_v1.py:2048: Model.state_updates (from tensorflow.python.keras.engine.training) is deprecated and will be removed in a future version.\n",
            "Instructions for updating:\n",
            "This property should not be used in TensorFlow 2.0, as updates are applied automatically.\n",
            "50000/50000 [==============================] - 0s 7us/sample - loss: 0.8840 - acc: 0.7641 - val_loss: 0.3589 - val_acc: 0.9038\n",
            "Epoch 2/20\n",
            "50000/50000 [==============================] - 0s 6us/sample - loss: 0.3368 - acc: 0.9065 - val_loss: 0.2723 - val_acc: 0.9272\n",
            "Epoch 3/20\n",
            "50000/50000 [==============================] - 0s 7us/sample - loss: 0.2690 - acc: 0.9258 - val_loss: 0.2299 - val_acc: 0.9398\n",
            "Epoch 4/20\n",
            "50000/50000 [==============================] - 0s 7us/sample - loss: 0.2297 - acc: 0.9369 - val_loss: 0.2039 - val_acc: 0.9459\n",
            "Epoch 5/20\n",
            "50000/50000 [==============================] - 0s 7us/sample - loss: 0.2024 - acc: 0.9438 - val_loss: 0.1871 - val_acc: 0.9498\n",
            "Epoch 6/20\n",
            "50000/50000 [==============================] - 0s 7us/sample - loss: 0.1805 - acc: 0.9494 - val_loss: 0.1713 - val_acc: 0.9536\n",
            "Epoch 7/20\n",
            "50000/50000 [==============================] - 0s 6us/sample - loss: 0.1620 - acc: 0.9548 - val_loss: 0.1583 - val_acc: 0.9583\n",
            "Epoch 8/20\n",
            "50000/50000 [==============================] - 0s 6us/sample - loss: 0.1474 - acc: 0.9590 - val_loss: 0.1469 - val_acc: 0.9605\n",
            "Epoch 9/20\n",
            "50000/50000 [==============================] - 0s 7us/sample - loss: 0.1342 - acc: 0.9634 - val_loss: 0.1396 - val_acc: 0.9614\n",
            "Epoch 10/20\n",
            "50000/50000 [==============================] - 0s 7us/sample - loss: 0.1229 - acc: 0.9659 - val_loss: 0.1329 - val_acc: 0.9634\n",
            "Epoch 11/20\n",
            "50000/50000 [==============================] - 0s 7us/sample - loss: 0.1126 - acc: 0.9693 - val_loss: 0.1270 - val_acc: 0.9651\n",
            "Epoch 12/20\n",
            "50000/50000 [==============================] - 0s 7us/sample - loss: 0.1047 - acc: 0.9716 - val_loss: 0.1201 - val_acc: 0.9652\n",
            "Epoch 13/20\n",
            "50000/50000 [==============================] - 0s 6us/sample - loss: 0.0968 - acc: 0.9738 - val_loss: 0.1140 - val_acc: 0.9678\n",
            "Epoch 14/20\n",
            "50000/50000 [==============================] - 0s 6us/sample - loss: 0.0894 - acc: 0.9755 - val_loss: 0.1105 - val_acc: 0.9690\n",
            "Epoch 15/20\n",
            "50000/50000 [==============================] - 0s 7us/sample - loss: 0.0829 - acc: 0.9780 - val_loss: 0.1100 - val_acc: 0.9694\n",
            "Epoch 16/20\n",
            "50000/50000 [==============================] - 0s 6us/sample - loss: 0.0778 - acc: 0.9795 - val_loss: 0.1038 - val_acc: 0.9699\n",
            "Epoch 17/20\n",
            "50000/50000 [==============================] - 0s 7us/sample - loss: 0.0718 - acc: 0.9808 - val_loss: 0.1018 - val_acc: 0.9704\n",
            "Epoch 18/20\n",
            "50000/50000 [==============================] - 0s 7us/sample - loss: 0.0675 - acc: 0.9821 - val_loss: 0.0983 - val_acc: 0.9718\n",
            "Epoch 19/20\n",
            "50000/50000 [==============================] - 0s 7us/sample - loss: 0.0630 - acc: 0.9837 - val_loss: 0.0967 - val_acc: 0.9730\n",
            "Epoch 20/20\n",
            "50000/50000 [==============================] - 0s 7us/sample - loss: 0.0593 - acc: 0.9843 - val_loss: 0.0944 - val_acc: 0.9728\n",
            "Test loss: 0.0890765014976263\n",
            "Test accuracy: 0.9732000231742859\n"
          ],
          "name": "stdout"
        }
      ]
    },
    {
      "cell_type": "markdown",
      "metadata": {
        "id": "Q4j9RTWqEc_T",
        "colab_type": "text"
      },
      "source": [
        "#### Loss Function Plot For All Neuron Network"
      ]
    },
    {
      "cell_type": "code",
      "metadata": {
        "id": "zwLkej9LSLc_",
        "colab_type": "code",
        "colab": {
          "base_uri": "https://localhost:8080/",
          "height": 312
        },
        "outputId": "c9e2889e-1e41-4d4b-d179-1763c944a686"
      },
      "source": [
        "# Check for Overfitting \n",
        "plt.figure()\n",
        "plt.plot(history.history['loss'], 'blue')\n",
        "plt.plot(history.history['val_loss'], 'red')\n",
        "plt.legend(['Training_loss', 'Validation loss'])\n",
        "plt.xlabel('Epochs')\n",
        "plt.ylabel('Loss')\n",
        "plt.title('Loss curve - Before regularisation')"
      ],
      "execution_count": 29,
      "outputs": [
        {
          "output_type": "execute_result",
          "data": {
            "text/plain": [
              "Text(0.5, 1.0, 'Loss curve - Before regularisation')"
            ]
          },
          "metadata": {
            "tags": []
          },
          "execution_count": 29
        },
        {
          "output_type": "display_data",
          "data": {
            "image/png": "[encoded data removed]",
            "text/plain": [
              "<Figure size 432x288 with 1 Axes>"
            ]
          },
          "metadata": {
            "tags": [],
            "needs_background": "light"
          }
        }
      ]
    },
    {
      "cell_type": "markdown",
      "metadata": {
        "id": "iykCaQZ2E0br",
        "colab_type": "text"
      },
      "source": [
        "## Optimised Analysis Model"
      ]
    },
    {
      "cell_type": "markdown",
      "metadata": {
        "id": "bpHHI9svE_Hf",
        "colab_type": "text"
      },
      "source": [
        "##### Explanation!!!\n",
        "\n",
        "```\n",
        "# The model drops off irrelevant neuron connection i.e it take the necessary neurons between input and output variable\n",
        "```\n",
        "\n"
      ]
    },
    {
      "cell_type": "code",
      "metadata": {
        "id": "6x3k6IywTlpv",
        "colab_type": "code",
        "colab": {
          "base_uri": "https://localhost:8080/",
          "height": 748
        },
        "outputId": "8c6dc574-160b-44b8-a6e5-0d9e13fa4576"
      },
      "source": [
        "# Although the validation and training loss seems great, we can as well see that the validation loss increases.\n",
        "# With this that we have observed, it identifies overfitting in our network. How do we proceed?\n",
        "\n",
        "# We proceed by introducing Regularisation to the model.\n",
        "\n",
        "from tensorflow.keras.layers import Dropout\n",
        "\n",
        "regularised = Sequential()\n",
        "regularised.add(Dense(256, activation='relu', input_shape=(new_dimension,)))\n",
        "regularised.add(Dropout(0.4))\n",
        "regularised.add(Dense(128, activation='relu'))\n",
        "regularised.add(Dropout(0.4))\n",
        "regularised.add(Dense(no_label, activation='softmax'))\n",
        "\n",
        "regularised.compile(optimizer='adam', loss=tens.keras.losses.sparse_categorical_crossentropy,\n",
        "                    metrics=['accuracy'])\n",
        "reg_history = regularised.fit(x_train, y_train, validation_data=(x_val, y_val), epochs = 20, batch_size=1000)\n",
        "test_loss, test_accuracy = regularised.evaluate(test_images, test_label)\n",
        "print('Test loss: {}'.format(test_loss))\n",
        "print('Test accuracy: {}'.format(test_accuracy))"
      ],
      "execution_count": 30,
      "outputs": [
        {
          "output_type": "stream",
          "text": [
            "Train on 50000 samples, validate on 10000 samples\n",
            "Epoch 1/20\n",
            "50000/50000 [==============================] - 0s 9us/sample - loss: 0.9462 - acc: 0.6969 - val_loss: 0.2957 - val_acc: 0.9145\n",
            "Epoch 2/20\n",
            "50000/50000 [==============================] - 0s 8us/sample - loss: 0.3750 - acc: 0.8879 - val_loss: 0.2043 - val_acc: 0.9428\n",
            "Epoch 3/20\n",
            "50000/50000 [==============================] - 0s 8us/sample - loss: 0.2809 - acc: 0.9184 - val_loss: 0.1587 - val_acc: 0.9550\n",
            "Epoch 4/20\n",
            "50000/50000 [==============================] - 0s 8us/sample - loss: 0.2269 - acc: 0.9340 - val_loss: 0.1341 - val_acc: 0.9616\n",
            "Epoch 5/20\n",
            "50000/50000 [==============================] - 0s 8us/sample - loss: 0.1953 - acc: 0.9428 - val_loss: 0.1233 - val_acc: 0.9645\n",
            "Epoch 6/20\n",
            "50000/50000 [==============================] - 0s 8us/sample - loss: 0.1740 - acc: 0.9500 - val_loss: 0.1095 - val_acc: 0.9680\n",
            "Epoch 7/20\n",
            "50000/50000 [==============================] - 0s 8us/sample - loss: 0.1565 - acc: 0.9537 - val_loss: 0.1034 - val_acc: 0.9703\n",
            "Epoch 8/20\n",
            "50000/50000 [==============================] - 0s 8us/sample - loss: 0.1415 - acc: 0.9579 - val_loss: 0.0953 - val_acc: 0.9734\n",
            "Epoch 9/20\n",
            "50000/50000 [==============================] - 0s 8us/sample - loss: 0.1332 - acc: 0.9607 - val_loss: 0.0908 - val_acc: 0.9742\n",
            "Epoch 10/20\n",
            "50000/50000 [==============================] - 0s 8us/sample - loss: 0.1193 - acc: 0.9651 - val_loss: 0.0872 - val_acc: 0.9751\n",
            "Epoch 11/20\n",
            "50000/50000 [==============================] - 0s 8us/sample - loss: 0.1088 - acc: 0.9676 - val_loss: 0.0868 - val_acc: 0.9742\n",
            "Epoch 12/20\n",
            "50000/50000 [==============================] - 0s 7us/sample - loss: 0.1033 - acc: 0.9691 - val_loss: 0.0825 - val_acc: 0.9755\n",
            "Epoch 13/20\n",
            "50000/50000 [==============================] - 0s 8us/sample - loss: 0.0977 - acc: 0.9704 - val_loss: 0.0808 - val_acc: 0.9752\n",
            "Epoch 14/20\n",
            "50000/50000 [==============================] - 0s 8us/sample - loss: 0.0916 - acc: 0.9723 - val_loss: 0.0772 - val_acc: 0.9776\n",
            "Epoch 15/20\n",
            "50000/50000 [==============================] - 0s 8us/sample - loss: 0.0834 - acc: 0.9746 - val_loss: 0.0770 - val_acc: 0.9779\n",
            "Epoch 16/20\n",
            "50000/50000 [==============================] - 0s 8us/sample - loss: 0.0809 - acc: 0.9754 - val_loss: 0.0731 - val_acc: 0.9774\n",
            "Epoch 17/20\n",
            "50000/50000 [==============================] - 0s 8us/sample - loss: 0.0759 - acc: 0.9758 - val_loss: 0.0751 - val_acc: 0.9785\n",
            "Epoch 18/20\n",
            "50000/50000 [==============================] - 0s 8us/sample - loss: 0.0740 - acc: 0.9781 - val_loss: 0.0747 - val_acc: 0.9786\n",
            "Epoch 19/20\n",
            "50000/50000 [==============================] - 0s 8us/sample - loss: 0.0701 - acc: 0.9781 - val_loss: 0.0745 - val_acc: 0.9788\n",
            "Epoch 20/20\n",
            "50000/50000 [==============================] - 0s 8us/sample - loss: 0.0670 - acc: 0.9788 - val_loss: 0.0714 - val_acc: 0.9788\n",
            "Test loss: 0.06935507451657905\n",
            "Test accuracy: 0.9801999926567078\n"
          ],
          "name": "stdout"
        }
      ]
    },
    {
      "cell_type": "markdown",
      "metadata": {
        "id": "6W5xz-vcFuZ8",
        "colab_type": "text"
      },
      "source": [
        "#### Loss Function Plot For The Undropped (optimised) Network "
      ]
    },
    {
      "cell_type": "code",
      "metadata": {
        "id": "h-M8NDriYSX0",
        "colab_type": "code",
        "colab": {
          "base_uri": "https://localhost:8080/",
          "height": 312
        },
        "outputId": "23abc300-b9a4-4bd8-f528-9d91fdbda5a9"
      },
      "source": [
        "plt.figure()\n",
        "plt.plot(reg_history.history['loss'], 'blue')\n",
        "plt.plot(reg_history.history['val_loss'], 'red')\n",
        "plt.legend(['Training loss', 'Validation loss'])\n",
        "plt.xlabel('Epochs')\n",
        "plt.ylabel('Loss')\n",
        "plt.title('Loss Curve - After regularisation')"
      ],
      "execution_count": 31,
      "outputs": [
        {
          "output_type": "execute_result",
          "data": {
            "text/plain": [
              "Text(0.5, 1.0, 'Loss Curve - After regularisation')"
            ]
          },
          "metadata": {
            "tags": []
          },
          "execution_count": 31
        },
        {
          "output_type": "display_data",
          "data": {
            "image/png": "[encoded data removed]",
            "text/plain": [
              "<Figure size 432x288 with 1 Axes>"
            ]
          },
          "metadata": {
            "tags": [],
            "needs_background": "light"
          }
        }
      ]
    },
    {
      "cell_type": "markdown",
      "metadata": {
        "id": "30kqb2BMGTV5",
        "colab_type": "text"
      },
      "source": [
        "## Prediction & Comparison"
      ]
    },
    {
      "cell_type": "code",
      "metadata": {
        "id": "7c1ZYhHNGTAH",
        "colab_type": "code",
        "colab": {
          "base_uri": "https://localhost:8080/",
          "height": 298
        },
        "outputId": "6aeba486-3bef-4c35-bc25-c8fd99af1f07"
      },
      "source": [
        "pred = model.predict(test_images)\n",
        "print('Prediction for label index 50 is: %.f'% np.argmax(pred[50]))\n",
        "\n",
        "plt.imshow(test_image[50])\n",
        "plt.title('Actual Label for index 50: %.f'%test_label[50])\n",
        "plt.show()"
      ],
      "execution_count": 32,
      "outputs": [
        {
          "output_type": "stream",
          "text": [
            "Prediction for label index 50 is: 6\n"
          ],
          "name": "stdout"
        },
        {
          "output_type": "display_data",
          "data": {
            "image/png": "[encoded data removed]",
            "text/plain": [
              "<Figure size 432x288 with 1 Axes>"
            ]
          },
          "metadata": {
            "tags": [],
            "needs_background": "light"
          }
        }
      ]
    },
    {
      "cell_type": "markdown",
      "metadata": {
        "id": "p47d38fjHC2L",
        "colab_type": "text"
      },
      "source": [
        "#### Plot Comparison Between Actual Label and Predicted Label"
      ]
    },
    {
      "cell_type": "code",
      "metadata": {
        "id": "Vxq-YnyuHAcl",
        "colab_type": "code",
        "colab": {
          "base_uri": "https://localhost:8080/",
          "height": 1000
        },
        "outputId": "b9d7e133-430d-4346-b7f2-77c88453c61f"
      },
      "source": [
        "label_names = ['Zero', 'One', 'Two', 'Three', 'Four', 'Five', 'Six', 'Seven', 'Eight', 'Nine']\n",
        "\n",
        "for i in range(len(label_names)):\n",
        "  plt.figure(figsize = (9,5))\n",
        "  \n",
        "  #plt.subplot(1,1,(i+1))\n",
        "  plt.imshow(test_image[i], cmap = None)\n",
        "  plt.title('Actual Label: ' + label_names[test_label[i]])\n",
        "  plt.xlabel('Predicted Label: ' + label_names[np.argmax(pred[i])])\n",
        "  plt.show()"
      ],
      "execution_count": 33,
      "outputs": [
        {
          "output_type": "display_data",
          "data": {
            "image/png": "[encoded data removed]",
            "text/plain": [
              "<Figure size 648x360 with 1 Axes>"
            ]
          },
          "metadata": {
            "tags": [],
            "needs_background": "light"
          }
        },
        {
          "output_type": "display_data",
          "data": {
            "image/png": "[encoded data removed]",
            "text/plain": [
              "<Figure size 648x360 with 1 Axes>"
            ]
          },
          "metadata": {
            "tags": [],
            "needs_background": "light"
          }
        },
        {
          "output_type": "display_data",
          "data": {
            "image/png": "[encoded data removed]",
            "text/plain": [
              "<Figure size 648x360 with 1 Axes>"
            ]
          },
          "metadata": {
            "tags": [],
            "needs_background": "light"
          }
        },
        {
          "output_type": "display_data",
          "data": {
            "image/png": "[encoded data removed]",
            "text/plain": [
              "<Figure size 648x360 with 1 Axes>"
            ]
          },
          "metadata": {
            "tags": [],
            "needs_background": "light"
          }
        },
        {
          "output_type": "display_data",
          "data": {
            "image/png": "[encoded data removed]",
            "text/plain": [
              "<Figure size 648x360 with 1 Axes>"
            ]
          },
          "metadata": {
            "tags": [],
            "needs_background": "light"
          }
        },
        {
          "output_type": "display_data",
          "data": {
            "image/png": "[encoded data removed]",
            "text/plain": [
              "<Figure size 648x360 with 1 Axes>"
            ]
          },
          "metadata": {
            "tags": [],
            "needs_background": "light"
          }
        },
        {
          "output_type": "display_data",
          "data": {
            "image/png": "[encoded data removed]",
            "text/plain": [
              "<Figure size 648x360 with 1 Axes>"
            ]
          },
          "metadata": {
            "tags": [],
            "needs_background": "light"
          }
        },
        {
          "output_type": "display_data",
          "data": {
            "image/png": "[encoded data removed]",
            "text/plain": [
              "<Figure size 648x360 with 1 Axes>"
            ]
          },
          "metadata": {
            "tags": [],
            "needs_background": "light"
          }
        },
        {
          "output_type": "display_data",
          "data": {
            "image/png": "[encoded data removed]",
            "text/plain": [
              "<Figure size 648x360 with 1 Axes>"
            ]
          },
          "metadata": {
            "tags": [],
            "needs_background": "light"
          }
        },
        {
          "output_type": "display_data",
          "data": {
            "image/png": "[encoded data removed]",
            "text/plain": [
              "<Figure size 648x360 with 1 Axes>"
            ]
          },
          "metadata": {
            "tags": [],
            "needs_background": "light"
          }
        }
      ]
    },
    {
      "cell_type": "markdown",
      "metadata": {
        "id": "W-joBOi3THIs",
        "colab_type": "text"
      },
      "source": [
        "#### Checks for Improvement With Optimised Model"
      ]
    },
    {
      "cell_type": "code",
      "metadata": {
        "colab_type": "code",
        "id": "c6j4okuwTYP3",
        "colab": {
          "base_uri": "https://localhost:8080/",
          "height": 298
        },
        "outputId": "bbf1d5ed-2d31-49e8-a3e3-4364c9022143"
      },
      "source": [
        "preds = regularised.predict(test_images)\n",
        "print('Prediction for label index 50 is: %.f'% np.argmax(preds[50]))\n",
        "\n",
        "plt.imshow(test_image[50])\n",
        "plt.title('Actual Label for index 50: %.f'%test_label[50])\n",
        "plt.show()"
      ],
      "execution_count": 34,
      "outputs": [
        {
          "output_type": "stream",
          "text": [
            "Prediction for label index 50 is: 6\n"
          ],
          "name": "stdout"
        },
        {
          "output_type": "display_data",
          "data": {
            "image/png": "[encoded data removed]",
            "text/plain": [
              "<Figure size 432x288 with 1 Axes>"
            ]
          },
          "metadata": {
            "tags": [],
            "needs_background": "light"
          }
        }
      ]
    },
    {
      "cell_type": "code",
      "metadata": {
        "colab_type": "code",
        "id": "aSNmoP21TN77",
        "colab": {
          "base_uri": "https://localhost:8080/",
          "height": 1000
        },
        "outputId": "62c1f08c-3d9b-435d-d045-d503a9221171"
      },
      "source": [
        "label_names = ['Zero', 'One', 'Two', 'Three', 'Four', 'Five', 'Six', 'Seven', 'Eight', 'Nine']\n",
        "\n",
        "for i in range(len(label_names)):\n",
        "  plt.figure(figsize = (9,5))\n",
        "  \n",
        "  #plt.subplot(1,1,(i+1))\n",
        "  plt.imshow(test_image[i], cmap = None)\n",
        "  plt.title('Actual Label: ' + label_names[test_label[i]])\n",
        "  plt.xlabel('Predicted Label: ' + label_names[np.argmax(preds[i])])\n",
        "  plt.show()"
      ],
      "execution_count": 35,
      "outputs": [
        {
          "output_type": "display_data",
          "data": {
            "image/png": "[encoded data removed]",
            "text/plain": [
              "<Figure size 648x360 with 1 Axes>"
            ]
          },
          "metadata": {
            "tags": [],
            "needs_background": "light"
          }
        },
        {
          "output_type": "display_data",
          "data": {
            "image/png": "[encoded data removed]",
            "text/plain": [
              "<Figure size 648x360 with 1 Axes>"
            ]
          },
          "metadata": {
            "tags": [],
            "needs_background": "light"
          }
        },
        {
          "output_type": "display_data",
          "data": {
            "image/png": "[encoded data removed]",
            "text/plain": [
              "<Figure size 648x360 with 1 Axes>"
            ]
          },
          "metadata": {
            "tags": [],
            "needs_background": "light"
          }
        },
        {
          "output_type": "display_data",
          "data": {
            "image/png": "[encoded data removed]",
            "text/plain": [
              "<Figure size 648x360 with 1 Axes>"
            ]
          },
          "metadata": {
            "tags": [],
            "needs_background": "light"
          }
        },
        {
          "output_type": "display_data",
          "data": {
            "image/png": "[encoded data removed]",
            "text/plain": [
              "<Figure size 648x360 with 1 Axes>"
            ]
          },
          "metadata": {
            "tags": [],
            "needs_background": "light"
          }
        },
        {
          "output_type": "display_data",
          "data": {
            "image/png": "[encoded data removed]",
            "text/plain": [
              "<Figure size 648x360 with 1 Axes>"
            ]
          },
          "metadata": {
            "tags": [],
            "needs_background": "light"
          }
        },
        {
          "output_type": "display_data",
          "data": {
            "image/png": "[encoded data removed]",
            "text/plain": [
              "<Figure size 648x360 with 1 Axes>"
            ]
          },
          "metadata": {
            "tags": [],
            "needs_background": "light"
          }
        },
        {
          "output_type": "display_data",
          "data": {
            "image/png": "[encoded data removed]",
            "text/plain": [
              "<Figure size 648x360 with 1 Axes>"
            ]
          },
          "metadata": {
            "tags": [],
            "needs_background": "light"
          }
        },
        {
          "output_type": "display_data",
          "data": {
            "image/png": "[encoded data removed]",
            "text/plain": [
              "<Figure size 648x360 with 1 Axes>"
            ]
          },
          "metadata": {
            "tags": [],
            "needs_background": "light"
          }
        },
        {
          "output_type": "display_data",
          "data": {
            "image/png": "[encoded data removed]",
            "text/plain": [
              "<Figure size 648x360 with 1 Axes>"
            ]
          },
          "metadata": {
            "tags": [],
            "needs_background": "light"
          }
        }
      ]
    }
  ]
}